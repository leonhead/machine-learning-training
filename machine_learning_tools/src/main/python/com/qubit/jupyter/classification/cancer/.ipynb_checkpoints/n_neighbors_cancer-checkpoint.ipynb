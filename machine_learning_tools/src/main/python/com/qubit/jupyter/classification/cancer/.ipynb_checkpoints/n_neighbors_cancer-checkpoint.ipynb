{
 "cells": [
  {
   "cell_type": "code",
   "execution_count": 13,
   "metadata": {},
   "outputs": [
    {
     "data": {
      "text/plain": [
       "dict_keys(['data', 'target', 'target_names', 'DESCR', 'feature_names'])"
      ]
     },
     "execution_count": 13,
     "metadata": {},
     "output_type": "execute_result"
    }
   ],
   "source": [
    "from sklearn.datasets import load_breast_cancer\n",
    "\n",
    "cancer = load_breast_cancer()\n",
    "cancer.keys()"
   ]
  },
  {
   "cell_type": "code",
   "execution_count": 26,
   "metadata": {},
   "outputs": [
    {
     "data": {
      "text/plain": [
       "array(['mean radius', 'mean texture', 'mean perimeter', 'mean area',\n",
       "       'mean smoothness', 'mean compactness', 'mean concavity',\n",
       "       'mean concave points', 'mean symmetry', 'mean fractal dimension',\n",
       "       'radius error', 'texture error', 'perimeter error', 'area error',\n",
       "       'smoothness error', 'compactness error', 'concavity error',\n",
       "       'concave points error', 'symmetry error', 'fractal dimension error',\n",
       "       'worst radius', 'worst texture', 'worst perimeter', 'worst area',\n",
       "       'worst smoothness', 'worst compactness', 'worst concavity',\n",
       "       'worst concave points', 'worst symmetry', 'worst fractal dimension'], \n",
       "      dtype='<U23')"
      ]
     },
     "execution_count": 26,
     "metadata": {},
     "output_type": "execute_result"
    }
   ],
   "source": [
    "cancer.feature_names"
   ]
  },
  {
   "cell_type": "code",
   "execution_count": 43,
   "metadata": {
    "collapsed": true
   },
   "outputs": [],
   "source": [
    "from sklearn.model_selection import train_test_split\n",
    "\n",
    "X_train, X_test, y_train, y_test = train_test_split(cancer.data, cancer.target, stratify=cancer.target, random_state=66)"
   ]
  },
  {
   "cell_type": "code",
   "execution_count": 44,
   "metadata": {},
   "outputs": [
    {
     "data": {
      "text/plain": [
       "array([0, 1, 1, 1, 1, 1, 0, 1, 0, 0, 1, 0, 0, 1, 1, 0, 1, 1, 1, 1, 1, 0, 0,\n",
       "       1, 0, 0, 1, 1, 0, 1, 1, 1, 0, 1, 1, 1, 0, 1, 1, 1, 1, 0, 1, 0, 1, 1,\n",
       "       1, 1, 1, 1, 0, 1, 1, 0, 0, 0, 1, 1, 1, 1, 0, 0, 0, 0, 1, 1, 1, 0, 0,\n",
       "       0, 1, 1, 1, 1, 1, 1, 1, 1, 0, 1, 0, 0, 1, 1, 0, 1, 1, 1, 1, 0, 1, 1,\n",
       "       0, 0, 0, 1, 0, 0, 0, 0, 1, 1, 1, 1, 1, 0, 0, 1, 1, 0, 0, 1, 1, 1, 1,\n",
       "       0, 1, 0, 1, 1, 0, 1, 0, 1, 1, 1, 1, 0, 1, 1, 1, 1, 0, 1, 0, 0, 1, 1,\n",
       "       1, 1, 1, 1, 0, 1, 1, 0, 1, 0, 1, 1, 0, 1, 1, 1, 1, 1, 1, 0, 0, 1, 0,\n",
       "       0, 0, 1, 1, 1, 1, 1, 1, 1, 0, 1, 1, 0, 0, 0, 1, 0, 0, 0, 0, 1, 1, 1,\n",
       "       0, 0, 1, 1, 1, 0, 0, 1, 1, 1, 1, 0, 1, 1, 1, 1, 1, 1, 1, 0, 0, 1, 1,\n",
       "       0, 1, 1, 1, 0, 1, 1, 1, 0, 1, 0, 1, 0, 1, 0, 0, 1, 1, 1, 0, 0, 1, 0,\n",
       "       1, 0, 1, 1, 1, 1, 1, 1, 1, 0, 0, 0, 0, 0, 1, 1, 1, 0, 0, 1, 1, 1, 0,\n",
       "       1, 1, 1, 0, 1, 1, 1, 0, 1, 0, 1, 1, 0, 0, 0, 1, 0, 1, 1, 0, 1, 1, 0,\n",
       "       0, 1, 1, 0, 0, 1, 0, 1, 1, 0, 1, 1, 1, 1, 0, 1, 0, 1, 1, 0, 1, 1, 1,\n",
       "       1, 0, 1, 1, 1, 0, 1, 1, 0, 1, 1, 1, 0, 0, 1, 1, 0, 1, 0, 1, 1, 0, 1,\n",
       "       1, 1, 1, 1, 1, 0, 1, 0, 0, 1, 0, 1, 1, 0, 1, 0, 0, 1, 0, 1, 1, 0, 0,\n",
       "       0, 1, 1, 1, 1, 0, 1, 0, 1, 1, 1, 1, 1, 1, 1, 1, 1, 0, 1, 0, 1, 1, 1,\n",
       "       0, 0, 0, 1, 1, 1, 1, 0, 1, 1, 1, 0, 1, 1, 0, 0, 0, 1, 0, 1, 0, 0, 0,\n",
       "       1, 1, 0, 1, 0, 0, 0, 1, 0, 0, 1, 1, 0, 1, 1, 1, 0, 1, 0, 1, 1, 1, 1,\n",
       "       0, 1, 1, 1, 1, 0, 1, 1, 0, 1, 0])"
      ]
     },
     "execution_count": 44,
     "metadata": {},
     "output_type": "execute_result"
    }
   ],
   "source": [
    "y_train[1:]"
   ]
  },
  {
   "cell_type": "code",
   "execution_count": 100,
   "metadata": {
    "collapsed": true
   },
   "outputs": [],
   "source": [
    "from sklearn.neighbors import KNeighborsClassifier\n",
    "\n",
    "training_accuracy = []\n",
    "test_accuracy = []\n",
    "\n",
    "neighbors_settings = range(1,11)\n",
    "\n",
    "for n_neighbors in neighbors_settings:\n",
    "    clf = KNeighborsClassifier(n_neighbors=n_neighbors)\n",
    "    clf.fit(X_train, y_train)\n",
    "    \n",
    "    training_accuracy.append(clf.score(X_train, y_train))\n",
    "    test_accuracy.append(clf.score(X_test, y_test))\n",
    "    "
   ]
  },
  {
   "cell_type": "code",
   "execution_count": 101,
   "metadata": {},
   "outputs": [
    {
     "data": {
      "text/plain": [
       "KNeighborsClassifier(algorithm='auto', leaf_size=30, metric='minkowski',\n",
       "           metric_params=None, n_jobs=1, n_neighbors=10, p=2,\n",
       "           weights='uniform')"
      ]
     },
     "execution_count": 101,
     "metadata": {},
     "output_type": "execute_result"
    }
   ],
   "source": [
    "clf"
   ]
  },
  {
   "cell_type": "code",
   "execution_count": 102,
   "metadata": {},
   "outputs": [
    {
     "data": {
      "text/plain": [
       "<matplotlib.legend.Legend at 0x7fb40d9c0e80>"
      ]
     },
     "execution_count": 102,
     "metadata": {},
     "output_type": "execute_result"
    },
    {
     "data": {
      "image/png": "[encoded data removed]",
      "text/plain": [
       "<matplotlib.figure.Figure at 0x7fb40deb0550>"
      ]
     },
     "metadata": {},
     "output_type": "display_data"
    }
   ],
   "source": [
    "%matplotlib inline\n",
    "import matplotlib.pyplot as plt\n",
    "\n",
    "plt.plot(neighbors_settings, training_accuracy, label=\"Genauigkeit Trainingsdaten\")\n",
    "plt.plot(neighbors_settings, test_accuracy, label=\"Genauigkeit Testdaten\")\n",
    "plt.ylabel(\"Genauigkeit\")\n",
    "plt.xlabel(\"n_neighbors\")\n",
    "plt.legend()"
   ]
  },
  {
   "cell_type": "code",
   "execution_count": 112,
   "metadata": {},
   "outputs": [
    {
     "name": "stdout",
     "output_type": "stream",
     "text": [
      "Fitting 5 folds for each of 10 candidates, totalling 50 fits\n",
      "[CV] n_neighbors=1 ...................................................\n",
      "[CV] .......................... n_neighbors=1, score=0.896552 -   0.0s\n",
      "[Parallel(n_jobs=-1)]: Done   1 out of   1 | elapsed:    0.0s remaining:    0.0s\n",
      "[CV] n_neighbors=1 ...................................................\n",
      "[CV] .......................... n_neighbors=1, score=0.896552 -   0.0s\n",
      "[Parallel(n_jobs=-1)]: Done   2 out of   2 | elapsed:    0.0s remaining:    0.0s\n",
      "[CV] n_neighbors=1 ...................................................\n",
      "[CV] .......................... n_neighbors=1, score=0.862069 -   0.0s\n",
      "[Parallel(n_jobs=-1)]: Done   3 out of   3 | elapsed:    0.0s remaining:    0.0s\n",
      "[CV] n_neighbors=1 ...................................................\n",
      "[CV] .......................... n_neighbors=1, score=0.821429 -   0.0s\n",
      "[Parallel(n_jobs=-1)]: Done   4 out of   4 | elapsed:    0.0s remaining:    0.0s\n",
      "[CV] n_neighbors=1 ...................................................\n",
      "[CV] .......................... n_neighbors=1, score=0.928571 -   0.0s\n",
      "[Parallel(n_jobs=-1)]: Done   5 out of   5 | elapsed:    0.0s remaining:    0.0s\n",
      "[CV] n_neighbors=2 ...................................................\n",
      "[CV] .......................... n_neighbors=2, score=0.931034 -   0.0s\n",
      "[Parallel(n_jobs=-1)]: Done   6 out of   6 | elapsed:    0.0s remaining:    0.0s\n",
      "[CV] n_neighbors=2 ...................................................\n",
      "[CV] .......................... n_neighbors=2, score=0.931034 -   0.0s\n",
      "[Parallel(n_jobs=-1)]: Done   7 out of   7 | elapsed:    0.0s remaining:    0.0s\n",
      "[CV] n_neighbors=2 ...................................................\n",
      "[CV] .......................... n_neighbors=2, score=0.827586 -   0.0s\n",
      "[Parallel(n_jobs=-1)]: Done   8 out of   8 | elapsed:    0.0s remaining:    0.0s\n",
      "[CV] n_neighbors=2 ...................................................\n",
      "[CV] .......................... n_neighbors=2, score=0.892857 -   0.0s\n",
      "[Parallel(n_jobs=-1)]: Done   9 out of   9 | elapsed:    0.0s remaining:    0.0s\n",
      "[CV] n_neighbors=2 ...................................................\n",
      "[CV] .......................... n_neighbors=2, score=0.928571 -   0.0s\n",
      "[Parallel(n_jobs=-1)]: Done  10 out of  10 | elapsed:    0.0s remaining:    0.0s\n",
      "[CV] n_neighbors=3 ...................................................\n",
      "[CV] .......................... n_neighbors=3, score=0.896552 -   0.0s\n",
      "[Parallel(n_jobs=-1)]: Done  11 out of  11 | elapsed:    0.0s remaining:    0.0s\n",
      "[CV] n_neighbors=3 ...................................................\n",
      "[CV] .......................... n_neighbors=3, score=0.896552 -   0.0s\n",
      "[Parallel(n_jobs=-1)]: Done  12 out of  12 | elapsed:    0.0s remaining:    0.0s\n",
      "[CV] n_neighbors=3 ...................................................\n",
      "[CV] .......................... n_neighbors=3, score=0.862069 -   0.0s\n",
      "[Parallel(n_jobs=-1)]: Done  13 out of  13 | elapsed:    0.0s remaining:    0.0s\n",
      "[CV] n_neighbors=3 ...................................................\n",
      "[CV] .......................... n_neighbors=3, score=0.892857 -   0.0s\n",
      "[Parallel(n_jobs=-1)]: Done  14 out of  14 | elapsed:    0.0s remaining:    0.0s\n",
      "[CV] n_neighbors=3 ...................................................\n",
      "[CV] .......................... n_neighbors=3, score=0.964286 -   0.0s\n",
      "[Parallel(n_jobs=-1)]: Done  15 out of  15 | elapsed:    0.0s remaining:    0.0s\n",
      "[CV] n_neighbors=4 ...................................................\n",
      "[CV] .......................... n_neighbors=4, score=0.931034 -   0.0s\n",
      "[Parallel(n_jobs=-1)]: Done  16 out of  16 | elapsed:    0.0s remaining:    0.0s\n",
      "[CV] n_neighbors=4 ...................................................\n",
      "[CV] .......................... n_neighbors=4, score=0.931034 -   0.0s\n",
      "[Parallel(n_jobs=-1)]: Done  17 out of  17 | elapsed:    0.0s remaining:    0.0s\n",
      "[CV] n_neighbors=4 ...................................................\n",
      "[CV] .......................... n_neighbors=4, score=0.862069 -   0.0s\n",
      "[Parallel(n_jobs=-1)]: Done  18 out of  18 | elapsed:    0.1s remaining:    0.0s\n",
      "[CV] n_neighbors=4 ...................................................\n",
      "[CV] .......................... n_neighbors=4, score=0.928571 -   0.0s\n",
      "[Parallel(n_jobs=-1)]: Done  19 out of  19 | elapsed:    0.1s remaining:    0.0s\n",
      "[CV] n_neighbors=4 ...................................................\n",
      "[CV] .......................... n_neighbors=4, score=0.928571 -   0.0s\n",
      "[Parallel(n_jobs=-1)]: Done  20 out of  20 | elapsed:    0.1s remaining:    0.0s\n",
      "[CV] n_neighbors=5 ...................................................\n",
      "[CV] .......................... n_neighbors=5, score=0.896552 -   0.0s\n",
      "[Parallel(n_jobs=-1)]: Done  21 out of  21 | elapsed:    0.1s remaining:    0.0s\n",
      "[CV] n_neighbors=5 ...................................................\n",
      "[CV] .......................... n_neighbors=5, score=0.896552 -   0.0s\n",
      "[Parallel(n_jobs=-1)]: Done  22 out of  22 | elapsed:    0.1s remaining:    0.0s\n",
      "[CV] n_neighbors=5 ...................................................\n",
      "[CV] .......................... n_neighbors=5, score=0.862069 -   0.0s\n",
      "[Parallel(n_jobs=-1)]: Done  23 out of  23 | elapsed:    0.1s remaining:    0.0s\n",
      "[CV] n_neighbors=5 ...................................................\n",
      "[CV] .......................... n_neighbors=5, score=0.892857 -   0.0s\n",
      "[Parallel(n_jobs=-1)]: Done  24 out of  24 | elapsed:    0.1s remaining:    0.0s\n",
      "[CV] n_neighbors=5 ...................................................\n",
      "[CV] .......................... n_neighbors=5, score=1.000000 -   0.0s\n",
      "[Parallel(n_jobs=-1)]: Done  25 out of  25 | elapsed:    0.1s remaining:    0.0s\n",
      "[CV] n_neighbors=6 ...................................................\n",
      "[CV] .......................... n_neighbors=6, score=0.896552 -   0.0s\n",
      "[Parallel(n_jobs=-1)]: Done  26 out of  26 | elapsed:    0.1s remaining:    0.0s\n",
      "[CV] n_neighbors=6 ...................................................\n",
      "[CV] .......................... n_neighbors=6, score=0.896552 -   0.0s\n",
      "[Parallel(n_jobs=-1)]: Done  27 out of  27 | elapsed:    0.1s remaining:    0.0s\n",
      "[CV] n_neighbors=6 ...................................................\n",
      "[CV] .......................... n_neighbors=6, score=0.862069 -   0.0s\n",
      "[Parallel(n_jobs=-1)]: Done  28 out of  28 | elapsed:    0.1s remaining:    0.0s\n",
      "[CV] n_neighbors=6 ...................................................\n",
      "[CV] .......................... n_neighbors=6, score=0.928571 -   0.0s\n",
      "[Parallel(n_jobs=-1)]: Done  29 out of  29 | elapsed:    0.1s remaining:    0.0s\n",
      "[CV] n_neighbors=6 ...................................................\n",
      "[CV] .......................... n_neighbors=6, score=0.964286 -   0.0s\n",
      "[Parallel(n_jobs=-1)]: Done  30 out of  30 | elapsed:    0.1s remaining:    0.0s\n",
      "[CV] n_neighbors=7 ...................................................\n",
      "[CV] .......................... n_neighbors=7, score=0.896552 -   0.0s\n",
      "[Parallel(n_jobs=-1)]: Done  31 out of  31 | elapsed:    0.1s remaining:    0.0s\n",
      "[CV] n_neighbors=7 ...................................................\n",
      "[CV] .......................... n_neighbors=7, score=0.896552 -   0.0s\n",
      "[Parallel(n_jobs=-1)]: Done  32 out of  32 | elapsed:    0.1s remaining:    0.0s\n",
      "[CV] n_neighbors=7 ...................................................\n",
      "[CV] .......................... n_neighbors=7, score=0.862069 -   0.0s\n",
      "[Parallel(n_jobs=-1)]: Done  33 out of  33 | elapsed:    0.1s remaining:    0.0s\n",
      "[CV] n_neighbors=7 ...................................................\n",
      "[CV] .......................... n_neighbors=7, score=0.892857 -   0.0s\n",
      "[Parallel(n_jobs=-1)]: Done  34 out of  34 | elapsed:    0.1s remaining:    0.0s\n",
      "[CV] n_neighbors=7 ...................................................\n",
      "[CV] .......................... n_neighbors=7, score=1.000000 -   0.0s\n",
      "[Parallel(n_jobs=-1)]: Done  35 out of  35 | elapsed:    0.1s remaining:    0.0s\n",
      "[CV] n_neighbors=8 ...................................................\n",
      "[CV] .......................... n_neighbors=8, score=0.896552 -   0.0s\n",
      "[Parallel(n_jobs=-1)]: Done  36 out of  36 | elapsed:    0.1s remaining:    0.0s\n",
      "[CV] n_neighbors=8 ...................................................\n",
      "[CV] .......................... n_neighbors=8, score=0.896552 -   0.0s\n",
      "[Parallel(n_jobs=-1)]: Done  37 out of  37 | elapsed:    0.1s remaining:    0.0s\n",
      "[CV] n_neighbors=8 ...................................................\n",
      "[CV] .......................... n_neighbors=8, score=0.862069 -   0.0s\n",
      "[Parallel(n_jobs=-1)]: Done  38 out of  38 | elapsed:    0.1s remaining:    0.0s\n",
      "[CV] n_neighbors=8 ...................................................\n",
      "[CV] .......................... n_neighbors=8, score=0.928571 -   0.0s\n",
      "[Parallel(n_jobs=-1)]: Done  39 out of  39 | elapsed:    0.1s remaining:    0.0s\n",
      "[CV] n_neighbors=8 ...................................................\n",
      "[CV] .......................... n_neighbors=8, score=1.000000 -   0.0s\n",
      "[Parallel(n_jobs=-1)]: Done  40 out of  40 | elapsed:    0.1s remaining:    0.0s\n",
      "[CV] n_neighbors=9 ...................................................\n",
      "[CV] .......................... n_neighbors=9, score=0.896552 -   0.0s\n",
      "[Parallel(n_jobs=-1)]: Done  41 out of  41 | elapsed:    0.1s remaining:    0.0s\n",
      "[CV] n_neighbors=9 ...................................................\n",
      "[CV] .......................... n_neighbors=9, score=0.896552 -   0.0s\n",
      "[Parallel(n_jobs=-1)]: Done  42 out of  42 | elapsed:    0.1s remaining:    0.0s\n",
      "[CV] n_neighbors=9 ...................................................\n",
      "[CV] .......................... n_neighbors=9, score=0.862069 -   0.0s\n",
      "[Parallel(n_jobs=-1)]: Done  43 out of  43 | elapsed:    0.1s remaining:    0.0s\n",
      "[CV] n_neighbors=9 ...................................................\n",
      "[CV] .......................... n_neighbors=9, score=0.892857 -   0.0s\n",
      "[Parallel(n_jobs=-1)]: Done  44 out of  44 | elapsed:    0.1s remaining:    0.0s\n",
      "[CV] n_neighbors=9 ...................................................\n",
      "[CV] .......................... n_neighbors=9, score=0.964286 -   0.0s\n",
      "[Parallel(n_jobs=-1)]: Done  45 out of  45 | elapsed:    0.1s remaining:    0.0s\n",
      "[CV] n_neighbors=10 ..................................................\n",
      "[CV] ......................... n_neighbors=10, score=0.896552 -   0.0s\n",
      "[Parallel(n_jobs=-1)]: Done  46 out of  46 | elapsed:    0.1s remaining:    0.0s\n",
      "[CV] n_neighbors=10 ..................................................\n",
      "[CV] ......................... n_neighbors=10, score=0.896552 -   0.0s\n",
      "[Parallel(n_jobs=-1)]: Done  47 out of  47 | elapsed:    0.1s remaining:    0.0s\n",
      "[CV] n_neighbors=10 ..................................................\n",
      "[CV] ......................... n_neighbors=10, score=0.862069 -   0.0s\n",
      "[Parallel(n_jobs=-1)]: Done  48 out of  48 | elapsed:    0.1s remaining:    0.0s\n",
      "[CV] n_neighbors=10 ..................................................\n",
      "[CV] ......................... n_neighbors=10, score=0.892857 -   0.0s\n",
      "[Parallel(n_jobs=-1)]: Done  49 out of  49 | elapsed:    0.1s remaining:    0.0s\n",
      "[CV] n_neighbors=10 ..................................................\n",
      "[CV] ......................... n_neighbors=10, score=0.964286 -   0.0s\n",
      "[Parallel(n_jobs=-1)]: Done  50 out of  50 | elapsed:    0.1s remaining:    0.0s\n",
      "[Parallel(n_jobs=-1)]: Done  50 out of  50 | elapsed:    0.1s finished\n"
     ]
    },
    {
     "data": {
      "text/plain": [
       "GridSearchCV(cv=5, error_score='raise',\n",
       "       estimator=KNeighborsClassifier(algorithm='auto', leaf_size=30, metric='minkowski',\n",
       "           metric_params=None, n_jobs=1, n_neighbors=10, p=2,\n",
       "           weights='uniform'),\n",
       "       fit_params={}, iid=True, n_jobs=-1,\n",
       "       param_grid=[{'n_neighbors': [1, 2, 3, 4, 5, 6, 7, 8, 9, 10]}],\n",
       "       pre_dispatch='2*n_jobs', refit=True, scoring='accuracy',\n",
       "       verbose=100)"
      ]
     },
     "execution_count": 112,
     "metadata": {},
     "output_type": "execute_result"
    }
   ],
   "source": [
    "from sklearn.grid_search import GridSearchCV\n",
    "\n",
    "param_grid = [{'n_neighbors': [1, 2, 3, 4, 5, 6, 7, 8, 9, 10]}]\n",
    "\n",
    "grid_search = GridSearchCV(clf, param_grid, scoring='accuracy', cv=5,verbose=100, n_jobs=-1)\n",
    "grid_search.fit(X_test, y_test)"
   ]
  },
  {
   "cell_type": "code",
   "execution_count": 113,
   "metadata": {},
   "outputs": [
    {
     "data": {
      "text/plain": [
       "0.916083916083916"
      ]
     },
     "execution_count": 113,
     "metadata": {},
     "output_type": "execute_result"
    }
   ],
   "source": [
    "grid_search.best_score_"
   ]
  },
  {
   "cell_type": "code",
   "execution_count": 114,
   "metadata": {},
   "outputs": [
    {
     "data": {
      "text/plain": [
       "{'n_neighbors': 4}"
      ]
     },
     "execution_count": 114,
     "metadata": {},
     "output_type": "execute_result"
    }
   ],
   "source": [
    "grid_search.best_params_"
   ]
  },
  {
   "cell_type": "code",
   "execution_count": 115,
   "metadata": {},
   "outputs": [
    {
     "data": {
      "text/plain": [
       "[mean: 0.88112, std: 0.03648, params: {'n_neighbors': 1},\n",
       " mean: 0.90210, std: 0.04003, params: {'n_neighbors': 2},\n",
       " mean: 0.90210, std: 0.03351, params: {'n_neighbors': 3},\n",
       " mean: 0.91608, std: 0.02712, params: {'n_neighbors': 4},\n",
       " mean: 0.90909, std: 0.04702, params: {'n_neighbors': 5},\n",
       " mean: 0.90909, std: 0.03450, params: {'n_neighbors': 6},\n",
       " mean: 0.90909, std: 0.04702, params: {'n_neighbors': 7},\n",
       " mean: 0.91608, std: 0.04664, params: {'n_neighbors': 8},\n",
       " mean: 0.90210, std: 0.03351, params: {'n_neighbors': 9},\n",
       " mean: 0.90210, std: 0.03351, params: {'n_neighbors': 10}]"
      ]
     },
     "execution_count": 115,
     "metadata": {},
     "output_type": "execute_result"
    }
   ],
   "source": [
    "grid_search.grid_scores_"
   ]
  },
  {
   "cell_type": "code",
   "execution_count": 116,
   "metadata": {},
   "outputs": [],
   "source": [
    "score_list = grid_search.grid_scores_\n",
    "scores = []\n",
    "\n",
    "for score in score_list:\n",
    "    scores.append(score[1])"
   ]
  },
  {
   "cell_type": "code",
   "execution_count": 117,
   "metadata": {},
   "outputs": [
    {
     "data": {
      "text/plain": [
       "[0.8811188811188811,\n",
       " 0.9020979020979021,\n",
       " 0.9020979020979021,\n",
       " 0.916083916083916,\n",
       " 0.9090909090909091,\n",
       " 0.9090909090909091,\n",
       " 0.9090909090909091,\n",
       " 0.916083916083916,\n",
       " 0.9020979020979021,\n",
       " 0.9020979020979021]"
      ]
     },
     "execution_count": 117,
     "metadata": {},
     "output_type": "execute_result"
    }
   ],
   "source": [
    "scores"
   ]
  },
  {
   "cell_type": "code",
   "execution_count": 121,
   "metadata": {},
   "outputs": [
    {
     "data": {
      "text/plain": [
       "<matplotlib.legend.Legend at 0x7fb40d818a20>"
      ]
     },
     "execution_count": 121,
     "metadata": {},
     "output_type": "execute_result"
    },
    {
     "data": {
      "image/png": "[encoded data removed]",
      "text/plain": [
       "<matplotlib.figure.Figure at 0x7fb40d7133c8>"
      ]
     },
     "metadata": {},
     "output_type": "display_data"
    }
   ],
   "source": [
    "neighbors_settings = [1,2,3,4,5,6,7,8,9,10]\n",
    "training_accuracy = []\n",
    "\n",
    "for n_neighbors in neighbors_settings:\n",
    "    training_accuracy.append(scores[(n_neighbors-1)])\n",
    "    \n",
    "plt.plot(neighbors_settings, training_accuracy, label=\"Genauigkeit Trainingsdaten\")\n",
    "plt.ylabel(\"Genauigkeit\")\n",
    "plt.xlabel(\"n_neighbors\")\n",
    "plt.legend()"
   ]
  },
  {
   "cell_type": "code",
   "execution_count": 119,
   "metadata": {},
   "outputs": [
    {
     "data": {
      "text/plain": [
       "{'n_neighbors': 4}"
      ]
     },
     "execution_count": 119,
     "metadata": {},
     "output_type": "execute_result"
    }
   ],
   "source": [
    "grid_search.best_params_"
   ]
  },
  {
   "cell_type": "code",
   "execution_count": null,
   "metadata": {
    "collapsed": true
   },
   "outputs": [],
   "source": []
  }
 ],
 "metadata": {
  "kernelspec": {
   "display_name": "Python 3",
   "language": "python",
   "name": "python3"
  },
  "language_info": {
   "codemirror_mode": {
    "name": "ipython",
    "version": 3
   },
   "file_extension": ".py",
   "mimetype": "text/x-python",
   "name": "python",
   "nbconvert_exporter": "python",
   "pygments_lexer": "ipython3",
   "version": "3.6.1"
  }
 },
 "nbformat": 4,
 "nbformat_minor": 2
}
