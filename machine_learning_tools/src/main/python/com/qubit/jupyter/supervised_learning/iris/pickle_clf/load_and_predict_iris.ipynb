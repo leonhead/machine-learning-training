{
 "cells": [
  {
   "cell_type": "code",
   "execution_count": 10,
   "metadata": {},
   "outputs": [],
   "source": [
    "import os\n",
    "import pickle\n",
    "import re\n",
    "\n",
    "classifier_name = 'iris_clf.pkl'\n",
    "clf_path = os.path.join('pkl_objects', classifier_name)\n",
    "clf_file = open(clf_path, 'rb')\n",
    "clf = pickle.load(clf_file)"
   ]
  },
  {
   "cell_type": "code",
   "execution_count": 25,
   "metadata": {},
   "outputs": [
    {
     "data": {
      "text/plain": [
       "['Iris-setosa', 93.964438230834375]"
      ]
     },
     "execution_count": 25,
     "metadata": {},
     "output_type": "execute_result"
    }
   ],
   "source": [
    "import numpy as np\n",
    "\n",
    "versicolor_test_vector = np.array([6.1,2.8,4.0,1.3])\n",
    "setosa_test_vector = np.array([5.4,3.4,1.5,0.4])\n",
    "label = ['Iris-setosa', 'Iris-versicolor', 'Iris-virginica']\n",
    "\n",
    "X = setosa_test_vector .reshape(1,-1)\n",
    "predict = clf.predict(X)\n",
    "[label[clf.predict(X)[0]],np.max(clf.predict_proba(X))*100]\n",
    "#print ('Vorhersage: %s\\nWahrscheinlichkeit: %.2f%%' % (label[clf.predict(X)[0]], np.max(clf.predict_proba(X))*100))"
   ]
  },
  {
   "cell_type": "code",
   "execution_count": null,
   "metadata": {
    "collapsed": true
   },
   "outputs": [],
   "source": []
  }
 ],
 "metadata": {
  "kernelspec": {
   "display_name": "Python 3",
   "language": "python",
   "name": "python3"
  },
  "language_info": {
   "codemirror_mode": {
    "name": "ipython",
    "version": 3
   },
   "file_extension": ".py",
   "mimetype": "text/x-python",
   "name": "python",
   "nbconvert_exporter": "python",
   "pygments_lexer": "ipython3",
   "version": "3.6.1"
  }
 },
 "nbformat": 4,
 "nbformat_minor": 2
}
