{
 "cells": [
  {
   "cell_type": "code",
   "execution_count": 24,
   "metadata": {},
   "outputs": [
    {
     "data": {
      "text/plain": [
       "2000-01-01    3\n",
       "2000-01-02    3\n",
       "2000-01-03    2\n",
       "2000-01-04    2\n",
       "2000-01-05    3\n",
       "Freq: D, dtype: int64"
      ]
     },
     "execution_count": 24,
     "metadata": {},
     "output_type": "execute_result"
    }
   ],
   "source": [
    "import pandas as pd\n",
    "import numpy as np\n",
    "import matplotlib.pyplot as plt\n",
    "%matplotlib inline\n",
    "\n",
    "ts = pd.Series([3,3,2,2,3,3,4,4,4,4], index=pd.date_range('1/1/2000', periods=10))\n",
    "ts[:5]"
   ]
  },
  {
   "cell_type": "code",
   "execution_count": 25,
   "metadata": {},
   "outputs": [
    {
     "data": {
      "text/plain": [
       "<matplotlib.axes._subplots.AxesSubplot at 0x7fa7400621d0>"
      ]
     },
     "execution_count": 25,
     "metadata": {},
     "output_type": "execute_result"
    },
    {
     "data": {
      "image/png": "[encoded data removed]",
      "text/plain": [
       "<matplotlib.figure.Figure at 0x7fa740f1a278>"
      ]
     },
     "metadata": {},
     "output_type": "display_data"
    }
   ],
   "source": [
    "ts.plot()"
   ]
  },
  {
   "cell_type": "code",
   "execution_count": 30,
   "metadata": {},
   "outputs": [
    {
     "data": {
      "text/html": [
       "<div>\n",
       "<style>\n",
       "    .dataframe thead tr:only-child th {\n",
       "        text-align: right;\n",
       "    }\n",
       "\n",
       "    .dataframe thead th {\n",
       "        text-align: left;\n",
       "    }\n",
       "\n",
       "    .dataframe tbody tr th {\n",
       "        vertical-align: top;\n",
       "    }\n",
       "</style>\n",
       "<table border=\"1\" class=\"dataframe\">\n",
       "  <thead>\n",
       "    <tr style=\"text-align: right;\">\n",
       "      <th></th>\n",
       "      <th>Today</th>\n",
       "      <th>Volume</th>\n",
       "      <th>Sum</th>\n",
       "    </tr>\n",
       "  </thead>\n",
       "  <tbody>\n",
       "    <tr>\n",
       "      <th>2000-01-01</th>\n",
       "      <td>1</td>\n",
       "      <td>0</td>\n",
       "      <td>3</td>\n",
       "    </tr>\n",
       "    <tr>\n",
       "      <th>2000-01-02</th>\n",
       "      <td>1</td>\n",
       "      <td>0</td>\n",
       "      <td>3</td>\n",
       "    </tr>\n",
       "    <tr>\n",
       "      <th>2000-01-03</th>\n",
       "      <td>0</td>\n",
       "      <td>0</td>\n",
       "      <td>2</td>\n",
       "    </tr>\n",
       "    <tr>\n",
       "      <th>2000-01-04</th>\n",
       "      <td>0</td>\n",
       "      <td>0</td>\n",
       "      <td>2</td>\n",
       "    </tr>\n",
       "    <tr>\n",
       "      <th>2000-01-05</th>\n",
       "      <td>1</td>\n",
       "      <td>0</td>\n",
       "      <td>3</td>\n",
       "    </tr>\n",
       "    <tr>\n",
       "      <th>2000-01-06</th>\n",
       "      <td>1</td>\n",
       "      <td>0</td>\n",
       "      <td>3</td>\n",
       "    </tr>\n",
       "    <tr>\n",
       "      <th>2000-01-07</th>\n",
       "      <td>1</td>\n",
       "      <td>1</td>\n",
       "      <td>4</td>\n",
       "    </tr>\n",
       "    <tr>\n",
       "      <th>2000-01-08</th>\n",
       "      <td>1</td>\n",
       "      <td>1</td>\n",
       "      <td>4</td>\n",
       "    </tr>\n",
       "    <tr>\n",
       "      <th>2000-01-09</th>\n",
       "      <td>1</td>\n",
       "      <td>1</td>\n",
       "      <td>4</td>\n",
       "    </tr>\n",
       "    <tr>\n",
       "      <th>2000-01-10</th>\n",
       "      <td>1</td>\n",
       "      <td>1</td>\n",
       "      <td>4</td>\n",
       "    </tr>\n",
       "  </tbody>\n",
       "</table>\n",
       "</div>"
      ],
      "text/plain": [
       "            Today  Volume  Sum\n",
       "2000-01-01      1       0    3\n",
       "2000-01-02      1       0    3\n",
       "2000-01-03      0       0    2\n",
       "2000-01-04      0       0    2\n",
       "2000-01-05      1       0    3\n",
       "2000-01-06      1       0    3\n",
       "2000-01-07      1       1    4\n",
       "2000-01-08      1       1    4\n",
       "2000-01-09      1       1    4\n",
       "2000-01-10      1       1    4"
      ]
     },
     "execution_count": 30,
     "metadata": {},
     "output_type": "execute_result"
    }
   ],
   "source": [
    "df = pd.DataFrame(index=ts.index)\n",
    "df[\"Today\"] = [1,1,0,0,1,1,1,1,1,1]\n",
    "df[\"Volume\"] = [0,0,0,0,0,0,1,1,1,1]\n",
    "df['Sum'] = ts.values\n",
    "df.head(10)"
   ]
  },
  {
   "cell_type": "code",
   "execution_count": 18,
   "metadata": {},
   "outputs": [],
   "source": [
    "y = df['Sum']\n",
    "X = df[[\"Today\",\"Volume\"]]"
   ]
  },
  {
   "cell_type": "code",
   "execution_count": 19,
   "metadata": {},
   "outputs": [
    {
     "data": {
      "text/plain": [
       "array([3, 3, 2, 2, 3, 3, 4, 4, 4, 4, 3, 3, 2, 2, 3, 3, 4, 4, 4, 4, 3, 3, 2,\n",
       "       2, 3, 3, 4, 4, 4, 4, 3, 3, 2, 2, 3, 3, 4, 4, 4, 4, 3, 3, 2, 2, 3, 3,\n",
       "       4, 4, 4, 4, 3, 3, 2, 2, 3, 3, 4, 4, 4, 4, 3, 3, 2, 2, 3, 3, 4, 4, 4,\n",
       "       4, 3, 3, 2, 2, 3, 3, 4, 4, 4, 4, 3, 3, 2, 2, 3, 3, 4, 4, 4, 4, 3, 3,\n",
       "       2, 2, 3, 3, 4, 4, 4, 4])"
      ]
     },
     "execution_count": 19,
     "metadata": {},
     "output_type": "execute_result"
    }
   ],
   "source": [
    "ts.values"
   ]
  },
  {
   "cell_type": "code",
   "execution_count": 20,
   "metadata": {
    "collapsed": true
   },
   "outputs": [],
   "source": [
    "def eval_on_features(features, target, regressor):\n",
    "    n_train = 70\n",
    "    X_train, X_test = features[:n_train], features[n_train:]\n",
    "    y_train, y_test = target[:n_train], target[n_train:]  \n",
    "    regressor.fit(X_train, y_train)\n",
    "    print(\"Testdatensatz R^2: {:.2f}\".format(regressor.score(X_test, y_test)))\n",
    "    \n",
    "    y_pred = regressor.predict(X_test)\n",
    "    y_pred_train = regressor.predict(X_train)\n",
    "    plt.figure(figsize=(10,3))\n",
    "    plt.xticks(range(0, len(X), 8), xticks.strftime(\"%a %m-%d\"), rotation=90, ha=\"left\")\n",
    "    \n",
    "    plt.plot(range(n_train), y_train, label=\"Training\")\n",
    "    plt.plot(range(n_train, len(y_test) + n_train), y_test, '-', label=\"Test\")\n",
    "    plt.plot(range(n_train), y_pred_train, '--', label=\"Vorhersage Training\")\n",
    "    plt.plot(range(n_train, len(y_test) + n_train), y_pred, '--', label=\"Vorhersage Test\")\n",
    "    \n",
    "    plt.legend(loc=(1.01,0))\n",
    "    plt.xlabel(\"Datum\")\n",
    "    plt.ylabel(\"Vermietungen\")"
   ]
  },
  {
   "cell_type": "code",
   "execution_count": null,
   "metadata": {
    "collapsed": true
   },
   "outputs": [],
   "source": []
  }
 ],
 "metadata": {
  "kernelspec": {
   "display_name": "Python 3",
   "language": "python",
   "name": "python3"
  },
  "language_info": {
   "codemirror_mode": {
    "name": "ipython",
    "version": 3
   },
   "file_extension": ".py",
   "mimetype": "text/x-python",
   "name": "python",
   "nbconvert_exporter": "python",
   "pygments_lexer": "ipython3",
   "version": "3.6.1"
  }
 },
 "nbformat": 4,
 "nbformat_minor": 2
}
