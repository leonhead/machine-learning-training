{
 "cells": [
  {
   "cell_type": "code",
   "execution_count": 2,
   "metadata": {},
   "outputs": [
    {
     "data": {
      "text/html": [
       "<div>\n",
       "<style>\n",
       "    .dataframe thead tr:only-child th {\n",
       "        text-align: right;\n",
       "    }\n",
       "\n",
       "    .dataframe thead th {\n",
       "        text-align: left;\n",
       "    }\n",
       "\n",
       "    .dataframe tbody tr th {\n",
       "        vertical-align: top;\n",
       "    }\n",
       "</style>\n",
       "<table border=\"1\" class=\"dataframe\">\n",
       "  <thead>\n",
       "    <tr style=\"text-align: right;\">\n",
       "      <th></th>\n",
       "      <th>Date</th>\n",
       "      <th>Time</th>\n",
       "      <th>Open</th>\n",
       "      <th>Max</th>\n",
       "      <th>Min</th>\n",
       "      <th>Close</th>\n",
       "      <th>Volume</th>\n",
       "    </tr>\n",
       "  </thead>\n",
       "  <tbody>\n",
       "    <tr>\n",
       "      <th>0</th>\n",
       "      <td>2017.09.08</td>\n",
       "      <td>13:00</td>\n",
       "      <td>361.00</td>\n",
       "      <td>362.79</td>\n",
       "      <td>335.93</td>\n",
       "      <td>335.93</td>\n",
       "      <td>185</td>\n",
       "    </tr>\n",
       "    <tr>\n",
       "      <th>1</th>\n",
       "      <td>2017.09.08</td>\n",
       "      <td>14:00</td>\n",
       "      <td>335.93</td>\n",
       "      <td>335.93</td>\n",
       "      <td>293.66</td>\n",
       "      <td>322.16</td>\n",
       "      <td>274</td>\n",
       "    </tr>\n",
       "    <tr>\n",
       "      <th>2</th>\n",
       "      <td>2017.09.08</td>\n",
       "      <td>15:00</td>\n",
       "      <td>322.16</td>\n",
       "      <td>326.39</td>\n",
       "      <td>307.20</td>\n",
       "      <td>323.87</td>\n",
       "      <td>241</td>\n",
       "    </tr>\n",
       "    <tr>\n",
       "      <th>3</th>\n",
       "      <td>2017.09.08</td>\n",
       "      <td>16:00</td>\n",
       "      <td>324.00</td>\n",
       "      <td>335.90</td>\n",
       "      <td>324.00</td>\n",
       "      <td>331.37</td>\n",
       "      <td>137</td>\n",
       "    </tr>\n",
       "    <tr>\n",
       "      <th>4</th>\n",
       "      <td>2017.09.08</td>\n",
       "      <td>17:00</td>\n",
       "      <td>331.37</td>\n",
       "      <td>331.54</td>\n",
       "      <td>320.73</td>\n",
       "      <td>320.73</td>\n",
       "      <td>121</td>\n",
       "    </tr>\n",
       "  </tbody>\n",
       "</table>\n",
       "</div>"
      ],
      "text/plain": [
       "         Date   Time    Open     Max     Min   Close  Volume\n",
       "0  2017.09.08  13:00  361.00  362.79  335.93  335.93     185\n",
       "1  2017.09.08  14:00  335.93  335.93  293.66  322.16     274\n",
       "2  2017.09.08  15:00  322.16  326.39  307.20  323.87     241\n",
       "3  2017.09.08  16:00  324.00  335.90  324.00  331.37     137\n",
       "4  2017.09.08  17:00  331.37  331.54  320.73  320.73     121"
      ]
     },
     "execution_count": 2,
     "metadata": {},
     "output_type": "execute_result"
    }
   ],
   "source": [
    "import pandas as pd\n",
    "import datetime\n",
    "import numpy as np\n",
    "import matplotlib.pyplot as plt\n",
    "from pandas_datareader import data\n",
    "%matplotlib inline\n",
    "\n",
    "dash = pd.read_csv('/home/ml/datasets/DASH60.csv',delimiter=',')\n",
    "dash.head()"
   ]
  },
  {
   "cell_type": "code",
   "execution_count": 3,
   "metadata": {},
   "outputs": [
    {
     "data": {
      "text/plain": [
       "Index(['Date', 'Time', 'Open', 'Max', 'Min', 'Close', 'Volume'], dtype='object')"
      ]
     },
     "execution_count": 3,
     "metadata": {},
     "output_type": "execute_result"
    }
   ],
   "source": [
    "dash.columns"
   ]
  },
  {
   "cell_type": "code",
   "execution_count": 16,
   "metadata": {
    "collapsed": true
   },
   "outputs": [],
   "source": [
    "from sklearn.pipeline import Pipeline\n",
    "from sklearn.preprocessing import StandardScaler\n",
    "from sklearn.neural_network import MLPRegressor\n",
    "from sklearn.preprocessing import MinMaxScaler\n",
    "\n",
    "n_train = (dash['Date'].count()*0.7).astype(int)\n",
    "\n",
    "X = dash[['Max', 'Min']]\n",
    "y = dash['Close']\n",
    "\n",
    "X_train, X_test = X[:n_train], X[n_train:]\n",
    "y_train, y_test = y[:n_train], y[n_train:] \n",
    "\n",
    "pipe = Pipeline([(\"scaler\", MinMaxScaler()),(\"mlp\",MLPRegressor(solver='lbfgs', random_state=0, hidden_layer_sizes=[10]))])"
   ]
  },
  {
   "cell_type": "code",
   "execution_count": 17,
   "metadata": {},
   "outputs": [
    {
     "name": "stdout",
     "output_type": "stream",
     "text": [
      "Beste Genauigkeit nach Kreuzvalidierung: 0.97\n",
      "Bester Score auf den Testdaten: 0.98\n",
      "Beste Parameter: {'mlp__activation': 'relu', 'mlp__alpha': 1}\n"
     ]
    }
   ],
   "source": [
    "from sklearn.model_selection import GridSearchCV\n",
    "\n",
    "param_grid = {'mlp__activation':['tanh', 'relu', 'logistic'],\n",
    "             'mlp__alpha':[0.0001, 0.001, 0.01, 0.1, 1, 10]}\n",
    "\n",
    "grid = GridSearchCV(pipe, param_grid, cv=5)\n",
    "grid.fit(X_train, y_train)\n",
    "print(\"Beste Genauigkeit nach Kreuzvalidierung: {:.2f}\".format(grid.best_score_))\n",
    "print(\"Bester Score auf den Testdaten: {:.2f}\".format(grid.score(X_test, y_test)))\n",
    "print(\"Beste Parameter: {}\".format(grid.best_params_))"
   ]
  },
  {
   "cell_type": "code",
   "execution_count": null,
   "metadata": {
    "collapsed": true
   },
   "outputs": [],
   "source": []
  }
 ],
 "metadata": {
  "kernelspec": {
   "display_name": "Python 3",
   "language": "python",
   "name": "python3"
  },
  "language_info": {
   "codemirror_mode": {
    "name": "ipython",
    "version": 3
   },
   "file_extension": ".py",
   "mimetype": "text/x-python",
   "name": "python",
   "nbconvert_exporter": "python",
   "pygments_lexer": "ipython3",
   "version": "3.6.1"
  }
 },
 "nbformat": 4,
 "nbformat_minor": 2
}
