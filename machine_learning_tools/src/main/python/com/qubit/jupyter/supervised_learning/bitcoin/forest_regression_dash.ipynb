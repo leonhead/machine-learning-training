{
 "cells": [
  {
   "cell_type": "code",
   "execution_count": 11,
   "metadata": {},
   "outputs": [
    {
     "data": {
      "text/html": [
       "<div>\n",
       "<style>\n",
       "    .dataframe thead tr:only-child th {\n",
       "        text-align: right;\n",
       "    }\n",
       "\n",
       "    .dataframe thead th {\n",
       "        text-align: left;\n",
       "    }\n",
       "\n",
       "    .dataframe tbody tr th {\n",
       "        vertical-align: top;\n",
       "    }\n",
       "</style>\n",
       "<table border=\"1\" class=\"dataframe\">\n",
       "  <thead>\n",
       "    <tr style=\"text-align: right;\">\n",
       "      <th></th>\n",
       "      <th>Date_Time</th>\n",
       "      <th>Open</th>\n",
       "      <th>Max</th>\n",
       "      <th>Min</th>\n",
       "      <th>Close</th>\n",
       "      <th>Volume</th>\n",
       "      <th>SMA14</th>\n",
       "      <th>SMA30</th>\n",
       "      <th>EMA14</th>\n",
       "      <th>EMA30</th>\n",
       "      <th>...</th>\n",
       "      <th>BB_Mean</th>\n",
       "      <th>BB_Upper</th>\n",
       "      <th>EMA_12</th>\n",
       "      <th>EMA_26</th>\n",
       "      <th>MACD</th>\n",
       "      <th>RSI</th>\n",
       "      <th>ATR</th>\n",
       "      <th>PSAR</th>\n",
       "      <th>Pct_Change</th>\n",
       "      <th>Direction</th>\n",
       "    </tr>\n",
       "  </thead>\n",
       "  <tbody>\n",
       "    <tr>\n",
       "      <th>0</th>\n",
       "      <td>2017-09-08 14:00:00</td>\n",
       "      <td>335.93</td>\n",
       "      <td>335.93</td>\n",
       "      <td>293.66</td>\n",
       "      <td>322.16</td>\n",
       "      <td>274</td>\n",
       "      <td>329.045000</td>\n",
       "      <td>329.045000</td>\n",
       "      <td>328.553214</td>\n",
       "      <td>328.815500</td>\n",
       "      <td>...</td>\n",
       "      <td>329.045000</td>\n",
       "      <td>556.947644</td>\n",
       "      <td>328.471250</td>\n",
       "      <td>328.780192</td>\n",
       "      <td>-0.308942</td>\n",
       "      <td>11.046512</td>\n",
       "      <td>41.508571</td>\n",
       "      <td>362.790000</td>\n",
       "      <td>-0.040991</td>\n",
       "      <td>-1.0</td>\n",
       "    </tr>\n",
       "    <tr>\n",
       "      <th>1</th>\n",
       "      <td>2017-09-08 15:00:00</td>\n",
       "      <td>322.16</td>\n",
       "      <td>326.39</td>\n",
       "      <td>307.20</td>\n",
       "      <td>323.87</td>\n",
       "      <td>241</td>\n",
       "      <td>327.320000</td>\n",
       "      <td>327.320000</td>\n",
       "      <td>326.764211</td>\n",
       "      <td>327.055920</td>\n",
       "      <td>...</td>\n",
       "      <td>327.320000</td>\n",
       "      <td>502.991247</td>\n",
       "      <td>326.675381</td>\n",
       "      <td>327.016008</td>\n",
       "      <td>-0.340627</td>\n",
       "      <td>40.078329</td>\n",
       "      <td>34.885178</td>\n",
       "      <td>362.790000</td>\n",
       "      <td>0.005308</td>\n",
       "      <td>1.0</td>\n",
       "    </tr>\n",
       "    <tr>\n",
       "      <th>2</th>\n",
       "      <td>2017-09-08 16:00:00</td>\n",
       "      <td>324.00</td>\n",
       "      <td>335.90</td>\n",
       "      <td>324.00</td>\n",
       "      <td>331.37</td>\n",
       "      <td>137</td>\n",
       "      <td>328.332500</td>\n",
       "      <td>328.332500</td>\n",
       "      <td>328.173251</td>\n",
       "      <td>328.244606</td>\n",
       "      <td>...</td>\n",
       "      <td>328.332500</td>\n",
       "      <td>479.395780</td>\n",
       "      <td>328.157289</td>\n",
       "      <td>328.233194</td>\n",
       "      <td>-0.075905</td>\n",
       "      <td>27.394408</td>\n",
       "      <td>28.853749</td>\n",
       "      <td>360.024800</td>\n",
       "      <td>0.023157</td>\n",
       "      <td>1.0</td>\n",
       "    </tr>\n",
       "    <tr>\n",
       "      <th>3</th>\n",
       "      <td>2017-09-08 17:00:00</td>\n",
       "      <td>331.37</td>\n",
       "      <td>331.54</td>\n",
       "      <td>320.73</td>\n",
       "      <td>320.73</td>\n",
       "      <td>121</td>\n",
       "      <td>326.812000</td>\n",
       "      <td>326.812000</td>\n",
       "      <td>326.231319</td>\n",
       "      <td>326.534851</td>\n",
       "      <td>...</td>\n",
       "      <td>326.812000</td>\n",
       "      <td>479.939402</td>\n",
       "      <td>326.139321</td>\n",
       "      <td>326.493172</td>\n",
       "      <td>-0.353851</td>\n",
       "      <td>26.812227</td>\n",
       "      <td>24.336618</td>\n",
       "      <td>357.370208</td>\n",
       "      <td>-0.032109</td>\n",
       "      <td>-1.0</td>\n",
       "    </tr>\n",
       "    <tr>\n",
       "      <th>4</th>\n",
       "      <td>2017-09-08 18:00:00</td>\n",
       "      <td>320.73</td>\n",
       "      <td>326.43</td>\n",
       "      <td>320.00</td>\n",
       "      <td>320.00</td>\n",
       "      <td>77</td>\n",
       "      <td>325.676667</td>\n",
       "      <td>325.676667</td>\n",
       "      <td>324.789503</td>\n",
       "      <td>325.256411</td>\n",
       "      <td>...</td>\n",
       "      <td>325.676667</td>\n",
       "      <td>477.319026</td>\n",
       "      <td>324.647143</td>\n",
       "      <td>325.192642</td>\n",
       "      <td>-0.545499</td>\n",
       "      <td>25.456053</td>\n",
       "      <td>20.616776</td>\n",
       "      <td>354.821800</td>\n",
       "      <td>-0.002276</td>\n",
       "      <td>-1.0</td>\n",
       "    </tr>\n",
       "  </tbody>\n",
       "</table>\n",
       "<p>5 rows × 30 columns</p>\n",
       "</div>"
      ],
      "text/plain": [
       "             Date_Time    Open     Max     Min   Close  Volume       SMA14  \\\n",
       "0  2017-09-08 14:00:00  335.93  335.93  293.66  322.16     274  329.045000   \n",
       "1  2017-09-08 15:00:00  322.16  326.39  307.20  323.87     241  327.320000   \n",
       "2  2017-09-08 16:00:00  324.00  335.90  324.00  331.37     137  328.332500   \n",
       "3  2017-09-08 17:00:00  331.37  331.54  320.73  320.73     121  326.812000   \n",
       "4  2017-09-08 18:00:00  320.73  326.43  320.00  320.00      77  325.676667   \n",
       "\n",
       "        SMA30       EMA14       EMA30    ...         BB_Mean    BB_Upper  \\\n",
       "0  329.045000  328.553214  328.815500    ...      329.045000  556.947644   \n",
       "1  327.320000  326.764211  327.055920    ...      327.320000  502.991247   \n",
       "2  328.332500  328.173251  328.244606    ...      328.332500  479.395780   \n",
       "3  326.812000  326.231319  326.534851    ...      326.812000  479.939402   \n",
       "4  325.676667  324.789503  325.256411    ...      325.676667  477.319026   \n",
       "\n",
       "       EMA_12      EMA_26      MACD        RSI        ATR        PSAR  \\\n",
       "0  328.471250  328.780192 -0.308942  11.046512  41.508571  362.790000   \n",
       "1  326.675381  327.016008 -0.340627  40.078329  34.885178  362.790000   \n",
       "2  328.157289  328.233194 -0.075905  27.394408  28.853749  360.024800   \n",
       "3  326.139321  326.493172 -0.353851  26.812227  24.336618  357.370208   \n",
       "4  324.647143  325.192642 -0.545499  25.456053  20.616776  354.821800   \n",
       "\n",
       "   Pct_Change  Direction  \n",
       "0   -0.040991       -1.0  \n",
       "1    0.005308        1.0  \n",
       "2    0.023157        1.0  \n",
       "3   -0.032109       -1.0  \n",
       "4   -0.002276       -1.0  \n",
       "\n",
       "[5 rows x 30 columns]"
      ]
     },
     "execution_count": 11,
     "metadata": {},
     "output_type": "execute_result"
    }
   ],
   "source": [
    "import pandas as pd\n",
    "import datetime\n",
    "import numpy as np\n",
    "import matplotlib.pyplot as plt\n",
    "from pandas_datareader import data\n",
    "%matplotlib inline\n",
    "\n",
    "dash = pd.read_csv('/home/ml/datasets/DASH60_with_indicators.csv',delimiter=',')\n",
    "dash.head()"
   ]
  },
  {
   "cell_type": "code",
   "execution_count": 12,
   "metadata": {},
   "outputs": [
    {
     "data": {
      "text/plain": [
       "Index(['Date_Time', 'Open', 'Max', 'Min', 'Close', 'Volume', 'SMA14', 'SMA30',\n",
       "       'EMA14', 'EMA30', 'Privot_Dot', 'Diff', 'TR', 'R1', 'R2', 'R3', 'S1',\n",
       "       'S2', 'S3', 'BB_Lower', 'BB_Mean', 'BB_Upper', 'EMA_12', 'EMA_26',\n",
       "       'MACD', 'RSI', 'ATR', 'PSAR', 'Pct_Change', 'Direction'],\n",
       "      dtype='object')"
      ]
     },
     "execution_count": 12,
     "metadata": {},
     "output_type": "execute_result"
    }
   ],
   "source": [
    "dash.columns"
   ]
  },
  {
   "cell_type": "code",
   "execution_count": 13,
   "metadata": {
    "collapsed": true
   },
   "outputs": [],
   "source": [
    "n_train = (dash['Date_Time'].count()*0.7).astype(int)\n",
    "\n",
    "X = dash[['SMA14', 'SMA30',\n",
    "       'EMA14', 'EMA30', 'Privot_Dot', 'TR', 'R1', 'R2', 'R3', 'S1',\n",
    "       'S2', 'S3', 'BB_Lower', 'BB_Mean', 'BB_Upper', 'EMA_12', 'EMA_26',\n",
    "       'MACD', 'RSI', 'ATR', 'PSAR']]\n",
    "\n",
    "y = dash['Diff']\n",
    "\n",
    "X_train, X_test = X[:n_train], X[n_train:]\n",
    "y_train, y_test = y[:n_train], y[n_train:] "
   ]
  },
  {
   "cell_type": "code",
   "execution_count": 14,
   "metadata": {},
   "outputs": [
    {
     "data": {
      "text/plain": [
       "[<matplotlib.lines.Line2D at 0x7f453591bbe0>]"
      ]
     },
     "execution_count": 14,
     "metadata": {},
     "output_type": "execute_result"
    },
    {
     "data": {
      "image/png": "[encoded data removed]",
      "text/plain": [
       "<matplotlib.figure.Figure at 0x7f453590e5c0>"
      ]
     },
     "metadata": {},
     "output_type": "display_data"
    }
   ],
   "source": [
    "plt.figure(figsize=(20,10))\n",
    "plt.subplot(311)\n",
    "plt.plot(dash.index, dash['Close'] , label=\"Close\")"
   ]
  },
  {
   "cell_type": "code",
   "execution_count": 15,
   "metadata": {
    "collapsed": true
   },
   "outputs": [],
   "source": [
    "def plot_residuen(model):\n",
    "\n",
    "    y_train_pred = model.predict(X_train)\n",
    "    y_test_pred = model.predict(X_test)\n",
    "\n",
    "    plt.scatter(y_train_pred, y_train_pred-y_train, c='blue', marker='o', label='Trainingsdaten')\n",
    "    plt.scatter(y_test_pred, y_test_pred-y_test, c='lightgreen', marker='s', label='Testdaten')\n",
    "    plt.xlabel('Vorhergesagte Werte')\n",
    "    plt.ylabel('Residuen')\n",
    "    plt.hlines(y=0, xmin=-10, xmax=10, lw=2, color='red')"
   ]
  },
  {
   "cell_type": "code",
   "execution_count": 16,
   "metadata": {
    "collapsed": true
   },
   "outputs": [],
   "source": [
    "from sklearn.metrics import mean_squared_error\n",
    "from sklearn.metrics import r2_score\n",
    "\n",
    "def print_scores(model):\n",
    "    y_train_pred = model.predict(X_train)\n",
    "    y_test_pred = model.predict(X_test)\n",
    "\n",
    "    print('MSE-Training: %.3f, Test: %.3f' %(mean_squared_error(y_train, y_train_pred), mean_squared_error(y_test, y_test_pred)))\n",
    "    print('R^2-Training: %.3f, Test: %.3f' % (r2_score(y_train, y_train_pred), r2_score(y_test, y_test_pred)))"
   ]
  },
  {
   "cell_type": "code",
   "execution_count": 17,
   "metadata": {},
   "outputs": [
    {
     "data": {
      "text/plain": [
       "RandomForestRegressor(bootstrap=True, criterion='mse', max_depth=None,\n",
       "           max_features='auto', max_leaf_nodes=None,\n",
       "           min_impurity_split=1e-07, min_samples_leaf=1,\n",
       "           min_samples_split=2, min_weight_fraction_leaf=0.0,\n",
       "           n_estimators=1000, n_jobs=-1, oob_score=False, random_state=1,\n",
       "           verbose=0, warm_start=False)"
      ]
     },
     "execution_count": 17,
     "metadata": {},
     "output_type": "execute_result"
    }
   ],
   "source": [
    "from sklearn.ensemble import RandomForestRegressor\n",
    "\n",
    "forest = RandomForestRegressor(n_estimators=1000, criterion='mse', random_state=1, n_jobs=-1)\n",
    "forest.fit(X_train, y_train)"
   ]
  },
  {
   "cell_type": "code",
   "execution_count": 18,
   "metadata": {},
   "outputs": [
    {
     "name": "stdout",
     "output_type": "stream",
     "text": [
      "MSE-Training: 1.739, Test: 4.343\n",
      "R^2-Training: 0.880, Test: -0.051\n"
     ]
    }
   ],
   "source": [
    "print_scores(forest)"
   ]
  },
  {
   "cell_type": "code",
   "execution_count": 19,
   "metadata": {},
   "outputs": [
    {
     "data": {
      "image/png": "[encoded data removed]",
      "text/plain": [
       "<matplotlib.figure.Figure at 0x7f453595ffd0>"
      ]
     },
     "metadata": {},
     "output_type": "display_data"
    }
   ],
   "source": [
    "plot_residuen(forest)"
   ]
  },
  {
   "cell_type": "code",
   "execution_count": null,
   "metadata": {
    "collapsed": true
   },
   "outputs": [],
   "source": []
  }
 ],
 "metadata": {
  "kernelspec": {
   "display_name": "Python 3",
   "language": "python",
   "name": "python3"
  },
  "language_info": {
   "codemirror_mode": {
    "name": "ipython",
    "version": 3
   },
   "file_extension": ".py",
   "mimetype": "text/x-python",
   "name": "python",
   "nbconvert_exporter": "python",
   "pygments_lexer": "ipython3",
   "version": "3.6.1"
  }
 },
 "nbformat": 4,
 "nbformat_minor": 2
}
