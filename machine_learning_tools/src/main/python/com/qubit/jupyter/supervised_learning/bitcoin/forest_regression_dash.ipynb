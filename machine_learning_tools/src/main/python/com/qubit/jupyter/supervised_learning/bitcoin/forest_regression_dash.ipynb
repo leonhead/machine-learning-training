{
 "cells": [
  {
   "cell_type": "code",
   "execution_count": 26,
   "metadata": {},
   "outputs": [
    {
     "data": {
      "text/html": [
       "<div>\n",
       "<style>\n",
       "    .dataframe thead tr:only-child th {\n",
       "        text-align: right;\n",
       "    }\n",
       "\n",
       "    .dataframe thead th {\n",
       "        text-align: left;\n",
       "    }\n",
       "\n",
       "    .dataframe tbody tr th {\n",
       "        vertical-align: top;\n",
       "    }\n",
       "</style>\n",
       "<table border=\"1\" class=\"dataframe\">\n",
       "  <thead>\n",
       "    <tr style=\"text-align: right;\">\n",
       "      <th></th>\n",
       "      <th>Date_Time</th>\n",
       "      <th>Open</th>\n",
       "      <th>Max</th>\n",
       "      <th>Min</th>\n",
       "      <th>Close</th>\n",
       "      <th>Volume</th>\n",
       "    </tr>\n",
       "  </thead>\n",
       "  <tbody>\n",
       "    <tr>\n",
       "      <th>0</th>\n",
       "      <td>2017-09-08 13:00:00</td>\n",
       "      <td>361.00</td>\n",
       "      <td>362.79</td>\n",
       "      <td>335.93</td>\n",
       "      <td>335.93</td>\n",
       "      <td>185</td>\n",
       "    </tr>\n",
       "    <tr>\n",
       "      <th>1</th>\n",
       "      <td>2017-09-08 14:00:00</td>\n",
       "      <td>335.93</td>\n",
       "      <td>335.93</td>\n",
       "      <td>293.66</td>\n",
       "      <td>322.16</td>\n",
       "      <td>274</td>\n",
       "    </tr>\n",
       "    <tr>\n",
       "      <th>2</th>\n",
       "      <td>2017-09-08 15:00:00</td>\n",
       "      <td>322.16</td>\n",
       "      <td>326.39</td>\n",
       "      <td>307.20</td>\n",
       "      <td>323.87</td>\n",
       "      <td>241</td>\n",
       "    </tr>\n",
       "    <tr>\n",
       "      <th>3</th>\n",
       "      <td>2017-09-08 16:00:00</td>\n",
       "      <td>324.00</td>\n",
       "      <td>335.90</td>\n",
       "      <td>324.00</td>\n",
       "      <td>331.37</td>\n",
       "      <td>137</td>\n",
       "    </tr>\n",
       "    <tr>\n",
       "      <th>4</th>\n",
       "      <td>2017-09-08 17:00:00</td>\n",
       "      <td>331.37</td>\n",
       "      <td>331.54</td>\n",
       "      <td>320.73</td>\n",
       "      <td>320.73</td>\n",
       "      <td>121</td>\n",
       "    </tr>\n",
       "  </tbody>\n",
       "</table>\n",
       "</div>"
      ],
      "text/plain": [
       "            Date_Time    Open     Max     Min   Close  Volume\n",
       "0 2017-09-08 13:00:00  361.00  362.79  335.93  335.93     185\n",
       "1 2017-09-08 14:00:00  335.93  335.93  293.66  322.16     274\n",
       "2 2017-09-08 15:00:00  322.16  326.39  307.20  323.87     241\n",
       "3 2017-09-08 16:00:00  324.00  335.90  324.00  331.37     137\n",
       "4 2017-09-08 17:00:00  331.37  331.54  320.73  320.73     121"
      ]
     },
     "execution_count": 26,
     "metadata": {},
     "output_type": "execute_result"
    }
   ],
   "source": [
    "import pandas as pd\n",
    "import datetime\n",
    "import numpy as np\n",
    "import matplotlib.pyplot as plt\n",
    "from pandas_datareader import data\n",
    "%matplotlib inline\n",
    "\n",
    "dash = pd.read_csv('/home/ml/datasets/DASH60.csv',delimiter=',', parse_dates=[['Date', 'Time']])\n",
    "dash.head()"
   ]
  },
  {
   "cell_type": "code",
   "execution_count": 27,
   "metadata": {},
   "outputs": [
    {
     "data": {
      "text/html": [
       "<div>\n",
       "<style>\n",
       "    .dataframe thead tr:only-child th {\n",
       "        text-align: right;\n",
       "    }\n",
       "\n",
       "    .dataframe thead th {\n",
       "        text-align: left;\n",
       "    }\n",
       "\n",
       "    .dataframe tbody tr th {\n",
       "        vertical-align: top;\n",
       "    }\n",
       "</style>\n",
       "<table border=\"1\" class=\"dataframe\">\n",
       "  <thead>\n",
       "    <tr style=\"text-align: right;\">\n",
       "      <th></th>\n",
       "      <th>Date_Time</th>\n",
       "      <th>Open</th>\n",
       "      <th>Max</th>\n",
       "      <th>Min</th>\n",
       "      <th>Close</th>\n",
       "      <th>Volume</th>\n",
       "      <th>Pct_Change</th>\n",
       "      <th>SMA15</th>\n",
       "      <th>Diff</th>\n",
       "    </tr>\n",
       "  </thead>\n",
       "  <tbody>\n",
       "    <tr>\n",
       "      <th>14</th>\n",
       "      <td>2017-09-10 03:00:00</td>\n",
       "      <td>312.60</td>\n",
       "      <td>312.60</td>\n",
       "      <td>312.60</td>\n",
       "      <td>312.60</td>\n",
       "      <td>1</td>\n",
       "      <td>0.000000</td>\n",
       "      <td>4807.39</td>\n",
       "      <td>-19.36</td>\n",
       "    </tr>\n",
       "    <tr>\n",
       "      <th>15</th>\n",
       "      <td>2017-09-10 06:00:00</td>\n",
       "      <td>297.10</td>\n",
       "      <td>297.10</td>\n",
       "      <td>293.24</td>\n",
       "      <td>293.24</td>\n",
       "      <td>6</td>\n",
       "      <td>-0.061932</td>\n",
       "      <td>4764.70</td>\n",
       "      <td>7.59</td>\n",
       "    </tr>\n",
       "    <tr>\n",
       "      <th>16</th>\n",
       "      <td>2017-09-10 07:00:00</td>\n",
       "      <td>293.24</td>\n",
       "      <td>300.83</td>\n",
       "      <td>292.00</td>\n",
       "      <td>300.83</td>\n",
       "      <td>52</td>\n",
       "      <td>0.025883</td>\n",
       "      <td>4743.37</td>\n",
       "      <td>0.00</td>\n",
       "    </tr>\n",
       "    <tr>\n",
       "      <th>17</th>\n",
       "      <td>2017-09-10 08:00:00</td>\n",
       "      <td>300.85</td>\n",
       "      <td>303.94</td>\n",
       "      <td>300.00</td>\n",
       "      <td>300.83</td>\n",
       "      <td>48</td>\n",
       "      <td>0.000000</td>\n",
       "      <td>4720.33</td>\n",
       "      <td>-6.69</td>\n",
       "    </tr>\n",
       "    <tr>\n",
       "      <th>18</th>\n",
       "      <td>2017-09-10 09:00:00</td>\n",
       "      <td>300.83</td>\n",
       "      <td>300.83</td>\n",
       "      <td>294.06</td>\n",
       "      <td>294.14</td>\n",
       "      <td>72</td>\n",
       "      <td>-0.022238</td>\n",
       "      <td>4683.10</td>\n",
       "      <td>2.36</td>\n",
       "    </tr>\n",
       "  </tbody>\n",
       "</table>\n",
       "</div>"
      ],
      "text/plain": [
       "             Date_Time    Open     Max     Min   Close  Volume  Pct_Change  \\\n",
       "14 2017-09-10 03:00:00  312.60  312.60  312.60  312.60       1    0.000000   \n",
       "15 2017-09-10 06:00:00  297.10  297.10  293.24  293.24       6   -0.061932   \n",
       "16 2017-09-10 07:00:00  293.24  300.83  292.00  300.83      52    0.025883   \n",
       "17 2017-09-10 08:00:00  300.85  303.94  300.00  300.83      48    0.000000   \n",
       "18 2017-09-10 09:00:00  300.83  300.83  294.06  294.14      72   -0.022238   \n",
       "\n",
       "      SMA15   Diff  \n",
       "14  4807.39 -19.36  \n",
       "15  4764.70   7.59  \n",
       "16  4743.37   0.00  \n",
       "17  4720.33  -6.69  \n",
       "18  4683.10   2.36  "
      ]
     },
     "execution_count": 27,
     "metadata": {},
     "output_type": "execute_result"
    }
   ],
   "source": [
    "dash = dash.copy()\n",
    "dash['Pct_Change'] = dash['Close'].pct_change()\n",
    "\n",
    "dash['SMA15'] = dash['Close'].rolling(15).sum()\n",
    "\n",
    "diff = np.ediff1d(dash[['Close']])\n",
    "diff_df = pd.DataFrame([dash.Close,np.ediff1d(dash[['Close']])], dtype=float)\n",
    "diff_array = diff_df.values[1]\n",
    "dash['Diff'] = diff_array\n",
    "\n",
    "dash = dash.dropna()\n",
    "dash.head()"
   ]
  },
  {
   "cell_type": "code",
   "execution_count": 28,
   "metadata": {},
   "outputs": [
    {
     "name": "stdout",
     "output_type": "stream",
     "text": [
      "min -19.360\n",
      "max 31.880\n",
      "median 0.000\n",
      "mean -0.034\n"
     ]
    }
   ],
   "source": [
    "print(\"min %.3f\" % np.amin(dash['Diff'].values))\n",
    "print(\"max %.3f\" % np.amax(dash['Diff'].values))\n",
    "print(\"median %.3f\" % np.median(dash['Diff'].values))\n",
    "print(\"mean %.3f\" % np.mean(dash['Diff'].values))"
   ]
  },
  {
   "cell_type": "code",
   "execution_count": 29,
   "metadata": {
    "collapsed": true
   },
   "outputs": [],
   "source": [
    "n_train = (dash['Date_Time'].count()*0.7).astype(int)\n",
    "\n",
    "X = dash[[\"Open\",\"Max\",\"Min\",\"Volume\",\"Close\",\"Pct_Change\",\"SMA15\"]]\n",
    "y = dash['Diff']\n",
    "\n",
    "X_train, X_test = X[:n_train], X[n_train:]\n",
    "y_train, y_test = y[:n_train], y[n_train:] "
   ]
  },
  {
   "cell_type": "code",
   "execution_count": 30,
   "metadata": {
    "collapsed": true
   },
   "outputs": [],
   "source": [
    "def plot_residuen(model):\n",
    "\n",
    "    y_train_pred = model.predict(X_train)\n",
    "    y_test_pred = model.predict(X_test)\n",
    "\n",
    "    plt.scatter(y_train_pred, y_train_pred-y_train, c='blue', marker='o', label='Trainingsdaten')\n",
    "    plt.scatter(y_test_pred, y_test_pred-y_test, c='lightgreen', marker='s', label='Testdaten')\n",
    "    plt.xlabel('Vorhergesagte Werte')\n",
    "    plt.ylabel('Residuen')\n",
    "    plt.hlines(y=0, xmin=-10, xmax=10, lw=2, color='red')\n",
    "    "
   ]
  },
  {
   "cell_type": "code",
   "execution_count": 31,
   "metadata": {},
   "outputs": [],
   "source": [
    "from sklearn.metrics import mean_squared_error\n",
    "from sklearn.metrics import r2_score\n",
    "\n",
    "def print_scores(model):\n",
    "    y_train_pred = model.predict(X_train)\n",
    "    y_test_pred = model.predict(X_test)\n",
    "\n",
    "    print('MSE-Training: %.3f, Test: %.3f' %(mean_squared_error(y_train, y_train_pred), mean_squared_error(y_test, y_test_pred)))\n",
    "    print('R^2-Training: %.3f, Test: %.3f' % (r2_score(y_train, y_train_pred), r2_score(y_test, y_test_pred)))"
   ]
  },
  {
   "cell_type": "code",
   "execution_count": 32,
   "metadata": {},
   "outputs": [
    {
     "data": {
      "text/plain": [
       "LinearRegression(copy_X=True, fit_intercept=True, n_jobs=1, normalize=False)"
      ]
     },
     "execution_count": 32,
     "metadata": {},
     "output_type": "execute_result"
    }
   ],
   "source": [
    "from sklearn.linear_model import LinearRegression\n",
    "lr = LinearRegression()\n",
    "lr.fit(X_train, y_train)"
   ]
  },
  {
   "cell_type": "code",
   "execution_count": 33,
   "metadata": {},
   "outputs": [
    {
     "data": {
      "image/png": "[encoded data removed]",
      "text/plain": [
       "<matplotlib.figure.Figure at 0x7f98f463dd30>"
      ]
     },
     "metadata": {},
     "output_type": "display_data"
    }
   ],
   "source": [
    "plot_residuen(lr)"
   ]
  },
  {
   "cell_type": "code",
   "execution_count": 34,
   "metadata": {},
   "outputs": [
    {
     "name": "stdout",
     "output_type": "stream",
     "text": [
      "MSE-Training: 13.742, Test: 4.225\n",
      "R^2-Training: 0.028, Test: -0.016\n"
     ]
    }
   ],
   "source": [
    "print_scores(lr)"
   ]
  },
  {
   "cell_type": "code",
   "execution_count": 35,
   "metadata": {},
   "outputs": [
    {
     "data": {
      "text/plain": [
       "RandomForestRegressor(bootstrap=True, criterion='mse', max_depth=None,\n",
       "           max_features='auto', max_leaf_nodes=None,\n",
       "           min_impurity_split=1e-07, min_samples_leaf=1,\n",
       "           min_samples_split=2, min_weight_fraction_leaf=0.0,\n",
       "           n_estimators=1000, n_jobs=-1, oob_score=False, random_state=1,\n",
       "           verbose=0, warm_start=False)"
      ]
     },
     "execution_count": 35,
     "metadata": {},
     "output_type": "execute_result"
    }
   ],
   "source": [
    "from sklearn.ensemble import RandomForestRegressor\n",
    "\n",
    "forest = RandomForestRegressor(n_estimators=1000, criterion='mse', random_state=1, n_jobs=-1)\n",
    "forest.fit(X_train, y_train)"
   ]
  },
  {
   "cell_type": "code",
   "execution_count": 36,
   "metadata": {},
   "outputs": [
    {
     "data": {
      "image/png": "[encoded data removed]",
      "text/plain": [
       "<matplotlib.figure.Figure at 0x7f98f366eeb8>"
      ]
     },
     "metadata": {},
     "output_type": "display_data"
    }
   ],
   "source": [
    "plot_residuen(forest)"
   ]
  },
  {
   "cell_type": "code",
   "execution_count": 37,
   "metadata": {},
   "outputs": [
    {
     "name": "stdout",
     "output_type": "stream",
     "text": [
      "MSE-Training: 1.997, Test: 5.506\n",
      "R^2-Training: 0.859, Test: -0.324\n"
     ]
    }
   ],
   "source": [
    "print_scores(forest)"
   ]
  }
 ],
 "metadata": {
  "kernelspec": {
   "display_name": "Python 3",
   "language": "python",
   "name": "python3"
  },
  "language_info": {
   "codemirror_mode": {
    "name": "ipython",
    "version": 3
   },
   "file_extension": ".py",
   "mimetype": "text/x-python",
   "name": "python",
   "nbconvert_exporter": "python",
   "pygments_lexer": "ipython3",
   "version": "3.6.1"
  }
 },
 "nbformat": 4,
 "nbformat_minor": 2
}
