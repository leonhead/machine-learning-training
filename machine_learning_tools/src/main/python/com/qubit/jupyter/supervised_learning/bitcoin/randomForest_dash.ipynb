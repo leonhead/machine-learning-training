{
 "cells": [
  {
   "cell_type": "code",
   "execution_count": 7,
   "metadata": {},
   "outputs": [
    {
     "data": {
      "text/html": [
       "<div>\n",
       "<style>\n",
       "    .dataframe thead tr:only-child th {\n",
       "        text-align: right;\n",
       "    }\n",
       "\n",
       "    .dataframe thead th {\n",
       "        text-align: left;\n",
       "    }\n",
       "\n",
       "    .dataframe tbody tr th {\n",
       "        vertical-align: top;\n",
       "    }\n",
       "</style>\n",
       "<table border=\"1\" class=\"dataframe\">\n",
       "  <thead>\n",
       "    <tr style=\"text-align: right;\">\n",
       "      <th></th>\n",
       "      <th>Date_Time</th>\n",
       "      <th>Open</th>\n",
       "      <th>Max</th>\n",
       "      <th>Min</th>\n",
       "      <th>Close</th>\n",
       "      <th>Volume</th>\n",
       "    </tr>\n",
       "  </thead>\n",
       "  <tbody>\n",
       "    <tr>\n",
       "      <th>0</th>\n",
       "      <td>2017-05-15</td>\n",
       "      <td>86.90</td>\n",
       "      <td>93.81</td>\n",
       "      <td>84.76</td>\n",
       "      <td>92.85</td>\n",
       "      <td>651</td>\n",
       "    </tr>\n",
       "    <tr>\n",
       "      <th>1</th>\n",
       "      <td>2017-05-16</td>\n",
       "      <td>93.54</td>\n",
       "      <td>93.54</td>\n",
       "      <td>86.00</td>\n",
       "      <td>87.06</td>\n",
       "      <td>983</td>\n",
       "    </tr>\n",
       "    <tr>\n",
       "      <th>2</th>\n",
       "      <td>2017-05-17</td>\n",
       "      <td>87.06</td>\n",
       "      <td>91.14</td>\n",
       "      <td>79.73</td>\n",
       "      <td>84.20</td>\n",
       "      <td>907</td>\n",
       "    </tr>\n",
       "    <tr>\n",
       "      <th>3</th>\n",
       "      <td>2017-05-18</td>\n",
       "      <td>84.21</td>\n",
       "      <td>92.03</td>\n",
       "      <td>84.20</td>\n",
       "      <td>91.25</td>\n",
       "      <td>869</td>\n",
       "    </tr>\n",
       "    <tr>\n",
       "      <th>4</th>\n",
       "      <td>2017-05-19</td>\n",
       "      <td>92.11</td>\n",
       "      <td>102.31</td>\n",
       "      <td>86.17</td>\n",
       "      <td>97.84</td>\n",
       "      <td>1159</td>\n",
       "    </tr>\n",
       "  </tbody>\n",
       "</table>\n",
       "</div>"
      ],
      "text/plain": [
       "   Date_Time   Open     Max    Min  Close  Volume\n",
       "0 2017-05-15  86.90   93.81  84.76  92.85     651\n",
       "1 2017-05-16  93.54   93.54  86.00  87.06     983\n",
       "2 2017-05-17  87.06   91.14  79.73  84.20     907\n",
       "3 2017-05-18  84.21   92.03  84.20  91.25     869\n",
       "4 2017-05-19  92.11  102.31  86.17  97.84    1159"
      ]
     },
     "execution_count": 7,
     "metadata": {},
     "output_type": "execute_result"
    }
   ],
   "source": [
    "import pandas as pd\n",
    "import datetime\n",
    "import numpy as np\n",
    "import matplotlib.pyplot as plt\n",
    "from pandas_datareader import data\n",
    "%matplotlib inline\n",
    "\n",
    "dash = pd.read_csv('/home/ml/datasets/DASH1440.csv',delimiter=',', parse_dates=[['Date', 'Time']])\n",
    "dash.head()"
   ]
  },
  {
   "cell_type": "code",
   "execution_count": 8,
   "metadata": {},
   "outputs": [
    {
     "data": {
      "text/html": [
       "<div>\n",
       "<style>\n",
       "    .dataframe thead tr:only-child th {\n",
       "        text-align: right;\n",
       "    }\n",
       "\n",
       "    .dataframe thead th {\n",
       "        text-align: left;\n",
       "    }\n",
       "\n",
       "    .dataframe tbody tr th {\n",
       "        vertical-align: top;\n",
       "    }\n",
       "</style>\n",
       "<table border=\"1\" class=\"dataframe\">\n",
       "  <thead>\n",
       "    <tr style=\"text-align: right;\">\n",
       "      <th></th>\n",
       "      <th>Date_Time</th>\n",
       "      <th>Open</th>\n",
       "      <th>Max</th>\n",
       "      <th>Min</th>\n",
       "      <th>Close</th>\n",
       "      <th>Volume</th>\n",
       "      <th>Pct_Change</th>\n",
       "      <th>Direction</th>\n",
       "    </tr>\n",
       "  </thead>\n",
       "  <tbody>\n",
       "    <tr>\n",
       "      <th>0</th>\n",
       "      <td>2017-05-15</td>\n",
       "      <td>86.90</td>\n",
       "      <td>93.81</td>\n",
       "      <td>84.76</td>\n",
       "      <td>92.85</td>\n",
       "      <td>651</td>\n",
       "      <td>NaN</td>\n",
       "      <td>-1.0</td>\n",
       "    </tr>\n",
       "    <tr>\n",
       "      <th>1</th>\n",
       "      <td>2017-05-16</td>\n",
       "      <td>93.54</td>\n",
       "      <td>93.54</td>\n",
       "      <td>86.00</td>\n",
       "      <td>87.06</td>\n",
       "      <td>983</td>\n",
       "      <td>-0.062359</td>\n",
       "      <td>-1.0</td>\n",
       "    </tr>\n",
       "    <tr>\n",
       "      <th>2</th>\n",
       "      <td>2017-05-17</td>\n",
       "      <td>87.06</td>\n",
       "      <td>91.14</td>\n",
       "      <td>79.73</td>\n",
       "      <td>84.20</td>\n",
       "      <td>907</td>\n",
       "      <td>-0.032851</td>\n",
       "      <td>1.0</td>\n",
       "    </tr>\n",
       "    <tr>\n",
       "      <th>3</th>\n",
       "      <td>2017-05-18</td>\n",
       "      <td>84.21</td>\n",
       "      <td>92.03</td>\n",
       "      <td>84.20</td>\n",
       "      <td>91.25</td>\n",
       "      <td>869</td>\n",
       "      <td>0.083729</td>\n",
       "      <td>1.0</td>\n",
       "    </tr>\n",
       "    <tr>\n",
       "      <th>4</th>\n",
       "      <td>2017-05-19</td>\n",
       "      <td>92.11</td>\n",
       "      <td>102.31</td>\n",
       "      <td>86.17</td>\n",
       "      <td>97.84</td>\n",
       "      <td>1159</td>\n",
       "      <td>0.072219</td>\n",
       "      <td>1.0</td>\n",
       "    </tr>\n",
       "  </tbody>\n",
       "</table>\n",
       "</div>"
      ],
      "text/plain": [
       "   Date_Time   Open     Max    Min  Close  Volume  Pct_Change  Direction\n",
       "0 2017-05-15  86.90   93.81  84.76  92.85     651         NaN       -1.0\n",
       "1 2017-05-16  93.54   93.54  86.00  87.06     983   -0.062359       -1.0\n",
       "2 2017-05-17  87.06   91.14  79.73  84.20     907   -0.032851        1.0\n",
       "3 2017-05-18  84.21   92.03  84.20  91.25     869    0.083729        1.0\n",
       "4 2017-05-19  92.11  102.31  86.17  97.84    1159    0.072219        1.0"
      ]
     },
     "execution_count": 8,
     "metadata": {},
     "output_type": "execute_result"
    }
   ],
   "source": [
    "dash['Pct_Change'] = dash['Close'].pct_change()\n",
    "diff = np.ediff1d(dash[['Close']])\n",
    "diff_df = pd.DataFrame([dash.Close,np.ediff1d(dash[['Close']])], dtype=float)\n",
    "diff_array = np.sign(diff_df.values[1])\n",
    "dash['Direction'] = diff_array\n",
    "dash.head()\n",
    "#dash['Direction'] = np.sign(dash['Close'].pct_change())\n",
    "#dash = dash.dropna()\n",
    "#print(np.unique(dash.Direction))\n",
    "#dash.head()"
   ]
  },
  {
   "cell_type": "code",
   "execution_count": 9,
   "metadata": {
    "collapsed": true
   },
   "outputs": [],
   "source": [
    "dash['SMA15'] = dash['Close'].rolling(15).sum()"
   ]
  },
  {
   "cell_type": "code",
   "execution_count": 13,
   "metadata": {},
   "outputs": [],
   "source": [
    "dash = dash.dropna()"
   ]
  },
  {
   "cell_type": "code",
   "execution_count": 14,
   "metadata": {
    "collapsed": true
   },
   "outputs": [],
   "source": [
    "n_train = (dash['Date_Time'].count()*0.7).astype(int)\n",
    "\n",
    "X = dash[[\"Open\",\"Max\",\"Min\",\"Close\",\"Volume\",\"Pct_Change\",\"SMA15\"]]\n",
    "y = dash['Direction']\n",
    "\n",
    "X_train, X_test = X[:n_train], X[n_train:]\n",
    "y_train, y_test = y[:n_train], y[n_train:] "
   ]
  },
  {
   "cell_type": "code",
   "execution_count": 26,
   "metadata": {},
   "outputs": [
    {
     "data": {
      "text/plain": [
       "DecisionTreeClassifier(class_weight=None, criterion='gini', max_depth=3,\n",
       "            max_features=None, max_leaf_nodes=None,\n",
       "            min_impurity_split=1e-07, min_samples_leaf=1,\n",
       "            min_samples_split=2, min_weight_fraction_leaf=0.0,\n",
       "            presort=False, random_state=0, splitter='best')"
      ]
     },
     "execution_count": 26,
     "metadata": {},
     "output_type": "execute_result"
    }
   ],
   "source": [
    "from sklearn.tree import DecisionTreeClassifier \n",
    "\n",
    "tree = DecisionTreeClassifier(max_depth=3,random_state=0)\n",
    "tree.fit(X_train, y_train)"
   ]
  },
  {
   "cell_type": "code",
   "execution_count": 27,
   "metadata": {},
   "outputs": [
    {
     "name": "stdout",
     "output_type": "stream",
     "text": [
      "Genauigkeit auf den Trainingsdaten: 0.710\n",
      "Genauigkeit auf den Testdaten: 0.625\n"
     ]
    }
   ],
   "source": [
    "print(\"Genauigkeit auf den Trainingsdaten: {:.3f}\".format(tree.score(X_train, y_train)))\n",
    "print(\"Genauigkeit auf den Testdaten: {:.3f}\".format(tree.score(X_test, y_test)))"
   ]
  },
  {
   "cell_type": "code",
   "execution_count": 28,
   "metadata": {},
   "outputs": [
    {
     "name": "stdout",
     "output_type": "stream",
     "text": [
      "[-1.  0.  1.]\n"
     ]
    }
   ],
   "source": [
    "print(np.unique(dash.Direction))"
   ]
  },
  {
   "cell_type": "code",
   "execution_count": 29,
   "metadata": {},
   "outputs": [],
   "source": [
    "from sklearn.tree import export_graphviz\n",
    "export_graphviz(tree, out_file=\"tree.dot\", class_names=[\"-1\", \"0\", \"1\"], feature_names=[\"Open\",\"Max\",\"Min\",\"Close\",\"Volume\",\"Pct_Change\",\"SMA15\"], impurity=False, filled=True)\n"
   ]
  },
  {
   "cell_type": "code",
   "execution_count": 30,
   "metadata": {},
   "outputs": [
    {
     "data": {
      "image/svg+xml": [
       "<?xml version=\"1.0\" encoding=\"UTF-8\" standalone=\"no\"?>\n",
       "<!DOCTYPE svg PUBLIC \"-//W3C//DTD SVG 1.1//EN\"\n",
       " \"http://www.w3.org/Graphics/SVG/1.1/DTD/svg11.dtd\">\n",
       "<!-- Generated by graphviz version 2.38.0 (20140413.2041)\n",
       " -->\n",
       "<!-- Title: Tree Pages: 1 -->\n",
       "<svg width=\"515pt\" height=\"373pt\"\n",
       " viewBox=\"0.00 0.00 514.50 373.00\" xmlns=\"http://www.w3.org/2000/svg\" xmlns:xlink=\"http://www.w3.org/1999/xlink\">\n",
       "<g id=\"graph0\" class=\"graph\" transform=\"scale(1 1) rotate(0) translate(4 369)\">\n",
       "<title>Tree</title>\n",
       "<polygon fill=\"white\" stroke=\"none\" points=\"-4,4 -4,-369 510.5,-369 510.5,4 -4,4\"/>\n",
       "<!-- 0 -->\n",
       "<g id=\"node1\" class=\"node\"><title>0</title>\n",
       "<polygon fill=\"#8139e5\" fill-opacity=\"0.258824\" stroke=\"black\" points=\"393.5,-365 271.5,-365 271.5,-297 393.5,-297 393.5,-365\"/>\n",
       "<text text-anchor=\"middle\" x=\"332.5\" y=\"-349.8\" font-family=\"Times,serif\" font-size=\"14.00\">Volume &lt;= 2371.0</text>\n",
       "<text text-anchor=\"middle\" x=\"332.5\" y=\"-334.8\" font-family=\"Times,serif\" font-size=\"14.00\">samples = 93</text>\n",
       "<text text-anchor=\"middle\" x=\"332.5\" y=\"-319.8\" font-family=\"Times,serif\" font-size=\"14.00\">value = [39, 1, 53]</text>\n",
       "<text text-anchor=\"middle\" x=\"332.5\" y=\"-304.8\" font-family=\"Times,serif\" font-size=\"14.00\">class = 1</text>\n",
       "</g>\n",
       "<!-- 1 -->\n",
       "<g id=\"node2\" class=\"node\"><title>1</title>\n",
       "<polygon fill=\"#8139e5\" fill-opacity=\"0.427451\" stroke=\"black\" points=\"332.5,-261 190.5,-261 190.5,-193 332.5,-193 332.5,-261\"/>\n",
       "<text text-anchor=\"middle\" x=\"261.5\" y=\"-245.8\" font-family=\"Times,serif\" font-size=\"14.00\">SMA15 &lt;= 5005.1348</text>\n",
       "<text text-anchor=\"middle\" x=\"261.5\" y=\"-230.8\" font-family=\"Times,serif\" font-size=\"14.00\">samples = 84</text>\n",
       "<text text-anchor=\"middle\" x=\"261.5\" y=\"-215.8\" font-family=\"Times,serif\" font-size=\"14.00\">value = [30, 1, 53]</text>\n",
       "<text text-anchor=\"middle\" x=\"261.5\" y=\"-200.8\" font-family=\"Times,serif\" font-size=\"14.00\">class = 1</text>\n",
       "</g>\n",
       "<!-- 0&#45;&gt;1 -->\n",
       "<g id=\"edge1\" class=\"edge\"><title>0&#45;&gt;1</title>\n",
       "<path fill=\"none\" stroke=\"black\" d=\"M309.448,-296.884C303.372,-288.154 296.739,-278.625 290.397,-269.514\"/>\n",
       "<polygon fill=\"black\" stroke=\"black\" points=\"293.265,-267.507 284.679,-261.299 287.519,-271.506 293.265,-267.507\"/>\n",
       "<text text-anchor=\"middle\" x=\"280.269\" y=\"-282.207\" font-family=\"Times,serif\" font-size=\"14.00\">True</text>\n",
       "</g>\n",
       "<!-- 8 -->\n",
       "<g id=\"node9\" class=\"node\"><title>8</title>\n",
       "<polygon fill=\"#e58139\" stroke=\"black\" points=\"456.5,-253.5 350.5,-253.5 350.5,-200.5 456.5,-200.5 456.5,-253.5\"/>\n",
       "<text text-anchor=\"middle\" x=\"403.5\" y=\"-238.3\" font-family=\"Times,serif\" font-size=\"14.00\">samples = 9</text>\n",
       "<text text-anchor=\"middle\" x=\"403.5\" y=\"-223.3\" font-family=\"Times,serif\" font-size=\"14.00\">value = [9, 0, 0]</text>\n",
       "<text text-anchor=\"middle\" x=\"403.5\" y=\"-208.3\" font-family=\"Times,serif\" font-size=\"14.00\">class = &#45;1</text>\n",
       "</g>\n",
       "<!-- 0&#45;&gt;8 -->\n",
       "<g id=\"edge8\" class=\"edge\"><title>0&#45;&gt;8</title>\n",
       "<path fill=\"none\" stroke=\"black\" d=\"M355.552,-296.884C363.36,-285.666 372.089,-273.126 379.936,-261.852\"/>\n",
       "<polygon fill=\"black\" stroke=\"black\" points=\"382.896,-263.727 385.736,-253.52 377.15,-259.728 382.896,-263.727\"/>\n",
       "<text text-anchor=\"middle\" x=\"390.146\" y=\"-274.428\" font-family=\"Times,serif\" font-size=\"14.00\">False</text>\n",
       "</g>\n",
       "<!-- 2 -->\n",
       "<g id=\"node3\" class=\"node\"><title>2</title>\n",
       "<polygon fill=\"#8139e5\" fill-opacity=\"0.509804\" stroke=\"black\" points=\"260.5,-157 118.5,-157 118.5,-89 260.5,-89 260.5,-157\"/>\n",
       "<text text-anchor=\"middle\" x=\"189.5\" y=\"-141.8\" font-family=\"Times,serif\" font-size=\"14.00\">SMA15 &lt;= 2833.1499</text>\n",
       "<text text-anchor=\"middle\" x=\"189.5\" y=\"-126.8\" font-family=\"Times,serif\" font-size=\"14.00\">samples = 78</text>\n",
       "<text text-anchor=\"middle\" x=\"189.5\" y=\"-111.8\" font-family=\"Times,serif\" font-size=\"14.00\">value = [25, 1, 52]</text>\n",
       "<text text-anchor=\"middle\" x=\"189.5\" y=\"-96.8\" font-family=\"Times,serif\" font-size=\"14.00\">class = 1</text>\n",
       "</g>\n",
       "<!-- 1&#45;&gt;2 -->\n",
       "<g id=\"edge2\" class=\"edge\"><title>1&#45;&gt;2</title>\n",
       "<path fill=\"none\" stroke=\"black\" d=\"M238.124,-192.884C231.962,-184.154 225.235,-174.625 218.804,-165.514\"/>\n",
       "<polygon fill=\"black\" stroke=\"black\" points=\"221.632,-163.451 213.005,-157.299 215.913,-167.487 221.632,-163.451\"/>\n",
       "</g>\n",
       "<!-- 5 -->\n",
       "<g id=\"node6\" class=\"node\"><title>5</title>\n",
       "<polygon fill=\"#e58139\" fill-opacity=\"0.800000\" stroke=\"black\" points=\"388,-157 279,-157 279,-89 388,-89 388,-157\"/>\n",
       "<text text-anchor=\"middle\" x=\"333.5\" y=\"-141.8\" font-family=\"Times,serif\" font-size=\"14.00\">Close &lt;= 316.78</text>\n",
       "<text text-anchor=\"middle\" x=\"333.5\" y=\"-126.8\" font-family=\"Times,serif\" font-size=\"14.00\">samples = 6</text>\n",
       "<text text-anchor=\"middle\" x=\"333.5\" y=\"-111.8\" font-family=\"Times,serif\" font-size=\"14.00\">value = [5, 0, 1]</text>\n",
       "<text text-anchor=\"middle\" x=\"333.5\" y=\"-96.8\" font-family=\"Times,serif\" font-size=\"14.00\">class = &#45;1</text>\n",
       "</g>\n",
       "<!-- 1&#45;&gt;5 -->\n",
       "<g id=\"edge5\" class=\"edge\"><title>1&#45;&gt;5</title>\n",
       "<path fill=\"none\" stroke=\"black\" d=\"M284.876,-192.884C291.038,-184.154 297.765,-174.625 304.196,-165.514\"/>\n",
       "<polygon fill=\"black\" stroke=\"black\" points=\"307.087,-167.487 309.995,-157.299 301.368,-163.451 307.087,-167.487\"/>\n",
       "</g>\n",
       "<!-- 3 -->\n",
       "<g id=\"node4\" class=\"node\"><title>3</title>\n",
       "<polygon fill=\"#8139e5\" fill-opacity=\"0.333333\" stroke=\"black\" points=\"119,-53 0,-53 0,-0 119,-0 119,-53\"/>\n",
       "<text text-anchor=\"middle\" x=\"59.5\" y=\"-37.8\" font-family=\"Times,serif\" font-size=\"14.00\">samples = 59</text>\n",
       "<text text-anchor=\"middle\" x=\"59.5\" y=\"-22.8\" font-family=\"Times,serif\" font-size=\"14.00\">value = [23, 1, 35]</text>\n",
       "<text text-anchor=\"middle\" x=\"59.5\" y=\"-7.8\" font-family=\"Times,serif\" font-size=\"14.00\">class = 1</text>\n",
       "</g>\n",
       "<!-- 2&#45;&gt;3 -->\n",
       "<g id=\"edge3\" class=\"edge\"><title>2&#45;&gt;3</title>\n",
       "<path fill=\"none\" stroke=\"black\" d=\"M144.032,-88.9485C130.819,-79.3431 116.418,-68.8747 103.308,-59.345\"/>\n",
       "<polygon fill=\"black\" stroke=\"black\" points=\"105.052,-56.2856 94.905,-53.2367 100.936,-61.9477 105.052,-56.2856\"/>\n",
       "</g>\n",
       "<!-- 4 -->\n",
       "<g id=\"node5\" class=\"node\"><title>4</title>\n",
       "<polygon fill=\"#8139e5\" fill-opacity=\"0.882353\" stroke=\"black\" points=\"250,-53 137,-53 137,-0 250,-0 250,-53\"/>\n",
       "<text text-anchor=\"middle\" x=\"193.5\" y=\"-37.8\" font-family=\"Times,serif\" font-size=\"14.00\">samples = 19</text>\n",
       "<text text-anchor=\"middle\" x=\"193.5\" y=\"-22.8\" font-family=\"Times,serif\" font-size=\"14.00\">value = [2, 0, 17]</text>\n",
       "<text text-anchor=\"middle\" x=\"193.5\" y=\"-7.8\" font-family=\"Times,serif\" font-size=\"14.00\">class = 1</text>\n",
       "</g>\n",
       "<!-- 2&#45;&gt;4 -->\n",
       "<g id=\"edge4\" class=\"edge\"><title>2&#45;&gt;4</title>\n",
       "<path fill=\"none\" stroke=\"black\" d=\"M190.899,-88.9485C191.248,-80.7153 191.623,-71.848 191.977,-63.4814\"/>\n",
       "<polygon fill=\"black\" stroke=\"black\" points=\"195.484,-63.3758 192.411,-53.2367 188.491,-63.0797 195.484,-63.3758\"/>\n",
       "</g>\n",
       "<!-- 6 -->\n",
       "<g id=\"node7\" class=\"node\"><title>6</title>\n",
       "<polygon fill=\"none\" stroke=\"black\" points=\"382.5,-53 276.5,-53 276.5,-0 382.5,-0 382.5,-53\"/>\n",
       "<text text-anchor=\"middle\" x=\"329.5\" y=\"-37.8\" font-family=\"Times,serif\" font-size=\"14.00\">samples = 2</text>\n",
       "<text text-anchor=\"middle\" x=\"329.5\" y=\"-22.8\" font-family=\"Times,serif\" font-size=\"14.00\">value = [1, 0, 1]</text>\n",
       "<text text-anchor=\"middle\" x=\"329.5\" y=\"-7.8\" font-family=\"Times,serif\" font-size=\"14.00\">class = &#45;1</text>\n",
       "</g>\n",
       "<!-- 5&#45;&gt;6 -->\n",
       "<g id=\"edge6\" class=\"edge\"><title>5&#45;&gt;6</title>\n",
       "<path fill=\"none\" stroke=\"black\" d=\"M332.101,-88.9485C331.752,-80.7153 331.377,-71.848 331.023,-63.4814\"/>\n",
       "<polygon fill=\"black\" stroke=\"black\" points=\"334.509,-63.0797 330.589,-53.2367 327.516,-63.3758 334.509,-63.0797\"/>\n",
       "</g>\n",
       "<!-- 7 -->\n",
       "<g id=\"node8\" class=\"node\"><title>7</title>\n",
       "<polygon fill=\"#e58139\" stroke=\"black\" points=\"506.5,-53 400.5,-53 400.5,-0 506.5,-0 506.5,-53\"/>\n",
       "<text text-anchor=\"middle\" x=\"453.5\" y=\"-37.8\" font-family=\"Times,serif\" font-size=\"14.00\">samples = 4</text>\n",
       "<text text-anchor=\"middle\" x=\"453.5\" y=\"-22.8\" font-family=\"Times,serif\" font-size=\"14.00\">value = [4, 0, 0]</text>\n",
       "<text text-anchor=\"middle\" x=\"453.5\" y=\"-7.8\" font-family=\"Times,serif\" font-size=\"14.00\">class = &#45;1</text>\n",
       "</g>\n",
       "<!-- 5&#45;&gt;7 -->\n",
       "<g id=\"edge7\" class=\"edge\"><title>5&#45;&gt;7</title>\n",
       "<path fill=\"none\" stroke=\"black\" d=\"M375.47,-88.9485C387.551,-79.4346 400.708,-69.074 412.716,-59.6175\"/>\n",
       "<polygon fill=\"black\" stroke=\"black\" points=\"415.128,-62.1734 420.818,-53.2367 410.797,-56.6739 415.128,-62.1734\"/>\n",
       "</g>\n",
       "</g>\n",
       "</svg>\n"
      ],
      "text/plain": [
       "<graphviz.files.Source at 0x7f9004b68128>"
      ]
     },
     "execution_count": 30,
     "metadata": {},
     "output_type": "execute_result"
    }
   ],
   "source": [
    "import graphviz\n",
    "\n",
    "with open(\"tree.dot\") as f:\n",
    "    dot_graph = f.read()\n",
    "graphviz.Source(dot_graph)"
   ]
  }
 ],
 "metadata": {
  "kernelspec": {
   "display_name": "Python 3",
   "language": "python",
   "name": "python3"
  },
  "language_info": {
   "codemirror_mode": {
    "name": "ipython",
    "version": 3
   },
   "file_extension": ".py",
   "mimetype": "text/x-python",
   "name": "python",
   "nbconvert_exporter": "python",
   "pygments_lexer": "ipython3",
   "version": "3.6.1"
  }
 },
 "nbformat": 4,
 "nbformat_minor": 2
}
