{
 "cells": [
  {
   "cell_type": "code",
   "execution_count": 7,
   "metadata": {},
   "outputs": [
    {
     "data": {
      "text/plain": [
       "Index(['ID\\tASK\\tCOUNT\\tCREATED\\tMAX\\tMEAN\\tMEDIAN\\tMIN\\tSTANDARDDEVIATION\\tSUM\\tSYMBOL\\tVARIANCE'], dtype='object')"
      ]
     },
     "execution_count": 7,
     "metadata": {},
     "output_type": "execute_result"
    }
   ],
   "source": [
    "import pandas as pd\n",
    "bitcoin = pd.read_csv('/home/ml/datasets/order.csv',delimiter='\\t')\n",
    "bitcoin.keys()"
   ]
  },
  {
   "cell_type": "code",
   "execution_count": 4,
   "metadata": {},
   "outputs": [
    {
     "data": {
      "text/html": [
       "<div>\n",
       "<style>\n",
       "    .dataframe thead tr:only-child th {\n",
       "        text-align: right;\n",
       "    }\n",
       "\n",
       "    .dataframe thead th {\n",
       "        text-align: left;\n",
       "    }\n",
       "\n",
       "    .dataframe tbody tr th {\n",
       "        vertical-align: top;\n",
       "    }\n",
       "</style>\n",
       "<table border=\"1\" class=\"dataframe\">\n",
       "  <thead>\n",
       "    <tr style=\"text-align: right;\">\n",
       "      <th></th>\n",
       "      <th>ENTRY</th>\n",
       "      <th>AVAILABLE_SUPPLY</th>\n",
       "      <th>H24_VOLUME_EUR</th>\n",
       "      <th>H24_VOLUME_USD</th>\n",
       "      <th>IDCOIN</th>\n",
       "      <th>LAST_UPDATED</th>\n",
       "      <th>MARKET_CAP_EUR</th>\n",
       "      <th>MARKET_CAP_USD</th>\n",
       "      <th>NAME</th>\n",
       "      <th>PERCENT_CHANGE_1H</th>\n",
       "      <th>PERCENT_CHANGE_24</th>\n",
       "      <th>PERCENT_CHANGE_7D</th>\n",
       "      <th>PRICE_BTC</th>\n",
       "      <th>PRICE_EUR</th>\n",
       "      <th>PRICE_USD</th>\n",
       "      <th>RANK</th>\n",
       "      <th>SYMBOL</th>\n",
       "      <th>TOTAL_SUPPLY</th>\n",
       "    </tr>\n",
       "  </thead>\n",
       "  <tbody>\n",
       "    <tr>\n",
       "      <th>0</th>\n",
       "      <td>256</td>\n",
       "      <td>1405669.0</td>\n",
       "      <td>1.430437e+07</td>\n",
       "      <td>15969100.0</td>\n",
       "      <td>zcash</td>\n",
       "      <td>1496046575</td>\n",
       "      <td>245223512.0</td>\n",
       "      <td>273762423.0</td>\n",
       "      <td>Zcash</td>\n",
       "      <td>-0.28</td>\n",
       "      <td>\\0</td>\n",
       "      <td>55.45</td>\n",
       "      <td>0.088827</td>\n",
       "      <td>174.453271</td>\n",
       "      <td>194.756</td>\n",
       "      <td>14</td>\n",
       "      <td>ZEC</td>\n",
       "      <td>1405669.0</td>\n",
       "    </tr>\n",
       "    <tr>\n",
       "      <th>1</th>\n",
       "      <td>768</td>\n",
       "      <td>1406456.0</td>\n",
       "      <td>1.424749e+07</td>\n",
       "      <td>15905600.0</td>\n",
       "      <td>zcash</td>\n",
       "      <td>1496056477</td>\n",
       "      <td>248230803.0</td>\n",
       "      <td>277119701.0</td>\n",
       "      <td>Zcash</td>\n",
       "      <td>0.44</td>\n",
       "      <td>\\0</td>\n",
       "      <td>44.35</td>\n",
       "      <td>0.087624</td>\n",
       "      <td>176.493797</td>\n",
       "      <td>197.034</td>\n",
       "      <td>14</td>\n",
       "      <td>ZEC</td>\n",
       "      <td>1406456.0</td>\n",
       "    </tr>\n",
       "    <tr>\n",
       "      <th>2</th>\n",
       "      <td>1024</td>\n",
       "      <td>1407294.0</td>\n",
       "      <td>1.393883e+07</td>\n",
       "      <td>15589200.0</td>\n",
       "      <td>zcash</td>\n",
       "      <td>1496065179</td>\n",
       "      <td>244999091.0</td>\n",
       "      <td>274007130.0</td>\n",
       "      <td>Zcash</td>\n",
       "      <td>-0.48</td>\n",
       "      <td>\\0</td>\n",
       "      <td>8.77</td>\n",
       "      <td>0.087900</td>\n",
       "      <td>174.092360</td>\n",
       "      <td>194.705</td>\n",
       "      <td>14</td>\n",
       "      <td>ZEC</td>\n",
       "      <td>1407294.0</td>\n",
       "    </tr>\n",
       "    <tr>\n",
       "      <th>3</th>\n",
       "      <td>1536</td>\n",
       "      <td>1407831.0</td>\n",
       "      <td>1.390611e+07</td>\n",
       "      <td>15552600.0</td>\n",
       "      <td>zcash</td>\n",
       "      <td>1496073278</td>\n",
       "      <td>251751663.0</td>\n",
       "      <td>281559211.0</td>\n",
       "      <td>Zcash</td>\n",
       "      <td>3.91</td>\n",
       "      <td>\\0</td>\n",
       "      <td>-6.61</td>\n",
       "      <td>0.089527</td>\n",
       "      <td>178.822329</td>\n",
       "      <td>199.995</td>\n",
       "      <td>14</td>\n",
       "      <td>ZEC</td>\n",
       "      <td>1407831.0</td>\n",
       "    </tr>\n",
       "    <tr>\n",
       "      <th>4</th>\n",
       "      <td>2304</td>\n",
       "      <td>1409006.0</td>\n",
       "      <td>1.530243e+07</td>\n",
       "      <td>17098700.0</td>\n",
       "      <td>zcash</td>\n",
       "      <td>1496087680</td>\n",
       "      <td>255448005.0</td>\n",
       "      <td>285433668.0</td>\n",
       "      <td>Zcash</td>\n",
       "      <td>-2.18</td>\n",
       "      <td>\\0</td>\n",
       "      <td>-9.27</td>\n",
       "      <td>0.088128</td>\n",
       "      <td>181.296573</td>\n",
       "      <td>202.578</td>\n",
       "      <td>14</td>\n",
       "      <td>ZEC</td>\n",
       "      <td>1409006.0</td>\n",
       "    </tr>\n",
       "  </tbody>\n",
       "</table>\n",
       "</div>"
      ],
      "text/plain": [
       "   ENTRY  AVAILABLE_SUPPLY  H24_VOLUME_EUR  H24_VOLUME_USD IDCOIN  \\\n",
       "0    256         1405669.0    1.430437e+07      15969100.0  zcash   \n",
       "1    768         1406456.0    1.424749e+07      15905600.0  zcash   \n",
       "2   1024         1407294.0    1.393883e+07      15589200.0  zcash   \n",
       "3   1536         1407831.0    1.390611e+07      15552600.0  zcash   \n",
       "4   2304         1409006.0    1.530243e+07      17098700.0  zcash   \n",
       "\n",
       "   LAST_UPDATED  MARKET_CAP_EUR  MARKET_CAP_USD   NAME  PERCENT_CHANGE_1H  \\\n",
       "0    1496046575     245223512.0     273762423.0  Zcash              -0.28   \n",
       "1    1496056477     248230803.0     277119701.0  Zcash               0.44   \n",
       "2    1496065179     244999091.0     274007130.0  Zcash              -0.48   \n",
       "3    1496073278     251751663.0     281559211.0  Zcash               3.91   \n",
       "4    1496087680     255448005.0     285433668.0  Zcash              -2.18   \n",
       "\n",
       "  PERCENT_CHANGE_24  PERCENT_CHANGE_7D  PRICE_BTC   PRICE_EUR  PRICE_USD  \\\n",
       "0                \\0              55.45   0.088827  174.453271    194.756   \n",
       "1                \\0              44.35   0.087624  176.493797    197.034   \n",
       "2                \\0               8.77   0.087900  174.092360    194.705   \n",
       "3                \\0              -6.61   0.089527  178.822329    199.995   \n",
       "4                \\0              -9.27   0.088128  181.296573    202.578   \n",
       "\n",
       "   RANK SYMBOL  TOTAL_SUPPLY  \n",
       "0    14    ZEC     1405669.0  \n",
       "1    14    ZEC     1406456.0  \n",
       "2    14    ZEC     1407294.0  \n",
       "3    14    ZEC     1407831.0  \n",
       "4    14    ZEC     1409006.0  "
      ]
     },
     "execution_count": 4,
     "metadata": {},
     "output_type": "execute_result"
    }
   ],
   "source": [
    "bitcoin.head()"
   ]
  },
  {
   "cell_type": "code",
   "execution_count": 5,
   "metadata": {},
   "outputs": [
    {
     "data": {
      "text/plain": [
       "(1000, 18)"
      ]
     },
     "execution_count": 5,
     "metadata": {},
     "output_type": "execute_result"
    }
   ],
   "source": [
    "bitcoin.shape"
   ]
  },
  {
   "cell_type": "code",
   "execution_count": null,
   "metadata": {
    "collapsed": true
   },
   "outputs": [],
   "source": []
  }
 ],
 "metadata": {
  "kernelspec": {
   "display_name": "Python 3",
   "language": "python",
   "name": "python3"
  },
  "language_info": {
   "codemirror_mode": {
    "name": "ipython",
    "version": 3
   },
   "file_extension": ".py",
   "mimetype": "text/x-python",
   "name": "python",
   "nbconvert_exporter": "python",
   "pygments_lexer": "ipython3",
   "version": "3.6.1"
  }
 },
 "nbformat": 4,
 "nbformat_minor": 2
}
