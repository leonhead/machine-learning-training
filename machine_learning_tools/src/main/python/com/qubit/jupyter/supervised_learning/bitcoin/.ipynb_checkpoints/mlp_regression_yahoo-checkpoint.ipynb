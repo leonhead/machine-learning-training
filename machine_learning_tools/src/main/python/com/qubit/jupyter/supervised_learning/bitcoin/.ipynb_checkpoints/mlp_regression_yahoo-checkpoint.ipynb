{
 "cells": [
  {
   "cell_type": "code",
   "execution_count": 36,
   "metadata": {},
   "outputs": [
    {
     "data": {
      "text/html": [
       "<div>\n",
       "<style>\n",
       "    .dataframe thead tr:only-child th {\n",
       "        text-align: right;\n",
       "    }\n",
       "\n",
       "    .dataframe thead th {\n",
       "        text-align: left;\n",
       "    }\n",
       "\n",
       "    .dataframe tbody tr th {\n",
       "        vertical-align: top;\n",
       "    }\n",
       "</style>\n",
       "<table border=\"1\" class=\"dataframe\">\n",
       "  <thead>\n",
       "    <tr style=\"text-align: right;\">\n",
       "      <th></th>\n",
       "      <th>Open</th>\n",
       "      <th>High</th>\n",
       "      <th>Low</th>\n",
       "      <th>Close</th>\n",
       "      <th>Adj Close</th>\n",
       "      <th>Volume</th>\n",
       "    </tr>\n",
       "    <tr>\n",
       "      <th>Date</th>\n",
       "      <th></th>\n",
       "      <th></th>\n",
       "      <th></th>\n",
       "      <th></th>\n",
       "      <th></th>\n",
       "      <th></th>\n",
       "    </tr>\n",
       "  </thead>\n",
       "  <tbody>\n",
       "    <tr>\n",
       "      <th>2004-12-31</th>\n",
       "      <td>1213.550049</td>\n",
       "      <td>1217.329956</td>\n",
       "      <td>1211.650024</td>\n",
       "      <td>1211.920044</td>\n",
       "      <td>1211.920044</td>\n",
       "      <td>786900000</td>\n",
       "    </tr>\n",
       "  </tbody>\n",
       "</table>\n",
       "</div>"
      ],
      "text/plain": [
       "                   Open         High          Low        Close    Adj Close  \\\n",
       "Date                                                                          \n",
       "2004-12-31  1213.550049  1217.329956  1211.650024  1211.920044  1211.920044   \n",
       "\n",
       "               Volume  \n",
       "Date                   \n",
       "2004-12-31  786900000  "
      ]
     },
     "execution_count": 36,
     "metadata": {},
     "output_type": "execute_result"
    }
   ],
   "source": [
    "import pandas as pd\n",
    "import datetime\n",
    "import numpy as np\n",
    "import matplotlib.pyplot as plt\n",
    "from pandas_datareader import data\n",
    "%matplotlib inline\n",
    "\n",
    "from sklearn.pipeline import Pipeline\n",
    "from sklearn.preprocessing import StandardScaler\n",
    "from sklearn.neural_network import MLPRegressor\n",
    "from sklearn.preprocessing import MinMaxScaler\n",
    "from sklearn.model_selection import GridSearchCV\n",
    "\n",
    "symbol = \"^GSPC\"\n",
    "start_date = datetime.datetime(2005,1,1)\n",
    "end_date = datetime.datetime(2005,12,31)\n",
    "df = data.DataReader(symbol, \"yahoo\", start_date, end_date)\n",
    "df.head(1)"
   ]
  },
  {
   "cell_type": "code",
   "execution_count": 37,
   "metadata": {},
   "outputs": [
    {
     "data": {
      "text/html": [
       "<div>\n",
       "<style>\n",
       "    .dataframe thead tr:only-child th {\n",
       "        text-align: right;\n",
       "    }\n",
       "\n",
       "    .dataframe thead th {\n",
       "        text-align: left;\n",
       "    }\n",
       "\n",
       "    .dataframe tbody tr th {\n",
       "        vertical-align: top;\n",
       "    }\n",
       "</style>\n",
       "<table border=\"1\" class=\"dataframe\">\n",
       "  <thead>\n",
       "    <tr style=\"text-align: right;\">\n",
       "      <th></th>\n",
       "      <th>Open</th>\n",
       "      <th>High</th>\n",
       "      <th>Low</th>\n",
       "      <th>Close</th>\n",
       "      <th>Volume</th>\n",
       "    </tr>\n",
       "    <tr>\n",
       "      <th>Date</th>\n",
       "      <th></th>\n",
       "      <th></th>\n",
       "      <th></th>\n",
       "      <th></th>\n",
       "      <th></th>\n",
       "    </tr>\n",
       "  </thead>\n",
       "  <tbody>\n",
       "    <tr>\n",
       "      <th>2004-12-31</th>\n",
       "      <td>1213.550049</td>\n",
       "      <td>1217.329956</td>\n",
       "      <td>1211.650024</td>\n",
       "      <td>1211.920044</td>\n",
       "      <td>786900000</td>\n",
       "    </tr>\n",
       "  </tbody>\n",
       "</table>\n",
       "</div>"
      ],
      "text/plain": [
       "                   Open         High          Low        Close     Volume\n",
       "Date                                                                     \n",
       "2004-12-31  1213.550049  1217.329956  1211.650024  1211.920044  786900000"
      ]
     },
     "execution_count": 37,
     "metadata": {},
     "output_type": "execute_result"
    }
   ],
   "source": [
    "df = df.drop('Adj Close', axis=1)\n",
    "df.head(1)"
   ]
  },
  {
   "cell_type": "code",
   "execution_count": 38,
   "metadata": {
    "collapsed": true
   },
   "outputs": [],
   "source": [
    "df['SMA14'] = df['Close'].rolling(window=14,min_periods=1).mean()\n",
    "#df['SMA30'] = df['Close'].rolling(window=30,min_periods=1).mean()\n",
    "#df['EMA14'] = df['Close'].ewm(span=14,min_periods=1).mean()\n",
    "#df['EMA30'] = df['Close'].ewm(span=30,min_periods=1).mean()"
   ]
  },
  {
   "cell_type": "code",
   "execution_count": 39,
   "metadata": {
    "collapsed": true
   },
   "outputs": [],
   "source": [
    "diff = np.ediff1d(df[['Close']])\n",
    "price_diff = np.append(diff,[0], axis=0)\n",
    "price_close = df['Close']\n",
    "df['Y'] = np.add(price_close, price_diff)"
   ]
  },
  {
   "cell_type": "code",
   "execution_count": 40,
   "metadata": {},
   "outputs": [
    {
     "data": {
      "text/html": [
       "<div>\n",
       "<style>\n",
       "    .dataframe thead tr:only-child th {\n",
       "        text-align: right;\n",
       "    }\n",
       "\n",
       "    .dataframe thead th {\n",
       "        text-align: left;\n",
       "    }\n",
       "\n",
       "    .dataframe tbody tr th {\n",
       "        vertical-align: top;\n",
       "    }\n",
       "</style>\n",
       "<table border=\"1\" class=\"dataframe\">\n",
       "  <thead>\n",
       "    <tr style=\"text-align: right;\">\n",
       "      <th></th>\n",
       "      <th>Open</th>\n",
       "      <th>High</th>\n",
       "      <th>Low</th>\n",
       "      <th>Close</th>\n",
       "      <th>Volume</th>\n",
       "      <th>SMA14</th>\n",
       "      <th>SMA30</th>\n",
       "      <th>EMA14</th>\n",
       "      <th>EMA30</th>\n",
       "      <th>Y</th>\n",
       "    </tr>\n",
       "    <tr>\n",
       "      <th>Date</th>\n",
       "      <th></th>\n",
       "      <th></th>\n",
       "      <th></th>\n",
       "      <th></th>\n",
       "      <th></th>\n",
       "      <th></th>\n",
       "      <th></th>\n",
       "      <th></th>\n",
       "      <th></th>\n",
       "      <th></th>\n",
       "    </tr>\n",
       "  </thead>\n",
       "  <tbody>\n",
       "    <tr>\n",
       "      <th>2004-12-31</th>\n",
       "      <td>1213.550049</td>\n",
       "      <td>1217.329956</td>\n",
       "      <td>1211.650024</td>\n",
       "      <td>1211.920044</td>\n",
       "      <td>786900000</td>\n",
       "      <td>1211.920044</td>\n",
       "      <td>1211.920044</td>\n",
       "      <td>1211.920044</td>\n",
       "      <td>1211.920044</td>\n",
       "      <td>1202.079956</td>\n",
       "    </tr>\n",
       "    <tr>\n",
       "      <th>2005-01-03</th>\n",
       "      <td>1211.920044</td>\n",
       "      <td>1217.800049</td>\n",
       "      <td>1200.319946</td>\n",
       "      <td>1202.079956</td>\n",
       "      <td>1510800000</td>\n",
       "      <td>1207.000000</td>\n",
       "      <td>1207.000000</td>\n",
       "      <td>1206.648568</td>\n",
       "      <td>1206.835999</td>\n",
       "      <td>1188.050049</td>\n",
       "    </tr>\n",
       "    <tr>\n",
       "      <th>2005-01-04</th>\n",
       "      <td>1202.079956</td>\n",
       "      <td>1205.839966</td>\n",
       "      <td>1185.390015</td>\n",
       "      <td>1188.050049</td>\n",
       "      <td>1721000000</td>\n",
       "      <td>1200.683350</td>\n",
       "      <td>1200.683350</td>\n",
       "      <td>1199.543871</td>\n",
       "      <td>1200.152068</td>\n",
       "      <td>1183.739990</td>\n",
       "    </tr>\n",
       "    <tr>\n",
       "      <th>2005-01-05</th>\n",
       "      <td>1188.050049</td>\n",
       "      <td>1192.729980</td>\n",
       "      <td>1183.719971</td>\n",
       "      <td>1183.739990</td>\n",
       "      <td>1738900000</td>\n",
       "      <td>1196.447510</td>\n",
       "      <td>1196.447510</td>\n",
       "      <td>1194.709018</td>\n",
       "      <td>1195.629942</td>\n",
       "      <td>1187.890015</td>\n",
       "    </tr>\n",
       "    <tr>\n",
       "      <th>2005-01-06</th>\n",
       "      <td>1183.739990</td>\n",
       "      <td>1191.630005</td>\n",
       "      <td>1183.270020</td>\n",
       "      <td>1187.890015</td>\n",
       "      <td>1569100000</td>\n",
       "      <td>1194.736011</td>\n",
       "      <td>1194.736011</td>\n",
       "      <td>1192.929950</td>\n",
       "      <td>1193.868921</td>\n",
       "      <td>1186.189941</td>\n",
       "    </tr>\n",
       "  </tbody>\n",
       "</table>\n",
       "</div>"
      ],
      "text/plain": [
       "                   Open         High          Low        Close      Volume  \\\n",
       "Date                                                                         \n",
       "2004-12-31  1213.550049  1217.329956  1211.650024  1211.920044   786900000   \n",
       "2005-01-03  1211.920044  1217.800049  1200.319946  1202.079956  1510800000   \n",
       "2005-01-04  1202.079956  1205.839966  1185.390015  1188.050049  1721000000   \n",
       "2005-01-05  1188.050049  1192.729980  1183.719971  1183.739990  1738900000   \n",
       "2005-01-06  1183.739990  1191.630005  1183.270020  1187.890015  1569100000   \n",
       "\n",
       "                  SMA14        SMA30        EMA14        EMA30            Y  \n",
       "Date                                                                         \n",
       "2004-12-31  1211.920044  1211.920044  1211.920044  1211.920044  1202.079956  \n",
       "2005-01-03  1207.000000  1207.000000  1206.648568  1206.835999  1188.050049  \n",
       "2005-01-04  1200.683350  1200.683350  1199.543871  1200.152068  1183.739990  \n",
       "2005-01-05  1196.447510  1196.447510  1194.709018  1195.629942  1187.890015  \n",
       "2005-01-06  1194.736011  1194.736011  1192.929950  1193.868921  1186.189941  "
      ]
     },
     "execution_count": 40,
     "metadata": {},
     "output_type": "execute_result"
    }
   ],
   "source": [
    "df.head()"
   ]
  },
  {
   "cell_type": "code",
   "execution_count": 41,
   "metadata": {
    "collapsed": true
   },
   "outputs": [],
   "source": [
    "n_train = (df['Y'].count()*0.7).astype(int)\n",
    "\n",
    "X = df[['Open', 'High', 'Low', 'Close', 'Volume','SMA14']]\n",
    "y = df['Y']\n",
    "\n",
    "X_train, X_test = X[:n_train], X[n_train:]\n",
    "y_train, y_test = y[:n_train], y[n_train:] \n",
    "\n",
    "pipe = Pipeline([(\"scaler\", MinMaxScaler()),(\"mlp\",MLPRegressor(solver='lbfgs', random_state=0, hidden_layer_sizes=[10]))])"
   ]
  },
  {
   "cell_type": "code",
   "execution_count": 42,
   "metadata": {},
   "outputs": [
    {
     "name": "stdout",
     "output_type": "stream",
     "text": [
      "Beste Genauigkeit nach Kreuzvalidierung: 0.62\n",
      "Bester Score auf den Testdaten: 0.92\n",
      "Beste Parameter: {'mlp__activation': 'relu', 'mlp__alpha': 10}\n"
     ]
    }
   ],
   "source": [
    "param_grid = {'mlp__activation':['tanh', 'relu', 'logistic'],\n",
    "             'mlp__alpha':[0.0001, 0.001, 0.01, 0.1, 1, 10]}\n",
    "\n",
    "grid = GridSearchCV(pipe, param_grid, cv=5)\n",
    "grid.fit(X_train, y_train)\n",
    "print(\"Beste Genauigkeit nach Kreuzvalidierung: {:.2f}\".format(grid.best_score_))\n",
    "print(\"Bester Score auf den Testdaten: {:.2f}\".format(grid.score(X_test, y_test)))\n",
    "print(\"Beste Parameter: {}\".format(grid.best_params_))"
   ]
  },
  {
   "cell_type": "code",
   "execution_count": 43,
   "metadata": {
    "collapsed": true
   },
   "outputs": [],
   "source": [
    "y_predict = grid.predict(X)"
   ]
  },
  {
   "cell_type": "code",
   "execution_count": 44,
   "metadata": {},
   "outputs": [
    {
     "data": {
      "text/plain": [
       "[<matplotlib.lines.Line2D at 0x7f5cc77fcd30>]"
      ]
     },
     "execution_count": 44,
     "metadata": {},
     "output_type": "execute_result"
    },
    {
     "data": {
      "image/png": "[encoded data removed]",
      "text/plain": [
       "<matplotlib.figure.Figure at 0x7f5cfc273128>"
      ]
     },
     "metadata": {},
     "output_type": "display_data"
    }
   ],
   "source": [
    "plt.figure(figsize=(20,10))\n",
    "plt.subplot(311)\n",
    "plt.plot(df.index, df['Close'] , label=\"close\")\n",
    "plt.plot(df.index, y_predict , label=\"close\")"
   ]
  },
  {
   "cell_type": "code",
   "execution_count": null,
   "metadata": {
    "collapsed": true
   },
   "outputs": [],
   "source": []
  }
 ],
 "metadata": {
  "kernelspec": {
   "display_name": "Python 3",
   "language": "python",
   "name": "python3"
  },
  "language_info": {
   "codemirror_mode": {
    "name": "ipython",
    "version": 3
   },
   "file_extension": ".py",
   "mimetype": "text/x-python",
   "name": "python",
   "nbconvert_exporter": "python",
   "pygments_lexer": "ipython3",
   "version": "3.6.1"
  }
 },
 "nbformat": 4,
 "nbformat_minor": 2
}
