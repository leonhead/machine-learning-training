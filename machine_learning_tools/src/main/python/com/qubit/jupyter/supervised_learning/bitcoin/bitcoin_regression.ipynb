{
 "cells": [
  {
   "cell_type": "code",
   "execution_count": 1,
   "metadata": {},
   "outputs": [
    {
     "data": {
      "text/plain": [
       "Index(['ID', 'ASK', 'COUNT', 'CREATED', 'MAX', 'MEAN', 'MEDIAN', 'MIN',\n",
       "       'STANDARDDEVIATION', 'SUM', 'SYMBOL', 'VARIANCE'],\n",
       "      dtype='object')"
      ]
     },
     "execution_count": 1,
     "metadata": {},
     "output_type": "execute_result"
    }
   ],
   "source": [
    "import pandas as pd\n",
    "bitcoin = pd.read_csv('/home/qubit/datasets/order.csv',delimiter='\\t')\n",
    "bitcoin.keys()"
   ]
  },
  {
   "cell_type": "code",
   "execution_count": 2,
   "metadata": {},
   "outputs": [
    {
     "data": {
      "text/html": [
       "<div>\n",
       "<style>\n",
       "    .dataframe thead tr:only-child th {\n",
       "        text-align: right;\n",
       "    }\n",
       "\n",
       "    .dataframe thead th {\n",
       "        text-align: left;\n",
       "    }\n",
       "\n",
       "    .dataframe tbody tr th {\n",
       "        vertical-align: top;\n",
       "    }\n",
       "</style>\n",
       "<table border=\"1\" class=\"dataframe\">\n",
       "  <thead>\n",
       "    <tr style=\"text-align: right;\">\n",
       "      <th></th>\n",
       "      <th>ID</th>\n",
       "      <th>ASK</th>\n",
       "      <th>COUNT</th>\n",
       "      <th>CREATED</th>\n",
       "      <th>MAX</th>\n",
       "      <th>MEAN</th>\n",
       "      <th>MEDIAN</th>\n",
       "      <th>MIN</th>\n",
       "      <th>STANDARDDEVIATION</th>\n",
       "      <th>SUM</th>\n",
       "      <th>VARIANCE</th>\n",
       "    </tr>\n",
       "  </thead>\n",
       "  <tbody>\n",
       "    <tr>\n",
       "      <th>count</th>\n",
       "      <td>5460.000000</td>\n",
       "      <td>5460.000000</td>\n",
       "      <td>5460.0</td>\n",
       "      <td>5.460000e+03</td>\n",
       "      <td>5460.000000</td>\n",
       "      <td>5460.000000</td>\n",
       "      <td>5460.000000</td>\n",
       "      <td>5.460000e+03</td>\n",
       "      <td>5460.000000</td>\n",
       "      <td>5460.000000</td>\n",
       "      <td>5.460000e+03</td>\n",
       "    </tr>\n",
       "    <tr>\n",
       "      <th>mean</th>\n",
       "      <td>5160.500000</td>\n",
       "      <td>0.500000</td>\n",
       "      <td>50.0</td>\n",
       "      <td>1.498680e+12</td>\n",
       "      <td>657.523392</td>\n",
       "      <td>61.912285</td>\n",
       "      <td>7.583868</td>\n",
       "      <td>4.661794e-02</td>\n",
       "      <td>124.335141</td>\n",
       "      <td>3095.614262</td>\n",
       "      <td>1.009713e+06</td>\n",
       "    </tr>\n",
       "    <tr>\n",
       "      <th>std</th>\n",
       "      <td>1576.310566</td>\n",
       "      <td>0.500046</td>\n",
       "      <td>0.0</td>\n",
       "      <td>1.399918e+05</td>\n",
       "      <td>5304.325392</td>\n",
       "      <td>492.402377</td>\n",
       "      <td>67.950154</td>\n",
       "      <td>2.779098e-01</td>\n",
       "      <td>997.213979</td>\n",
       "      <td>24620.118860</td>\n",
       "      <td>8.531360e+06</td>\n",
       "    </tr>\n",
       "    <tr>\n",
       "      <th>min</th>\n",
       "      <td>2431.000000</td>\n",
       "      <td>0.000000</td>\n",
       "      <td>50.0</td>\n",
       "      <td>1.498680e+12</td>\n",
       "      <td>0.149897</td>\n",
       "      <td>0.010809</td>\n",
       "      <td>0.000100</td>\n",
       "      <td>3.115000e-13</td>\n",
       "      <td>0.032150</td>\n",
       "      <td>0.540432</td>\n",
       "      <td>1.033618e-03</td>\n",
       "    </tr>\n",
       "    <tr>\n",
       "      <th>25%</th>\n",
       "      <td>3795.750000</td>\n",
       "      <td>0.000000</td>\n",
       "      <td>50.0</td>\n",
       "      <td>1.498680e+12</td>\n",
       "      <td>1.248206</td>\n",
       "      <td>0.087828</td>\n",
       "      <td>0.002317</td>\n",
       "      <td>1.000011e-04</td>\n",
       "      <td>0.242808</td>\n",
       "      <td>4.391400</td>\n",
       "      <td>5.895572e-02</td>\n",
       "    </tr>\n",
       "    <tr>\n",
       "      <th>50%</th>\n",
       "      <td>5160.500000</td>\n",
       "      <td>0.500000</td>\n",
       "      <td>50.0</td>\n",
       "      <td>1.498680e+12</td>\n",
       "      <td>3.321262</td>\n",
       "      <td>0.224138</td>\n",
       "      <td>0.007585</td>\n",
       "      <td>1.021481e-04</td>\n",
       "      <td>0.617959</td>\n",
       "      <td>11.206892</td>\n",
       "      <td>3.818738e-01</td>\n",
       "    </tr>\n",
       "    <tr>\n",
       "      <th>75%</th>\n",
       "      <td>6525.250000</td>\n",
       "      <td>1.000000</td>\n",
       "      <td>50.0</td>\n",
       "      <td>1.498681e+12</td>\n",
       "      <td>9.067501</td>\n",
       "      <td>0.472687</td>\n",
       "      <td>0.020496</td>\n",
       "      <td>1.198536e-04</td>\n",
       "      <td>1.599791</td>\n",
       "      <td>23.634352</td>\n",
       "      <td>2.559331e+00</td>\n",
       "    </tr>\n",
       "    <tr>\n",
       "      <th>max</th>\n",
       "      <td>7890.000000</td>\n",
       "      <td>1.000000</td>\n",
       "      <td>50.0</td>\n",
       "      <td>1.498681e+12</td>\n",
       "      <td>52615.425378</td>\n",
       "      <td>5202.666980</td>\n",
       "      <td>1316.377181</td>\n",
       "      <td>2.563065e+00</td>\n",
       "      <td>10586.626665</td>\n",
       "      <td>260133.349002</td>\n",
       "      <td>1.120767e+08</td>\n",
       "    </tr>\n",
       "  </tbody>\n",
       "</table>\n",
       "</div>"
      ],
      "text/plain": [
       "                ID          ASK   COUNT       CREATED           MAX  \\\n",
       "count  5460.000000  5460.000000  5460.0  5.460000e+03   5460.000000   \n",
       "mean   5160.500000     0.500000    50.0  1.498680e+12    657.523392   \n",
       "std    1576.310566     0.500046     0.0  1.399918e+05   5304.325392   \n",
       "min    2431.000000     0.000000    50.0  1.498680e+12      0.149897   \n",
       "25%    3795.750000     0.000000    50.0  1.498680e+12      1.248206   \n",
       "50%    5160.500000     0.500000    50.0  1.498680e+12      3.321262   \n",
       "75%    6525.250000     1.000000    50.0  1.498681e+12      9.067501   \n",
       "max    7890.000000     1.000000    50.0  1.498681e+12  52615.425378   \n",
       "\n",
       "              MEAN       MEDIAN           MIN  STANDARDDEVIATION  \\\n",
       "count  5460.000000  5460.000000  5.460000e+03        5460.000000   \n",
       "mean     61.912285     7.583868  4.661794e-02         124.335141   \n",
       "std     492.402377    67.950154  2.779098e-01         997.213979   \n",
       "min       0.010809     0.000100  3.115000e-13           0.032150   \n",
       "25%       0.087828     0.002317  1.000011e-04           0.242808   \n",
       "50%       0.224138     0.007585  1.021481e-04           0.617959   \n",
       "75%       0.472687     0.020496  1.198536e-04           1.599791   \n",
       "max    5202.666980  1316.377181  2.563065e+00       10586.626665   \n",
       "\n",
       "                 SUM      VARIANCE  \n",
       "count    5460.000000  5.460000e+03  \n",
       "mean     3095.614262  1.009713e+06  \n",
       "std     24620.118860  8.531360e+06  \n",
       "min         0.540432  1.033618e-03  \n",
       "25%         4.391400  5.895572e-02  \n",
       "50%        11.206892  3.818738e-01  \n",
       "75%        23.634352  2.559331e+00  \n",
       "max    260133.349002  1.120767e+08  "
      ]
     },
     "execution_count": 2,
     "metadata": {},
     "output_type": "execute_result"
    }
   ],
   "source": [
    "bitcoin.describe()"
   ]
  },
  {
   "cell_type": "code",
   "execution_count": 3,
   "metadata": {},
   "outputs": [
    {
     "data": {
      "text/html": [
       "<div>\n",
       "<style>\n",
       "    .dataframe thead tr:only-child th {\n",
       "        text-align: right;\n",
       "    }\n",
       "\n",
       "    .dataframe thead th {\n",
       "        text-align: left;\n",
       "    }\n",
       "\n",
       "    .dataframe tbody tr th {\n",
       "        vertical-align: top;\n",
       "    }\n",
       "</style>\n",
       "<table border=\"1\" class=\"dataframe\">\n",
       "  <thead>\n",
       "    <tr style=\"text-align: right;\">\n",
       "      <th></th>\n",
       "      <th>ID</th>\n",
       "      <th>ASK</th>\n",
       "      <th>COUNT</th>\n",
       "      <th>CREATED</th>\n",
       "      <th>MAX</th>\n",
       "      <th>MEAN</th>\n",
       "      <th>MEDIAN</th>\n",
       "      <th>MIN</th>\n",
       "      <th>STANDARDDEVIATION</th>\n",
       "      <th>SUM</th>\n",
       "      <th>SYMBOL</th>\n",
       "      <th>VARIANCE</th>\n",
       "    </tr>\n",
       "  </thead>\n",
       "  <tbody>\n",
       "    <tr>\n",
       "      <th>0</th>\n",
       "      <td>6202</td>\n",
       "      <td>0</td>\n",
       "      <td>50</td>\n",
       "      <td>1498680519984</td>\n",
       "      <td>52074.267225</td>\n",
       "      <td>5123.426308</td>\n",
       "      <td>738.593293</td>\n",
       "      <td>0.2482</td>\n",
       "      <td>10586.626665</td>\n",
       "      <td>256171.315423</td>\n",
       "      <td>BTC</td>\n",
       "      <td>1.120767e+08</td>\n",
       "    </tr>\n",
       "  </tbody>\n",
       "</table>\n",
       "</div>"
      ],
      "text/plain": [
       "     ID  ASK  COUNT        CREATED           MAX         MEAN      MEDIAN  \\\n",
       "0  6202    0     50  1498680519984  52074.267225  5123.426308  738.593293   \n",
       "\n",
       "      MIN  STANDARDDEVIATION            SUM SYMBOL      VARIANCE  \n",
       "0  0.2482       10586.626665  256171.315423    BTC  1.120767e+08  "
      ]
     },
     "execution_count": 3,
     "metadata": {},
     "output_type": "execute_result"
    }
   ],
   "source": [
    "bitcoin.head(1)"
   ]
  },
  {
   "cell_type": "code",
   "execution_count": 5,
   "metadata": {},
   "outputs": [
    {
     "data": {
      "text/html": [
       "<div>\n",
       "<style>\n",
       "    .dataframe thead tr:only-child th {\n",
       "        text-align: right;\n",
       "    }\n",
       "\n",
       "    .dataframe thead th {\n",
       "        text-align: left;\n",
       "    }\n",
       "\n",
       "    .dataframe tbody tr th {\n",
       "        vertical-align: top;\n",
       "    }\n",
       "</style>\n",
       "<table border=\"1\" class=\"dataframe\">\n",
       "  <thead>\n",
       "    <tr style=\"text-align: right;\">\n",
       "      <th></th>\n",
       "      <th>ID</th>\n",
       "      <th>ASK</th>\n",
       "      <th>COUNT</th>\n",
       "      <th>CREATED</th>\n",
       "      <th>MAX</th>\n",
       "      <th>MEAN</th>\n",
       "      <th>MEDIAN</th>\n",
       "      <th>MIN</th>\n",
       "      <th>STANDARDDEVIATION</th>\n",
       "      <th>SUM</th>\n",
       "      <th>SYMBOL</th>\n",
       "      <th>VARIANCE</th>\n",
       "    </tr>\n",
       "  </thead>\n",
       "  <tbody>\n",
       "    <tr>\n",
       "      <th>0</th>\n",
       "      <td>6202</td>\n",
       "      <td>0</td>\n",
       "      <td>50</td>\n",
       "      <td>2017-06-28 20:08:39.984</td>\n",
       "      <td>52074.267225</td>\n",
       "      <td>5123.426308</td>\n",
       "      <td>738.593293</td>\n",
       "      <td>0.2482</td>\n",
       "      <td>10586.626665</td>\n",
       "      <td>256171.315423</td>\n",
       "      <td>BTC</td>\n",
       "      <td>1.120767e+08</td>\n",
       "    </tr>\n",
       "  </tbody>\n",
       "</table>\n",
       "</div>"
      ],
      "text/plain": [
       "     ID  ASK  COUNT                 CREATED           MAX         MEAN  \\\n",
       "0  6202    0     50 2017-06-28 20:08:39.984  52074.267225  5123.426308   \n",
       "\n",
       "       MEDIAN     MIN  STANDARDDEVIATION            SUM SYMBOL      VARIANCE  \n",
       "0  738.593293  0.2482       10586.626665  256171.315423    BTC  1.120767e+08  "
      ]
     },
     "execution_count": 5,
     "metadata": {},
     "output_type": "execute_result"
    }
   ],
   "source": [
    "bitcoin['CREATED'] = pd.to_datetime(bitcoin['CREATED'], unit='ms')\n",
    "bitcoin.head(1)"
   ]
  },
  {
   "cell_type": "code",
   "execution_count": 6,
   "metadata": {},
   "outputs": [
    {
     "data": {
      "text/plain": [
       "array(['AMP', 'ARDR', 'BCN', 'BCY', 'BELA', 'BLK', 'BTC', 'BTCD', 'BTM',\n",
       "       'BTS', 'BURST', 'CLAM', 'DASH', 'DCR', 'DGB', 'DOGE', 'EMC2', 'ETC',\n",
       "       'ETH', 'EXP', 'FCT', 'FLDC', 'FLO', 'GAME', 'GNO', 'GNT', 'GRC',\n",
       "       'HUC', 'LBC', 'LSK', 'LTC', 'MAID', 'NAUT', 'NAV', 'NEOS', 'NMC',\n",
       "       'NOTE', 'NXC', 'NXT', 'OMNI', 'PASC', 'PINK', 'POT', 'PPC', 'RADS',\n",
       "       'REP', 'RIC', 'SBD', 'SC', 'SJCX', 'STEEM', 'STR', 'STRAT', 'SYS',\n",
       "       'VIA', 'VRC', 'VTC', 'XBC', 'XCP', 'XEM', 'XMR', 'XPM', 'XRP',\n",
       "       'XVC', 'ZEC'], dtype=object)"
      ]
     },
     "execution_count": 6,
     "metadata": {},
     "output_type": "execute_result"
    }
   ],
   "source": [
    "import numpy as np\n",
    "\n",
    "symbols = bitcoin.SYMBOL\n",
    "np.unique(symbols)"
   ]
  },
  {
   "cell_type": "code",
   "execution_count": 7,
   "metadata": {},
   "outputs": [
    {
     "data": {
      "text/plain": [
       "ID                   84\n",
       "ASK                  84\n",
       "COUNT                84\n",
       "CREATED              84\n",
       "MAX                  84\n",
       "MEAN                 84\n",
       "MEDIAN               84\n",
       "MIN                  84\n",
       "STANDARDDEVIATION    84\n",
       "SUM                  84\n",
       "SYMBOL               84\n",
       "VARIANCE             84\n",
       "dtype: int64"
      ]
     },
     "execution_count": 7,
     "metadata": {},
     "output_type": "execute_result"
    }
   ],
   "source": [
    "bitcoin[(bitcoin.SYMBOL == 'BTC')].count()"
   ]
  },
  {
   "cell_type": "code",
   "execution_count": 8,
   "metadata": {},
   "outputs": [
    {
     "data": {
      "text/html": [
       "<div>\n",
       "<style>\n",
       "    .dataframe thead tr:only-child th {\n",
       "        text-align: right;\n",
       "    }\n",
       "\n",
       "    .dataframe thead th {\n",
       "        text-align: left;\n",
       "    }\n",
       "\n",
       "    .dataframe tbody tr th {\n",
       "        vertical-align: top;\n",
       "    }\n",
       "</style>\n",
       "<table border=\"1\" class=\"dataframe\">\n",
       "  <thead>\n",
       "    <tr style=\"text-align: right;\">\n",
       "      <th></th>\n",
       "      <th>ID</th>\n",
       "      <th>ASK</th>\n",
       "      <th>COUNT</th>\n",
       "      <th>CREATED</th>\n",
       "      <th>MAX</th>\n",
       "      <th>MEAN</th>\n",
       "      <th>MEDIAN</th>\n",
       "      <th>MIN</th>\n",
       "      <th>STANDARDDEVIATION</th>\n",
       "      <th>SUM</th>\n",
       "      <th>SYMBOL</th>\n",
       "      <th>VARIANCE</th>\n",
       "    </tr>\n",
       "  </thead>\n",
       "  <tbody>\n",
       "    <tr>\n",
       "      <th>0</th>\n",
       "      <td>6202</td>\n",
       "      <td>0</td>\n",
       "      <td>50</td>\n",
       "      <td>2017-06-28 20:08:39.984</td>\n",
       "      <td>52074.267225</td>\n",
       "      <td>5123.426308</td>\n",
       "      <td>738.593293</td>\n",
       "      <td>0.2482</td>\n",
       "      <td>10586.626665</td>\n",
       "      <td>256171.315423</td>\n",
       "      <td>BTC</td>\n",
       "      <td>1.120767e+08</td>\n",
       "    </tr>\n",
       "  </tbody>\n",
       "</table>\n",
       "</div>"
      ],
      "text/plain": [
       "     ID  ASK  COUNT                 CREATED           MAX         MEAN  \\\n",
       "0  6202    0     50 2017-06-28 20:08:39.984  52074.267225  5123.426308   \n",
       "\n",
       "       MEDIAN     MIN  STANDARDDEVIATION            SUM SYMBOL      VARIANCE  \n",
       "0  738.593293  0.2482       10586.626665  256171.315423    BTC  1.120767e+08  "
      ]
     },
     "execution_count": 8,
     "metadata": {},
     "output_type": "execute_result"
    }
   ],
   "source": [
    "bitcoin_btc = bitcoin[(bitcoin.SYMBOL == 'BTC')]\n",
    "bitcoin_btc.head(1)"
   ]
  },
  {
   "cell_type": "code",
   "execution_count": 9,
   "metadata": {},
   "outputs": [
    {
     "data": {
      "text/html": [
       "<div>\n",
       "<style>\n",
       "    .dataframe thead tr:only-child th {\n",
       "        text-align: right;\n",
       "    }\n",
       "\n",
       "    .dataframe thead th {\n",
       "        text-align: left;\n",
       "    }\n",
       "\n",
       "    .dataframe tbody tr th {\n",
       "        vertical-align: top;\n",
       "    }\n",
       "</style>\n",
       "<table border=\"1\" class=\"dataframe\">\n",
       "  <thead>\n",
       "    <tr style=\"text-align: right;\">\n",
       "      <th></th>\n",
       "      <th>ID</th>\n",
       "      <th>ASK</th>\n",
       "      <th>COUNT</th>\n",
       "      <th>CREATED</th>\n",
       "      <th>MAX</th>\n",
       "      <th>MEAN</th>\n",
       "      <th>MEDIAN</th>\n",
       "      <th>MIN</th>\n",
       "      <th>STANDARDDEVIATION</th>\n",
       "      <th>SUM</th>\n",
       "      <th>SYMBOL</th>\n",
       "      <th>VARIANCE</th>\n",
       "    </tr>\n",
       "  </thead>\n",
       "  <tbody>\n",
       "    <tr>\n",
       "      <th>83</th>\n",
       "      <td>2560</td>\n",
       "      <td>0</td>\n",
       "      <td>50</td>\n",
       "      <td>2017-06-28 20:03:05.716</td>\n",
       "      <td>22944.025787</td>\n",
       "      <td>3665.249274</td>\n",
       "      <td>701.104253</td>\n",
       "      <td>0.24855</td>\n",
       "      <td>5069.909165</td>\n",
       "      <td>183262.463721</td>\n",
       "      <td>BTC</td>\n",
       "      <td>2.570398e+07</td>\n",
       "    </tr>\n",
       "  </tbody>\n",
       "</table>\n",
       "</div>"
      ],
      "text/plain": [
       "      ID  ASK  COUNT                 CREATED           MAX         MEAN  \\\n",
       "83  2560    0     50 2017-06-28 20:03:05.716  22944.025787  3665.249274   \n",
       "\n",
       "        MEDIAN      MIN  STANDARDDEVIATION            SUM SYMBOL      VARIANCE  \n",
       "83  701.104253  0.24855        5069.909165  183262.463721    BTC  2.570398e+07  "
      ]
     },
     "execution_count": 9,
     "metadata": {},
     "output_type": "execute_result"
    }
   ],
   "source": [
    "bitcoin_btc.tail(1)"
   ]
  },
  {
   "cell_type": "code",
   "execution_count": 10,
   "metadata": {},
   "outputs": [
    {
     "data": {
      "text/plain": [
       "DatetimeIndex(['2014-01-01 00:00:00', '2014-01-01 00:00:01',\n",
       "               '2014-01-01 00:00:02', '2014-01-01 00:00:03',\n",
       "               '2014-01-01 00:00:04', '2014-01-01 00:00:05',\n",
       "               '2014-01-01 00:00:06', '2014-01-01 00:00:07',\n",
       "               '2014-01-01 00:00:08', '2014-01-01 00:00:09',\n",
       "               ...\n",
       "               '2014-12-31 23:59:51', '2014-12-31 23:59:52',\n",
       "               '2014-12-31 23:59:53', '2014-12-31 23:59:54',\n",
       "               '2014-12-31 23:59:55', '2014-12-31 23:59:56',\n",
       "               '2014-12-31 23:59:57', '2014-12-31 23:59:58',\n",
       "               '2014-12-31 23:59:59', '2015-01-01 00:00:00'],\n",
       "              dtype='datetime64[ns]', length=31536001, freq='S')"
      ]
     },
     "execution_count": 10,
     "metadata": {},
     "output_type": "execute_result"
    }
   ],
   "source": [
    "date_range = pd.date_range('2014-01-01', '2015-01-01', freq='s')\n",
    "date_range"
   ]
  },
  {
   "cell_type": "code",
   "execution_count": 17,
   "metadata": {},
   "outputs": [
    {
     "data": {
      "text/plain": [
       "array(['20 03 05', '20 03 06', '20 03 07', '20 03 08', '20 03 09'], \n",
       "      dtype='<U8')"
      ]
     },
     "execution_count": 17,
     "metadata": {},
     "output_type": "execute_result"
    }
   ],
   "source": [
    "xticks = pd.date_range(start=bitcoin_btc.CREATED.min(), end=bitcoin_btc.CREATED.max(), freq='s')\n",
    "timestring = xticks.strftime(\"%H %M %S\")\n",
    "timestring[:5]"
   ]
  },
  {
   "cell_type": "code",
   "execution_count": 21,
   "metadata": {},
   "outputs": [
    {
     "ename": "KeyboardInterrupt",
     "evalue": "",
     "output_type": "error",
     "traceback": [
      "\u001b[0;31m---------------------------------------------------------------------------\u001b[0m",
      "\u001b[0;31mKeyboardInterrupt\u001b[0m                         Traceback (most recent call last)",
      "\u001b[0;32m<ipython-input-21-9f27ce03c198>\u001b[0m in \u001b[0;36m<module>\u001b[0;34m()\u001b[0m\n\u001b[1;32m      5\u001b[0m \u001b[0mplt\u001b[0m\u001b[0;34m.\u001b[0m\u001b[0mfigure\u001b[0m\u001b[0;34m(\u001b[0m\u001b[0mfigsize\u001b[0m\u001b[0;34m=\u001b[0m\u001b[0;34m(\u001b[0m\u001b[0;36m10\u001b[0m\u001b[0;34m,\u001b[0m\u001b[0;36m3\u001b[0m\u001b[0;34m)\u001b[0m\u001b[0;34m)\u001b[0m\u001b[0;34m\u001b[0m\u001b[0m\n\u001b[1;32m      6\u001b[0m \u001b[0mxticks\u001b[0m \u001b[0;34m=\u001b[0m \u001b[0mpd\u001b[0m\u001b[0;34m.\u001b[0m\u001b[0mdate_range\u001b[0m\u001b[0;34m(\u001b[0m\u001b[0mstart\u001b[0m\u001b[0;34m=\u001b[0m\u001b[0mbitcoin_btc\u001b[0m\u001b[0;34m.\u001b[0m\u001b[0mCREATED\u001b[0m\u001b[0;34m.\u001b[0m\u001b[0mmin\u001b[0m\u001b[0;34m(\u001b[0m\u001b[0;34m)\u001b[0m\u001b[0;34m,\u001b[0m \u001b[0mend\u001b[0m\u001b[0;34m=\u001b[0m\u001b[0mbitcoin_btc\u001b[0m\u001b[0;34m.\u001b[0m\u001b[0mCREATED\u001b[0m\u001b[0;34m.\u001b[0m\u001b[0mmax\u001b[0m\u001b[0;34m(\u001b[0m\u001b[0;34m)\u001b[0m\u001b[0;34m,\u001b[0m \u001b[0mfreq\u001b[0m\u001b[0;34m=\u001b[0m\u001b[0;34m's'\u001b[0m\u001b[0;34m)\u001b[0m\u001b[0;34m\u001b[0m\u001b[0m\n\u001b[0;32m----> 7\u001b[0;31m \u001b[0mplt\u001b[0m\u001b[0;34m.\u001b[0m\u001b[0mxticks\u001b[0m\u001b[0;34m(\u001b[0m\u001b[0mdate_range\u001b[0m\u001b[0;34m,\u001b[0m \u001b[0mdate_range\u001b[0m\u001b[0;34m.\u001b[0m\u001b[0mstrftime\u001b[0m\u001b[0;34m(\u001b[0m\u001b[0;34m\"%H %M %S\"\u001b[0m\u001b[0;34m)\u001b[0m\u001b[0;34m,\u001b[0m \u001b[0mrotation\u001b[0m\u001b[0;34m=\u001b[0m\u001b[0;36m90\u001b[0m\u001b[0;34m,\u001b[0m \u001b[0mha\u001b[0m\u001b[0;34m=\u001b[0m\u001b[0;34m\"left\"\u001b[0m\u001b[0;34m)\u001b[0m\u001b[0;34m\u001b[0m\u001b[0m\n\u001b[0m\u001b[1;32m      8\u001b[0m \u001b[0mplt\u001b[0m\u001b[0;34m.\u001b[0m\u001b[0mplot\u001b[0m\u001b[0;34m(\u001b[0m\u001b[0mbitcoin_btc\u001b[0m\u001b[0;34m[\u001b[0m\u001b[0;34m'SUM'\u001b[0m\u001b[0;34m]\u001b[0m\u001b[0;34m,\u001b[0m \u001b[0mlinewidth\u001b[0m\u001b[0;34m=\u001b[0m\u001b[0;36m1\u001b[0m\u001b[0;34m)\u001b[0m\u001b[0;34m\u001b[0m\u001b[0m\n\u001b[1;32m      9\u001b[0m \u001b[0mplt\u001b[0m\u001b[0;34m.\u001b[0m\u001b[0mxlabel\u001b[0m\u001b[0;34m(\u001b[0m\u001b[0;34m\"TIME\"\u001b[0m\u001b[0;34m)\u001b[0m\u001b[0;34m\u001b[0m\u001b[0m\n",
      "\u001b[0;32m/home/qubit/anaconda3/lib/python3.6/site-packages/pandas/core/indexes/datetimelike.py\u001b[0m in \u001b[0;36mstrftime\u001b[0;34m(self, date_format)\u001b[0m\n\u001b[1;32m     41\u001b[0m \u001b[0;34m\u001b[0m\u001b[0m\n\u001b[1;32m     42\u001b[0m     \u001b[0;32mdef\u001b[0m \u001b[0mstrftime\u001b[0m\u001b[0;34m(\u001b[0m\u001b[0mself\u001b[0m\u001b[0;34m,\u001b[0m \u001b[0mdate_format\u001b[0m\u001b[0;34m)\u001b[0m\u001b[0;34m:\u001b[0m\u001b[0;34m\u001b[0m\u001b[0m\n\u001b[0;32m---> 43\u001b[0;31m         return np.asarray(self.format(date_format=date_format),\n\u001b[0m\u001b[1;32m     44\u001b[0m                           dtype=compat.text_type)\n\u001b[1;32m     45\u001b[0m     strftime.__doc__ = \"\"\"\n",
      "\u001b[0;32m/home/qubit/anaconda3/lib/python3.6/site-packages/pandas/core/indexes/base.py\u001b[0m in \u001b[0;36mformat\u001b[0;34m(self, name, formatter, **kwargs)\u001b[0m\n\u001b[1;32m   1845\u001b[0m             \u001b[0;32mreturn\u001b[0m \u001b[0mheader\u001b[0m \u001b[0;34m+\u001b[0m \u001b[0mlist\u001b[0m\u001b[0;34m(\u001b[0m\u001b[0mself\u001b[0m\u001b[0;34m.\u001b[0m\u001b[0mmap\u001b[0m\u001b[0;34m(\u001b[0m\u001b[0mformatter\u001b[0m\u001b[0;34m)\u001b[0m\u001b[0;34m)\u001b[0m\u001b[0;34m\u001b[0m\u001b[0m\n\u001b[1;32m   1846\u001b[0m \u001b[0;34m\u001b[0m\u001b[0m\n\u001b[0;32m-> 1847\u001b[0;31m         \u001b[0;32mreturn\u001b[0m \u001b[0mself\u001b[0m\u001b[0;34m.\u001b[0m\u001b[0m_format_with_header\u001b[0m\u001b[0;34m(\u001b[0m\u001b[0mheader\u001b[0m\u001b[0;34m,\u001b[0m \u001b[0;34m**\u001b[0m\u001b[0mkwargs\u001b[0m\u001b[0;34m)\u001b[0m\u001b[0;34m\u001b[0m\u001b[0m\n\u001b[0m\u001b[1;32m   1848\u001b[0m \u001b[0;34m\u001b[0m\u001b[0m\n\u001b[1;32m   1849\u001b[0m     \u001b[0;32mdef\u001b[0m \u001b[0m_format_with_header\u001b[0m\u001b[0;34m(\u001b[0m\u001b[0mself\u001b[0m\u001b[0;34m,\u001b[0m \u001b[0mheader\u001b[0m\u001b[0;34m,\u001b[0m \u001b[0mna_rep\u001b[0m\u001b[0;34m=\u001b[0m\u001b[0;34m'NaN'\u001b[0m\u001b[0;34m,\u001b[0m \u001b[0;34m**\u001b[0m\u001b[0mkwargs\u001b[0m\u001b[0;34m)\u001b[0m\u001b[0;34m:\u001b[0m\u001b[0;34m\u001b[0m\u001b[0m\n",
      "\u001b[0;32m/home/qubit/anaconda3/lib/python3.6/site-packages/pandas/core/indexes/datetimelike.py\u001b[0m in \u001b[0;36m_format_with_header\u001b[0;34m(self, header, **kwargs)\u001b[0m\n\u001b[1;32m    245\u001b[0m \u001b[0;34m\u001b[0m\u001b[0m\n\u001b[1;32m    246\u001b[0m     \u001b[0;32mdef\u001b[0m \u001b[0m_format_with_header\u001b[0m\u001b[0;34m(\u001b[0m\u001b[0mself\u001b[0m\u001b[0;34m,\u001b[0m \u001b[0mheader\u001b[0m\u001b[0;34m,\u001b[0m \u001b[0;34m**\u001b[0m\u001b[0mkwargs\u001b[0m\u001b[0;34m)\u001b[0m\u001b[0;34m:\u001b[0m\u001b[0;34m\u001b[0m\u001b[0m\n\u001b[0;32m--> 247\u001b[0;31m         \u001b[0;32mreturn\u001b[0m \u001b[0mheader\u001b[0m \u001b[0;34m+\u001b[0m \u001b[0mlist\u001b[0m\u001b[0;34m(\u001b[0m\u001b[0mself\u001b[0m\u001b[0;34m.\u001b[0m\u001b[0m_format_native_types\u001b[0m\u001b[0;34m(\u001b[0m\u001b[0;34m**\u001b[0m\u001b[0mkwargs\u001b[0m\u001b[0;34m)\u001b[0m\u001b[0;34m)\u001b[0m\u001b[0;34m\u001b[0m\u001b[0m\n\u001b[0m\u001b[1;32m    248\u001b[0m \u001b[0;34m\u001b[0m\u001b[0m\n\u001b[1;32m    249\u001b[0m     \u001b[0;34m@\u001b[0m\u001b[0mAppender\u001b[0m\u001b[0;34m(\u001b[0m\u001b[0m_index_shared_docs\u001b[0m\u001b[0;34m[\u001b[0m\u001b[0;34m'__contains__'\u001b[0m\u001b[0;34m]\u001b[0m \u001b[0;34m%\u001b[0m \u001b[0m_index_doc_kwargs\u001b[0m\u001b[0;34m)\u001b[0m\u001b[0;34m\u001b[0m\u001b[0m\n",
      "\u001b[0;32m/home/qubit/anaconda3/lib/python3.6/site-packages/pandas/core/indexes/datetimes.py\u001b[0m in \u001b[0;36m_format_native_types\u001b[0;34m(self, na_rep, date_format, **kwargs)\u001b[0m\n\u001b[1;32m    839\u001b[0m                                                 \u001b[0mtz\u001b[0m\u001b[0;34m=\u001b[0m\u001b[0mself\u001b[0m\u001b[0;34m.\u001b[0m\u001b[0mtz\u001b[0m\u001b[0;34m,\u001b[0m\u001b[0;34m\u001b[0m\u001b[0m\n\u001b[1;32m    840\u001b[0m                                                 \u001b[0mformat\u001b[0m\u001b[0;34m=\u001b[0m\u001b[0mformat\u001b[0m\u001b[0;34m,\u001b[0m\u001b[0;34m\u001b[0m\u001b[0m\n\u001b[0;32m--> 841\u001b[0;31m                                                 na_rep=na_rep)\n\u001b[0m\u001b[1;32m    842\u001b[0m \u001b[0;34m\u001b[0m\u001b[0m\n\u001b[1;32m    843\u001b[0m     \u001b[0;32mdef\u001b[0m \u001b[0mto_datetime\u001b[0m\u001b[0;34m(\u001b[0m\u001b[0mself\u001b[0m\u001b[0;34m,\u001b[0m \u001b[0mdayfirst\u001b[0m\u001b[0;34m=\u001b[0m\u001b[0;32mFalse\u001b[0m\u001b[0;34m)\u001b[0m\u001b[0;34m:\u001b[0m\u001b[0;34m\u001b[0m\u001b[0m\n",
      "\u001b[0;32mpandas/_libs/tslib.pyx\u001b[0m in \u001b[0;36mpandas._libs.tslib.format_array_from_datetime (pandas/_libs/tslib.c:34509)\u001b[0;34m()\u001b[0m\n",
      "\u001b[0;32mpandas/_libs/tslib.pyx\u001b[0m in \u001b[0;36mpandas._libs.tslib.Timestamp.__new__ (pandas/_libs/tslib.c:10051)\u001b[0;34m()\u001b[0m\n",
      "\u001b[0;32mpandas/_libs/tslib.pyx\u001b[0m in \u001b[0;36mpandas._libs.tslib.convert_to_tsobject (pandas/_libs/tslib.c:27652)\u001b[0;34m()\u001b[0m\n",
      "\u001b[0;31mKeyboardInterrupt\u001b[0m: "
     ]
    },
    {
     "data": {
      "text/plain": [
       "<matplotlib.figure.Figure at 0x7f83191166d8>"
      ]
     },
     "metadata": {},
     "output_type": "display_data"
    }
   ],
   "source": [
    "import matplotlib.pyplot as plt\n",
    "%matplotlib inline\n",
    "\n",
    "plt.figure(figsize=(10,3))\n",
    "xticks = pd.date_range(start=bitcoin_btc.CREATED.min(), end=bitcoin_btc.CREATED.max(), freq='s')\n",
    "plt.xticks(date_range, date_range.strftime(\"%H %M %S\"), rotation=90, ha=\"left\")\n",
    "plt.plot(bitcoin_btc['SUM'], linewidth=1)\n",
    "plt.xlabel(\"TIME\")\n",
    "plt.ylabel(\"SUM\")"
   ]
  },
  {
   "cell_type": "code",
   "execution_count": null,
   "metadata": {
    "collapsed": true
   },
   "outputs": [],
   "source": []
  }
 ],
 "metadata": {
  "kernelspec": {
   "display_name": "Python 3",
   "language": "python",
   "name": "python3"
  },
  "language_info": {
   "codemirror_mode": {
    "name": "ipython",
    "version": 3
   },
   "file_extension": ".py",
   "mimetype": "text/x-python",
   "name": "python",
   "nbconvert_exporter": "python",
   "pygments_lexer": "ipython3",
   "version": "3.6.1"
  }
 },
 "nbformat": 4,
 "nbformat_minor": 2
}
