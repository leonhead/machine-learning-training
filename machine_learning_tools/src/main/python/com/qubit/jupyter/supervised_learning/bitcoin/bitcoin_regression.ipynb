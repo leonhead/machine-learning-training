{
 "cells": [
  {
   "cell_type": "code",
   "execution_count": 8,
   "metadata": {},
   "outputs": [
    {
     "data": {
      "text/plain": [
       "Index(['ID', 'ASK', 'COUNT', 'CREATED', 'MAX', 'MEAN', 'MEDIAN', 'MIN',\n",
       "       'STANDARDDEVIATION', 'SUM', 'SYMBOL', 'VARIANCE'],\n",
       "      dtype='object')"
      ]
     },
     "execution_count": 8,
     "metadata": {},
     "output_type": "execute_result"
    }
   ],
   "source": [
    "import pandas as pd\n",
    "bitcoin = pd.read_csv('/home/ml/datasets/order.csv',delimiter='\\t')\n",
    "bitcoin.keys()"
   ]
  },
  {
   "cell_type": "code",
   "execution_count": 9,
   "metadata": {},
   "outputs": [
    {
     "data": {
      "text/html": [
       "<div>\n",
       "<style>\n",
       "    .dataframe thead tr:only-child th {\n",
       "        text-align: right;\n",
       "    }\n",
       "\n",
       "    .dataframe thead th {\n",
       "        text-align: left;\n",
       "    }\n",
       "\n",
       "    .dataframe tbody tr th {\n",
       "        vertical-align: top;\n",
       "    }\n",
       "</style>\n",
       "<table border=\"1\" class=\"dataframe\">\n",
       "  <thead>\n",
       "    <tr style=\"text-align: right;\">\n",
       "      <th></th>\n",
       "      <th>ID</th>\n",
       "      <th>ASK</th>\n",
       "      <th>COUNT</th>\n",
       "      <th>CREATED</th>\n",
       "      <th>MAX</th>\n",
       "      <th>MEAN</th>\n",
       "      <th>MEDIAN</th>\n",
       "      <th>MIN</th>\n",
       "      <th>STANDARDDEVIATION</th>\n",
       "      <th>SUM</th>\n",
       "      <th>SYMBOL</th>\n",
       "      <th>VARIANCE</th>\n",
       "    </tr>\n",
       "  </thead>\n",
       "  <tbody>\n",
       "    <tr>\n",
       "      <th>0</th>\n",
       "      <td>6202</td>\n",
       "      <td>0</td>\n",
       "      <td>50</td>\n",
       "      <td>1498680519984</td>\n",
       "      <td>52074.267225</td>\n",
       "      <td>5123.426308</td>\n",
       "      <td>738.593293</td>\n",
       "      <td>0.248200</td>\n",
       "      <td>10586.626665</td>\n",
       "      <td>256171.315423</td>\n",
       "      <td>BTC</td>\n",
       "      <td>1.120767e+08</td>\n",
       "    </tr>\n",
       "    <tr>\n",
       "      <th>1</th>\n",
       "      <td>6332</td>\n",
       "      <td>0</td>\n",
       "      <td>50</td>\n",
       "      <td>1498680531988</td>\n",
       "      <td>52074.267225</td>\n",
       "      <td>5202.666980</td>\n",
       "      <td>738.593293</td>\n",
       "      <td>0.248200</td>\n",
       "      <td>10582.041711</td>\n",
       "      <td>260133.349002</td>\n",
       "      <td>BTC</td>\n",
       "      <td>1.119796e+08</td>\n",
       "    </tr>\n",
       "    <tr>\n",
       "      <th>2</th>\n",
       "      <td>5942</td>\n",
       "      <td>0</td>\n",
       "      <td>50</td>\n",
       "      <td>1498680497533</td>\n",
       "      <td>52074.267225</td>\n",
       "      <td>4347.986011</td>\n",
       "      <td>287.774927</td>\n",
       "      <td>0.248200</td>\n",
       "      <td>10003.724112</td>\n",
       "      <td>217399.300555</td>\n",
       "      <td>BTC</td>\n",
       "      <td>1.000745e+08</td>\n",
       "    </tr>\n",
       "    <tr>\n",
       "      <th>3</th>\n",
       "      <td>2559</td>\n",
       "      <td>1</td>\n",
       "      <td>50</td>\n",
       "      <td>1498680185716</td>\n",
       "      <td>52615.425378</td>\n",
       "      <td>4163.333255</td>\n",
       "      <td>157.820739</td>\n",
       "      <td>0.275839</td>\n",
       "      <td>9970.460559</td>\n",
       "      <td>208166.662751</td>\n",
       "      <td>BTC</td>\n",
       "      <td>9.941008e+07</td>\n",
       "    </tr>\n",
       "    <tr>\n",
       "      <th>4</th>\n",
       "      <td>7762</td>\n",
       "      <td>0</td>\n",
       "      <td>50</td>\n",
       "      <td>1498680661762</td>\n",
       "      <td>52074.267225</td>\n",
       "      <td>4754.467480</td>\n",
       "      <td>738.593293</td>\n",
       "      <td>0.248200</td>\n",
       "      <td>9914.694572</td>\n",
       "      <td>237723.373993</td>\n",
       "      <td>BTC</td>\n",
       "      <td>9.830117e+07</td>\n",
       "    </tr>\n",
       "  </tbody>\n",
       "</table>\n",
       "</div>"
      ],
      "text/plain": [
       "     ID  ASK  COUNT        CREATED           MAX         MEAN      MEDIAN  \\\n",
       "0  6202    0     50  1498680519984  52074.267225  5123.426308  738.593293   \n",
       "1  6332    0     50  1498680531988  52074.267225  5202.666980  738.593293   \n",
       "2  5942    0     50  1498680497533  52074.267225  4347.986011  287.774927   \n",
       "3  2559    1     50  1498680185716  52615.425378  4163.333255  157.820739   \n",
       "4  7762    0     50  1498680661762  52074.267225  4754.467480  738.593293   \n",
       "\n",
       "        MIN  STANDARDDEVIATION            SUM SYMBOL      VARIANCE  \n",
       "0  0.248200       10586.626665  256171.315423    BTC  1.120767e+08  \n",
       "1  0.248200       10582.041711  260133.349002    BTC  1.119796e+08  \n",
       "2  0.248200       10003.724112  217399.300555    BTC  1.000745e+08  \n",
       "3  0.275839        9970.460559  208166.662751    BTC  9.941008e+07  \n",
       "4  0.248200        9914.694572  237723.373993    BTC  9.830117e+07  "
      ]
     },
     "execution_count": 9,
     "metadata": {},
     "output_type": "execute_result"
    }
   ],
   "source": [
    "bitcoin.head()"
   ]
  },
  {
   "cell_type": "code",
   "execution_count": 10,
   "metadata": {},
   "outputs": [
    {
     "data": {
      "text/plain": [
       "(5460, 12)"
      ]
     },
     "execution_count": 10,
     "metadata": {},
     "output_type": "execute_result"
    }
   ],
   "source": [
    "bitcoin.shape"
   ]
  },
  {
   "cell_type": "code",
   "execution_count": null,
   "metadata": {
    "collapsed": true
   },
   "outputs": [],
   "source": [
    "bitcoin."
   ]
  }
 ],
 "metadata": {
  "kernelspec": {
   "display_name": "Python 3",
   "language": "python",
   "name": "python3"
  },
  "language_info": {
   "codemirror_mode": {
    "name": "ipython",
    "version": 3
   },
   "file_extension": ".py",
   "mimetype": "text/x-python",
   "name": "python",
   "nbconvert_exporter": "python",
   "pygments_lexer": "ipython3",
   "version": "3.6.1"
  }
 },
 "nbformat": 4,
 "nbformat_minor": 2
}
