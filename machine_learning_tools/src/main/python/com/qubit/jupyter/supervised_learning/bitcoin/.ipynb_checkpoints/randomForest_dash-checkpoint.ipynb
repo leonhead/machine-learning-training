{
 "cells": [
  {
   "cell_type": "code",
   "execution_count": 7,
   "metadata": {},
   "outputs": [
    {
     "data": {
      "text/html": [
       "<div>\n",
       "<style>\n",
       "    .dataframe thead tr:only-child th {\n",
       "        text-align: right;\n",
       "    }\n",
       "\n",
       "    .dataframe thead th {\n",
       "        text-align: left;\n",
       "    }\n",
       "\n",
       "    .dataframe tbody tr th {\n",
       "        vertical-align: top;\n",
       "    }\n",
       "</style>\n",
       "<table border=\"1\" class=\"dataframe\">\n",
       "  <thead>\n",
       "    <tr style=\"text-align: right;\">\n",
       "      <th></th>\n",
       "      <th>Date_Time</th>\n",
       "      <th>Open</th>\n",
       "      <th>Max</th>\n",
       "      <th>Min</th>\n",
       "      <th>Close</th>\n",
       "      <th>Volume</th>\n",
       "    </tr>\n",
       "  </thead>\n",
       "  <tbody>\n",
       "    <tr>\n",
       "      <th>0</th>\n",
       "      <td>2017-05-15</td>\n",
       "      <td>86.90</td>\n",
       "      <td>93.81</td>\n",
       "      <td>84.76</td>\n",
       "      <td>92.85</td>\n",
       "      <td>651</td>\n",
       "    </tr>\n",
       "    <tr>\n",
       "      <th>1</th>\n",
       "      <td>2017-05-16</td>\n",
       "      <td>93.54</td>\n",
       "      <td>93.54</td>\n",
       "      <td>86.00</td>\n",
       "      <td>87.06</td>\n",
       "      <td>983</td>\n",
       "    </tr>\n",
       "    <tr>\n",
       "      <th>2</th>\n",
       "      <td>2017-05-17</td>\n",
       "      <td>87.06</td>\n",
       "      <td>91.14</td>\n",
       "      <td>79.73</td>\n",
       "      <td>84.20</td>\n",
       "      <td>907</td>\n",
       "    </tr>\n",
       "    <tr>\n",
       "      <th>3</th>\n",
       "      <td>2017-05-18</td>\n",
       "      <td>84.21</td>\n",
       "      <td>92.03</td>\n",
       "      <td>84.20</td>\n",
       "      <td>91.25</td>\n",
       "      <td>869</td>\n",
       "    </tr>\n",
       "    <tr>\n",
       "      <th>4</th>\n",
       "      <td>2017-05-19</td>\n",
       "      <td>92.11</td>\n",
       "      <td>102.31</td>\n",
       "      <td>86.17</td>\n",
       "      <td>97.84</td>\n",
       "      <td>1159</td>\n",
       "    </tr>\n",
       "  </tbody>\n",
       "</table>\n",
       "</div>"
      ],
      "text/plain": [
       "   Date_Time   Open     Max    Min  Close  Volume\n",
       "0 2017-05-15  86.90   93.81  84.76  92.85     651\n",
       "1 2017-05-16  93.54   93.54  86.00  87.06     983\n",
       "2 2017-05-17  87.06   91.14  79.73  84.20     907\n",
       "3 2017-05-18  84.21   92.03  84.20  91.25     869\n",
       "4 2017-05-19  92.11  102.31  86.17  97.84    1159"
      ]
     },
     "execution_count": 7,
     "metadata": {},
     "output_type": "execute_result"
    }
   ],
   "source": [
    "import pandas as pd\n",
    "import datetime\n",
    "import numpy as np\n",
    "import matplotlib.pyplot as plt\n",
    "from pandas_datareader import data\n",
    "%matplotlib inline\n",
    "\n",
    "dash = pd.read_csv('/home/ml/datasets/DASH1440.csv',delimiter=',', parse_dates=[['Date', 'Time']])\n",
    "dash.head()"
   ]
  },
  {
   "cell_type": "code",
   "execution_count": 8,
   "metadata": {},
   "outputs": [
    {
     "data": {
      "text/html": [
       "<div>\n",
       "<style>\n",
       "    .dataframe thead tr:only-child th {\n",
       "        text-align: right;\n",
       "    }\n",
       "\n",
       "    .dataframe thead th {\n",
       "        text-align: left;\n",
       "    }\n",
       "\n",
       "    .dataframe tbody tr th {\n",
       "        vertical-align: top;\n",
       "    }\n",
       "</style>\n",
       "<table border=\"1\" class=\"dataframe\">\n",
       "  <thead>\n",
       "    <tr style=\"text-align: right;\">\n",
       "      <th></th>\n",
       "      <th>Date_Time</th>\n",
       "      <th>Open</th>\n",
       "      <th>Max</th>\n",
       "      <th>Min</th>\n",
       "      <th>Close</th>\n",
       "      <th>Volume</th>\n",
       "      <th>Pct_Change</th>\n",
       "      <th>Direction</th>\n",
       "    </tr>\n",
       "  </thead>\n",
       "  <tbody>\n",
       "    <tr>\n",
       "      <th>0</th>\n",
       "      <td>2017-05-15</td>\n",
       "      <td>86.90</td>\n",
       "      <td>93.81</td>\n",
       "      <td>84.76</td>\n",
       "      <td>92.85</td>\n",
       "      <td>651</td>\n",
       "      <td>NaN</td>\n",
       "      <td>-1.0</td>\n",
       "    </tr>\n",
       "    <tr>\n",
       "      <th>1</th>\n",
       "      <td>2017-05-16</td>\n",
       "      <td>93.54</td>\n",
       "      <td>93.54</td>\n",
       "      <td>86.00</td>\n",
       "      <td>87.06</td>\n",
       "      <td>983</td>\n",
       "      <td>-0.062359</td>\n",
       "      <td>-1.0</td>\n",
       "    </tr>\n",
       "    <tr>\n",
       "      <th>2</th>\n",
       "      <td>2017-05-17</td>\n",
       "      <td>87.06</td>\n",
       "      <td>91.14</td>\n",
       "      <td>79.73</td>\n",
       "      <td>84.20</td>\n",
       "      <td>907</td>\n",
       "      <td>-0.032851</td>\n",
       "      <td>1.0</td>\n",
       "    </tr>\n",
       "    <tr>\n",
       "      <th>3</th>\n",
       "      <td>2017-05-18</td>\n",
       "      <td>84.21</td>\n",
       "      <td>92.03</td>\n",
       "      <td>84.20</td>\n",
       "      <td>91.25</td>\n",
       "      <td>869</td>\n",
       "      <td>0.083729</td>\n",
       "      <td>1.0</td>\n",
       "    </tr>\n",
       "    <tr>\n",
       "      <th>4</th>\n",
       "      <td>2017-05-19</td>\n",
       "      <td>92.11</td>\n",
       "      <td>102.31</td>\n",
       "      <td>86.17</td>\n",
       "      <td>97.84</td>\n",
       "      <td>1159</td>\n",
       "      <td>0.072219</td>\n",
       "      <td>1.0</td>\n",
       "    </tr>\n",
       "  </tbody>\n",
       "</table>\n",
       "</div>"
      ],
      "text/plain": [
       "   Date_Time   Open     Max    Min  Close  Volume  Pct_Change  Direction\n",
       "0 2017-05-15  86.90   93.81  84.76  92.85     651         NaN       -1.0\n",
       "1 2017-05-16  93.54   93.54  86.00  87.06     983   -0.062359       -1.0\n",
       "2 2017-05-17  87.06   91.14  79.73  84.20     907   -0.032851        1.0\n",
       "3 2017-05-18  84.21   92.03  84.20  91.25     869    0.083729        1.0\n",
       "4 2017-05-19  92.11  102.31  86.17  97.84    1159    0.072219        1.0"
      ]
     },
     "execution_count": 8,
     "metadata": {},
     "output_type": "execute_result"
    }
   ],
   "source": [
    "dash['Pct_Change'] = dash['Close'].pct_change()\n",
    "diff = np.ediff1d(dash[['Close']])\n",
    "diff_df = pd.DataFrame([dash.Close,np.ediff1d(dash[['Close']])], dtype=float)\n",
    "diff_array = np.sign(diff_df.values[1])\n",
    "dash['Direction'] = diff_array\n",
    "dash.head()\n",
    "#dash['Direction'] = np.sign(dash['Close'].pct_change())\n",
    "#dash = dash.dropna()\n",
    "#print(np.unique(dash.Direction))\n",
    "#dash.head()"
   ]
  },
  {
   "cell_type": "code",
   "execution_count": 9,
   "metadata": {
    "collapsed": true
   },
   "outputs": [],
   "source": [
    "dash['SMA15'] = dash['Close'].rolling(15).sum()"
   ]
  },
  {
   "cell_type": "code",
   "execution_count": 13,
   "metadata": {},
   "outputs": [],
   "source": [
    "dash = dash.dropna()"
   ]
  },
  {
   "cell_type": "code",
   "execution_count": 14,
   "metadata": {
    "collapsed": true
   },
   "outputs": [],
   "source": [
    "n_train = (dash['Date_Time'].count()*0.7).astype(int)\n",
    "\n",
    "X = dash[[\"Open\",\"Max\",\"Min\",\"Close\",\"Volume\",\"Pct_Change\",\"SMA15\"]]\n",
    "y = dash['Direction']\n",
    "\n",
    "X_train, X_test = X[:n_train], X[n_train:]\n",
    "y_train, y_test = y[:n_train], y[n_train:] "
   ]
  },
  {
   "cell_type": "code",
   "execution_count": 15,
   "metadata": {},
   "outputs": [
    {
     "data": {
      "text/plain": [
       "DecisionTreeClassifier(class_weight=None, criterion='gini', max_depth=5,\n",
       "            max_features=None, max_leaf_nodes=None,\n",
       "            min_impurity_split=1e-07, min_samples_leaf=1,\n",
       "            min_samples_split=2, min_weight_fraction_leaf=0.0,\n",
       "            presort=False, random_state=0, splitter='best')"
      ]
     },
     "execution_count": 15,
     "metadata": {},
     "output_type": "execute_result"
    }
   ],
   "source": [
    "from sklearn.tree import DecisionTreeClassifier \n",
    "\n",
    "tree = DecisionTreeClassifier(max_depth=5,random_state=0)\n",
    "tree.fit(X_train, y_train)"
   ]
  },
  {
   "cell_type": "code",
   "execution_count": 16,
   "metadata": {},
   "outputs": [
    {
     "name": "stdout",
     "output_type": "stream",
     "text": [
      "Genauigkeit auf den Trainingsdaten: 0.817\n",
      "Genauigkeit auf den Testdaten: 0.625\n"
     ]
    }
   ],
   "source": [
    "print(\"Genauigkeit auf den Trainingsdaten: {:.3f}\".format(tree.score(X_train, y_train)))\n",
    "print(\"Genauigkeit auf den Testdaten: {:.3f}\".format(tree.score(X_test, y_test)))"
   ]
  },
  {
   "cell_type": "code",
   "execution_count": 17,
   "metadata": {},
   "outputs": [
    {
     "name": "stdout",
     "output_type": "stream",
     "text": [
      "[-1.  0.  1.]\n"
     ]
    }
   ],
   "source": [
    "print(np.unique(dash.Direction))"
   ]
  },
  {
   "cell_type": "code",
   "execution_count": 19,
   "metadata": {},
   "outputs": [
    {
     "ename": "SyntaxError",
     "evalue": "invalid syntax (<ipython-input-19-b658d2e21489>, line 2)",
     "output_type": "error",
     "traceback": [
      "\u001b[0;36m  File \u001b[0;32m\"<ipython-input-19-b658d2e21489>\"\u001b[0;36m, line \u001b[0;32m2\u001b[0m\n\u001b[0;31m    export_graphviz(tree, out_file=\"tree.dot\", class_names=[\"-1\", \"0\", \"1\"], feature_names=[\"Open\",\"Max\",\"Min\",\"Close\",\"Volume\",\"Pct_Change\",\"SMA15\", impurity=False, filled=True)\u001b[0m\n\u001b[0m                                                                                                                                                              ^\u001b[0m\n\u001b[0;31mSyntaxError\u001b[0m\u001b[0;31m:\u001b[0m invalid syntax\n"
     ]
    }
   ],
   "source": [
    "from sklearn.tree import export_graphviz\n",
    "export_graphviz(tree, out_file=\"tree.dot\", class_names=[\"-1\", \"0\", \"1\"], feature_names=[\"Open\",\"Max\",\"Min\",\"Close\",\"Volume\",\"Pct_Change\",\"SMA15\"], impurity=False, filled=True)\n"
   ]
  },
  {
   "cell_type": "code",
   "execution_count": 8,
   "metadata": {},
   "outputs": [
    {
     "data": {
      "image/svg+xml": [
       "<?xml version=\"1.0\" encoding=\"UTF-8\" standalone=\"no\"?>\n",
       "<!DOCTYPE svg PUBLIC \"-//W3C//DTD SVG 1.1//EN\"\n",
       " \"http://www.w3.org/Graphics/SVG/1.1/DTD/svg11.dtd\">\n",
       "<!-- Generated by graphviz version 2.38.0 (20140413.2041)\n",
       " -->\n",
       "<!-- Title: Tree Pages: 1 -->\n",
       "<svg width=\"334pt\" height=\"269pt\"\n",
       " viewBox=\"0.00 0.00 334.00 269.00\" xmlns=\"http://www.w3.org/2000/svg\" xmlns:xlink=\"http://www.w3.org/1999/xlink\">\n",
       "<g id=\"graph0\" class=\"graph\" transform=\"scale(1 1) rotate(0) translate(4 265)\">\n",
       "<title>Tree</title>\n",
       "<polygon fill=\"white\" stroke=\"none\" points=\"-4,4 -4,-265 330,-265 330,4 -4,4\"/>\n",
       "<!-- 0 -->\n",
       "<g id=\"node1\" class=\"node\"><title>0</title>\n",
       "<polygon fill=\"#8139e5\" fill-opacity=\"0.309804\" stroke=\"black\" points=\"266,-261 123,-261 123,-193 266,-193 266,-261\"/>\n",
       "<text text-anchor=\"middle\" x=\"194.5\" y=\"-245.8\" font-family=\"Times,serif\" font-size=\"14.00\">Pct_Change &lt;= 0.0009</text>\n",
       "<text text-anchor=\"middle\" x=\"194.5\" y=\"-230.8\" font-family=\"Times,serif\" font-size=\"14.00\">samples = 102</text>\n",
       "<text text-anchor=\"middle\" x=\"194.5\" y=\"-215.8\" font-family=\"Times,serif\" font-size=\"14.00\">value = [41, 1, 60]</text>\n",
       "<text text-anchor=\"middle\" x=\"194.5\" y=\"-200.8\" font-family=\"Times,serif\" font-size=\"14.00\">class = 1</text>\n",
       "</g>\n",
       "<!-- 1 -->\n",
       "<g id=\"node2\" class=\"node\"><title>1</title>\n",
       "<polygon fill=\"#e58139\" fill-opacity=\"0.976471\" stroke=\"black\" points=\"194.5,-157 46.5,-157 46.5,-89 194.5,-89 194.5,-157\"/>\n",
       "<text text-anchor=\"middle\" x=\"120.5\" y=\"-141.8\" font-family=\"Times,serif\" font-size=\"14.00\">Pct_Change &lt;= &#45;0.0005</text>\n",
       "<text text-anchor=\"middle\" x=\"120.5\" y=\"-126.8\" font-family=\"Times,serif\" font-size=\"14.00\">samples = 42</text>\n",
       "<text text-anchor=\"middle\" x=\"120.5\" y=\"-111.8\" font-family=\"Times,serif\" font-size=\"14.00\">value = [41, 1, 0]</text>\n",
       "<text text-anchor=\"middle\" x=\"120.5\" y=\"-96.8\" font-family=\"Times,serif\" font-size=\"14.00\">class = &#45;1</text>\n",
       "</g>\n",
       "<!-- 0&#45;&gt;1 -->\n",
       "<g id=\"edge1\" class=\"edge\"><title>0&#45;&gt;1</title>\n",
       "<path fill=\"none\" stroke=\"black\" d=\"M170.474,-192.884C164.141,-184.154 157.228,-174.625 150.618,-165.514\"/>\n",
       "<polygon fill=\"black\" stroke=\"black\" points=\"153.364,-163.338 144.658,-157.299 147.698,-167.449 153.364,-163.338\"/>\n",
       "<text text-anchor=\"middle\" x=\"140.73\" y=\"-178.289\" font-family=\"Times,serif\" font-size=\"14.00\">True</text>\n",
       "</g>\n",
       "<!-- 4 -->\n",
       "<g id=\"node5\" class=\"node\"><title>4</title>\n",
       "<polygon fill=\"#8139e5\" stroke=\"black\" points=\"326,-149.5 213,-149.5 213,-96.5 326,-96.5 326,-149.5\"/>\n",
       "<text text-anchor=\"middle\" x=\"269.5\" y=\"-134.3\" font-family=\"Times,serif\" font-size=\"14.00\">samples = 60</text>\n",
       "<text text-anchor=\"middle\" x=\"269.5\" y=\"-119.3\" font-family=\"Times,serif\" font-size=\"14.00\">value = [0, 0, 60]</text>\n",
       "<text text-anchor=\"middle\" x=\"269.5\" y=\"-104.3\" font-family=\"Times,serif\" font-size=\"14.00\">class = 1</text>\n",
       "</g>\n",
       "<!-- 0&#45;&gt;4 -->\n",
       "<g id=\"edge4\" class=\"edge\"><title>0&#45;&gt;4</title>\n",
       "<path fill=\"none\" stroke=\"black\" d=\"M218.85,-192.884C227.099,-181.666 236.319,-169.126 244.609,-157.852\"/>\n",
       "<polygon fill=\"black\" stroke=\"black\" points=\"247.631,-159.65 250.735,-149.52 241.992,-155.503 247.631,-159.65\"/>\n",
       "<text text-anchor=\"middle\" x=\"254.505\" y=\"-170.534\" font-family=\"Times,serif\" font-size=\"14.00\">False</text>\n",
       "</g>\n",
       "<!-- 2 -->\n",
       "<g id=\"node3\" class=\"node\"><title>2</title>\n",
       "<polygon fill=\"#e58139\" stroke=\"black\" points=\"113,-53 0,-53 0,-0 113,-0 113,-53\"/>\n",
       "<text text-anchor=\"middle\" x=\"56.5\" y=\"-37.8\" font-family=\"Times,serif\" font-size=\"14.00\">samples = 41</text>\n",
       "<text text-anchor=\"middle\" x=\"56.5\" y=\"-22.8\" font-family=\"Times,serif\" font-size=\"14.00\">value = [41, 0, 0]</text>\n",
       "<text text-anchor=\"middle\" x=\"56.5\" y=\"-7.8\" font-family=\"Times,serif\" font-size=\"14.00\">class = &#45;1</text>\n",
       "</g>\n",
       "<!-- 1&#45;&gt;2 -->\n",
       "<g id=\"edge2\" class=\"edge\"><title>1&#45;&gt;2</title>\n",
       "<path fill=\"none\" stroke=\"black\" d=\"M98.1159,-88.9485C92.1063,-80.0749 85.5979,-70.4648 79.5527,-61.5388\"/>\n",
       "<polygon fill=\"black\" stroke=\"black\" points=\"82.4357,-59.5539 73.9301,-53.2367 76.6398,-63.4792 82.4357,-59.5539\"/>\n",
       "</g>\n",
       "<!-- 3 -->\n",
       "<g id=\"node4\" class=\"node\"><title>3</title>\n",
       "<polygon fill=\"#39e581\" stroke=\"black\" points=\"237.5,-53 131.5,-53 131.5,-0 237.5,-0 237.5,-53\"/>\n",
       "<text text-anchor=\"middle\" x=\"184.5\" y=\"-37.8\" font-family=\"Times,serif\" font-size=\"14.00\">samples = 1</text>\n",
       "<text text-anchor=\"middle\" x=\"184.5\" y=\"-22.8\" font-family=\"Times,serif\" font-size=\"14.00\">value = [0, 1, 0]</text>\n",
       "<text text-anchor=\"middle\" x=\"184.5\" y=\"-7.8\" font-family=\"Times,serif\" font-size=\"14.00\">class = 0</text>\n",
       "</g>\n",
       "<!-- 1&#45;&gt;3 -->\n",
       "<g id=\"edge3\" class=\"edge\"><title>1&#45;&gt;3</title>\n",
       "<path fill=\"none\" stroke=\"black\" d=\"M142.884,-88.9485C148.894,-80.0749 155.402,-70.4648 161.447,-61.5388\"/>\n",
       "<polygon fill=\"black\" stroke=\"black\" points=\"164.36,-63.4792 167.07,-53.2367 158.564,-59.5539 164.36,-63.4792\"/>\n",
       "</g>\n",
       "</g>\n",
       "</svg>\n"
      ],
      "text/plain": [
       "<graphviz.files.Source at 0x7f34e55366a0>"
      ]
     },
     "execution_count": 8,
     "metadata": {},
     "output_type": "execute_result"
    }
   ],
   "source": [
    "import graphviz\n",
    "\n",
    "with open(\"tree.dot\") as f:\n",
    "    dot_graph = f.read()\n",
    "graphviz.Source(dot_graph)"
   ]
  },
  {
   "cell_type": "code",
   "execution_count": null,
   "metadata": {
    "collapsed": true
   },
   "outputs": [],
   "source": []
  },
  {
   "cell_type": "code",
   "execution_count": null,
   "metadata": {
    "collapsed": true
   },
   "outputs": [],
   "source": []
  }
 ],
 "metadata": {
  "kernelspec": {
   "display_name": "Python 3",
   "language": "python",
   "name": "python3"
  },
  "language_info": {
   "codemirror_mode": {
    "name": "ipython",
    "version": 3
   },
   "file_extension": ".py",
   "mimetype": "text/x-python",
   "name": "python",
   "nbconvert_exporter": "python",
   "pygments_lexer": "ipython3",
   "version": "3.6.1"
  }
 },
 "nbformat": 4,
 "nbformat_minor": 2
}
