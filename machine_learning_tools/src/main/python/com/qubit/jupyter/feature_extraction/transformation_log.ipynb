{
 "cells": [
  {
   "cell_type": "code",
   "execution_count": 39,
   "metadata": {},
   "outputs": [
    {
     "name": "stdout",
     "output_type": "stream",
     "text": [
      "X.shape: (1000, 3)\n",
      "Häufigkeit von Merkmalen:\n",
      "[28 38 68 48 61 59 45 56 37 40 35 34 36 26 23 26 27 21 23 23 18 21 10  9 17\n",
      "  9  7 14 12  7  3  8  4  5  5  3  4  2  4  1  1  3  2  5  3  8  2  5  2  1\n",
      "  2  3  3  2  2  3  3  0  1  2  1  0  0  3  1  0  0  0  1  3  0  1  0  2  0\n",
      "  1  1  0  0  0  0  1  0  0  2  2  0  1  1  0  0  0  0  1  1  0  0  0  0  0\n",
      "  0  0  1  0  0  0  0  0  1  1  0  0  1  0  0  0  0  0  0  0  1  0  0  0  0\n",
      "  1  0  0  0  0  0  0  0  0  0  0  0  0  0  0  1]\n",
      "Häufigkeit von Merkmalen:\n",
      "[17 67 49 66 59 64 46 52 46 36 31 33 35 24 27 33 25 21 17 16 11 11 12 11 11\n",
      "  8  5  8 10 13  6  8  4  1  6  7  3  6  7  3  5  2  4  5  3  2  5  4  2  0\n",
      "  1  1  0  4  0  4  2  2  1  0  3  1  1  2  1  0  1  3  3  0  1  0  0  0  0\n",
      "  1  2  2  0  0  1  0  2  0  0  1  0  0  0  0  0  1  0  0  0  0  2  1  0  0\n",
      "  0  0  0  0  0  0  1  0  0  0  0  1  0  0  0  0  0  0  0  0  0  0  0  0  0\n",
      "  0  0  1  0  0  0  0  1  1  0  0  0  0  0  1  0  0  0  0  0  0  0  1  0  0\n",
      "  0  0  0  0  0  0  0  0  0  0  0  0  0  0  0  0  0  0  0  0  0  0  0  0  0\n",
      "  1  0  0  0  0  0  0  0  0  0  0  0  0  0  0  0  0  0  0  0  0  0  0  0  0\n",
      "  0  0  0  0  0  0  0  0  0  0  0  0  0  0  0  0  0  0  0  0  0  0  0  0  0\n",
      "  0  0  0  0  0  0  0  0  0  0  0  0  0  0  0  0  0  0  0  0  0  0  0  1]\n",
      "Häufigkeit von Merkmalen:\n",
      "[15 47 56 71 62 71 61 38 48 42 43 25 26 31 29 24 29 22 16 16 10  4 12 10 16\n",
      " 13 13  7  5  8  5  8  7  5  2  8  3  3  4  3  8  6  3  3  2  2  1  2  3  2\n",
      "  0  0  1  3  4  4  1  0  1  2  1  2  2  3  1  1  1  1  0  0  1  3  0  0  0\n",
      "  1  2  1  2  0  0  1  0  0  0  0  0  0  0  0  1  0  0  1  0  1  1  0  1  0\n",
      "  0  1  0  0  1  0  0  1  0  0  0  0  0  0  1  0  0  0  0  0  0  0  0  0  0\n",
      "  0  0  0  0  0  0  0  0  0  0  0  0  0  0  0  0  0  0  1  0  0  0  0  0  0\n",
      "  0  0  0  0  0  0  0  0  0  0  0  0  0  0  0  0  0  0  0  0  0  0  0  0  0\n",
      "  0  0  0  0  0  0  0  0  0  0  0  0  0  0  0  0  0  0  0  0  0  0  0  0  0\n",
      "  0  0  0  0  0  0  0  0  0  0  0  0  0  0  0  1]\n"
     ]
    }
   ],
   "source": [
    "import numpy as np\n",
    "import matplotlib.pyplot as plt\n",
    "%matplotlib inline\n",
    "\n",
    "rnd = np.random.RandomState(0)\n",
    "X_org = rnd.normal(size=(1000,3))\n",
    "w = rnd.normal(size=3)\n",
    "\n",
    "X = rnd.poisson(10 * np.exp(X_org))\n",
    "y = np.dot(X_org, w)\n",
    "\n",
    "print(\"X.shape: {}\".format(X.shape))\n",
    "print(\"Häufigkeit von Merkmalen:\\n{}\".format(np.bincount(X[:, 0])))\n",
    "print(\"Häufigkeit von Merkmalen:\\n{}\".format(np.bincount(X[:, 1])))\n",
    "print(\"Häufigkeit von Merkmalen:\\n{}\".format(np.bincount(X[:, 2])))"
   ]
  },
  {
   "cell_type": "code",
   "execution_count": 47,
   "metadata": {},
   "outputs": [
    {
     "data": {
      "image/png": "[encoded data removed]",
      "text/plain": [
       "<matplotlib.figure.Figure at 0x7f363552ddd8>"
      ]
     },
     "metadata": {},
     "output_type": "display_data"
    }
   ],
   "source": [
    "bins = np.bincount(X[:, 0])\n",
    "bins_1 = np.bincount(X[:, 1])\n",
    "bins_2 = np.bincount(X[:, 2])\n",
    "\n",
    "plt.figure(1)\n",
    "#plt.subplot(311)\n",
    "plt.bar(range(len(bins)), bins, color=\"k\")\n",
    "plt.title(\"Merkmal 0\")\n",
    "#plt.subplot(312)\n",
    "#plt.bar(range(len(bins_1)), bins_1, color=\"k\")\n",
    "#plt.title(\"Merkmal 1\")\n",
    "#plt.subplot(313)\n",
    "#plt.bar(range(len(bins_2)), bins_2, color=\"k\")\n",
    "#plt.title(\"Merkmal 2\")\n",
    "\n",
    "plt.tight_layout()\n"
   ]
  },
  {
   "cell_type": "code",
   "execution_count": 48,
   "metadata": {},
   "outputs": [
    {
     "name": "stdout",
     "output_type": "stream",
     "text": [
      "Test Score: 0.622\n"
     ]
    }
   ],
   "source": [
    "from sklearn.linear_model import Ridge\n",
    "from sklearn.model_selection import train_test_split\n",
    "\n",
    "# random_state is the seed for the random genrator, test_size default: 0.25\n",
    "X_train, X_test, y_train, y_test = train_test_split(X, y, random_state=0)\n",
    "score = Ridge().fit(X_train, y_train).score(X_test, y_test)\n",
    "print(\"Test Score: {:.3f}\".format(score))"
   ]
  },
  {
   "cell_type": "code",
   "execution_count": 52,
   "metadata": {},
   "outputs": [
    {
     "data": {
      "text/plain": [
       "<matplotlib.text.Text at 0x7f36353e54e0>"
      ]
     },
     "execution_count": 52,
     "metadata": {},
     "output_type": "execute_result"
    },
    {
     "data": {
      "image/png": "[encoded data removed]",
      "text/plain": [
       "<matplotlib.figure.Figure at 0x7f3647884e10>"
      ]
     },
     "metadata": {},
     "output_type": "display_data"
    }
   ],
   "source": [
    "X_train_log = np.log(X_train+1)\n",
    "X_test_log = np.log(X_test+1)\n",
    "\n",
    "plt.hist(X_train_log[:,0], bins=25, color='k')\n",
    "plt.ylabel(\"Häufigkeit\")\n",
    "plt.xlabel(\"Wert\")"
   ]
  },
  {
   "cell_type": "code",
   "execution_count": 53,
   "metadata": {},
   "outputs": [
    {
     "name": "stdout",
     "output_type": "stream",
     "text": [
      "Test Score: 0.875\n"
     ]
    }
   ],
   "source": [
    "score = Ridge().fit(X_train_log, y_train).score(X_test_log, y_test)\n",
    "print(\"Test Score: {:.3f}\".format(score))"
   ]
  },
  {
   "cell_type": "code",
   "execution_count": null,
   "metadata": {
    "collapsed": true
   },
   "outputs": [],
   "source": []
  }
 ],
 "metadata": {
  "kernelspec": {
   "display_name": "Python 3",
   "language": "python",
   "name": "python3"
  },
  "language_info": {
   "codemirror_mode": {
    "name": "ipython",
    "version": 3
   },
   "file_extension": ".py",
   "mimetype": "text/x-python",
   "name": "python",
   "nbconvert_exporter": "python",
   "pygments_lexer": "ipython3",
   "version": "3.6.1"
  }
 },
 "nbformat": 4,
 "nbformat_minor": 2
}
